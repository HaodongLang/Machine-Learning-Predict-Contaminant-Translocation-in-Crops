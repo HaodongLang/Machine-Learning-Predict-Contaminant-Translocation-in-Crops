{
 "cells": [
  {
   "cell_type": "code",
   "execution_count": 79,
   "metadata": {},
   "outputs": [],
   "source": [
    "import pandas as pd\n",
    "import numpy as np\n",
    "import scipy\n",
    "from collections import Counter\n",
    "import seaborn as sns\n",
    "import matplotlib.pyplot as plt\n",
    "from matplotlib.font_manager import FontProperties"
   ]
  },
  {
   "cell_type": "code",
   "execution_count": 80,
   "metadata": {},
   "outputs": [],
   "source": [
    "from sklearn.ensemble import GradientBoostingRegressor\n",
    "\n",
    "from sklearn.inspection import permutation_importance"
   ]
  },
  {
   "cell_type": "code",
   "execution_count": 81,
   "metadata": {},
   "outputs": [],
   "source": [
    "from rdkit import Chem\n",
    "from rdkit.Chem import AllChem\n",
    "from IPython.display import SVG\n",
    "from rdkit.Chem import rdDepictor\n",
    "from rdkit.Chem.Draw import rdMolDraw2D\n",
    "from utility import depictBit,Kfold"
   ]
  },
  {
   "cell_type": "code",
   "execution_count": 82,
   "metadata": {},
   "outputs": [],
   "source": [
    "#=================run below codes to preprocess data========================="
   ]
  },
  {
   "cell_type": "code",
   "execution_count": 83,
   "metadata": {},
   "outputs": [
    {
     "name": "stdout",
     "output_type": "stream",
     "text": [
      "reading data\n",
      "reading data finished\n"
     ]
    }
   ],
   "source": [
    "print('reading data')\n",
    "pest_data=pd.read_excel('../data/data_final.xlsx',sheet_name=\"pesticide\")\n",
    "PPCPs_data=pd.read_excel('../data/data_final.xlsx',sheet_name=\"PPCPs\")\n",
    "other_data=pd.read_excel('../data/data_final.xlsx',sheet_name=\"other\")\n",
    "\n",
    "data = pd.concat([pest_data,PPCPs_data,other_data],ignore_index=True)\n",
    "print('reading data finished')"
   ]
  },
  {
   "cell_type": "code",
   "execution_count": 84,
   "metadata": {},
   "outputs": [
    {
     "name": "stdout",
     "output_type": "stream",
     "text": [
      "statr generating ECFP\n",
      "finish generating ECFP\n",
      "start 5-fold cross-validation for GBRT-ECFP model\n"
     ]
    }
   ],
   "source": [
    "SMILES = data['SMILES'].to_numpy()\n",
    "flipid = data['flipid'].to_numpy().reshape(-1,1)\n",
    "RCF_soil = data['log RCF'].to_numpy().reshape(-1,1)\n",
    "TF = data['log TF'].to_numpy().reshape(-1,1)\n",
    "#generate ECFP for all molecules\n",
    "print('statr generating ECFP')\n",
    "FP = []\n",
    "\n",
    "for i,sm in enumerate(SMILES):\n",
    "    mol = Chem.MolFromSmiles(sm)\n",
    "    fp = AllChem.GetMorganFingerprintAsBitVect(mol,2,nBits=1024)\n",
    "    FP.append(fp)\n",
    "FP = np.array(FP)\n",
    "print('finish generating ECFP')\n",
    "\n",
    "n_sample = len(TF)\n",
    "\n",
    "print('start 5-fold cross-validation for GBRT-ECFP model')\n",
    "feature_w_smiles = np.concatenate((FP,RCF_soil,flipid),1)\n",
    "feature_w_smiles_z = scipy.stats.mstats.zscore(feature_w_smiles,0)\n",
    "feature_w_smiles_z[np.isnan(feature_w_smiles_z)] = 0\n",
    "arr=np.arange(n_sample)\n",
    "np.random.shuffle(arr)\n",
    "np.save(\"sample_index.npy\",arr)\n",
    "total_id = np.load('sample_index.npy')\n"
   ]
  },
  {
   "cell_type": "code",
   "execution_count": 107,
   "metadata": {},
   "outputs": [
    {
     "name": "stdout",
     "output_type": "stream",
     "text": [
      "batch is  0\n"
     ]
    },
    {
     "name": "stderr",
     "output_type": "stream",
     "text": [
      "E:\\anaconda3\\Lib\\site-packages\\sklearn\\ensemble\\_gb.py:424: DataConversionWarning: A column-vector y was passed when a 1d array was expected. Please change the shape of y to (n_samples, ), for example using ravel().\n",
      "  y = column_or_1d(y, warn=True)\n"
     ]
    },
    {
     "name": "stdout",
     "output_type": "stream",
     "text": [
      "0.550064488531835\n",
      "best n_estimator is 200\n",
      "best depth is 10\n",
      "feature importance [1.65139253e-12 9.59268828e-04 0.00000000e+00 ... 0.00000000e+00\n",
      " 1.88057464e-01 2.36761528e-01]\n",
      "batch is  1\n"
     ]
    },
    {
     "name": "stderr",
     "output_type": "stream",
     "text": [
      "E:\\anaconda3\\Lib\\site-packages\\sklearn\\ensemble\\_gb.py:424: DataConversionWarning: A column-vector y was passed when a 1d array was expected. Please change the shape of y to (n_samples, ), for example using ravel().\n",
      "  y = column_or_1d(y, warn=True)\n"
     ]
    },
    {
     "name": "stdout",
     "output_type": "stream",
     "text": [
      "0.7350811070685763\n",
      "best n_estimator is 1000\n",
      "best depth is 6\n",
      "feature importance [0.00000000e+00 4.01145447e-05 0.00000000e+00 ... 0.00000000e+00\n",
      " 5.10091010e-01 8.48683186e-02]\n",
      "batch is  2\n"
     ]
    },
    {
     "name": "stderr",
     "output_type": "stream",
     "text": [
      "E:\\anaconda3\\Lib\\site-packages\\sklearn\\ensemble\\_gb.py:424: DataConversionWarning: A column-vector y was passed when a 1d array was expected. Please change the shape of y to (n_samples, ), for example using ravel().\n",
      "  y = column_or_1d(y, warn=True)\n"
     ]
    },
    {
     "name": "stdout",
     "output_type": "stream",
     "text": [
      "0.5687055937709555\n",
      "best n_estimator is 250\n",
      "best depth is 10\n",
      "feature importance [0.00000000e+00 3.07629327e-04 0.00000000e+00 ... 0.00000000e+00\n",
      " 5.63164505e-01 1.52194301e-01]\n",
      "batch is  3\n"
     ]
    },
    {
     "name": "stderr",
     "output_type": "stream",
     "text": [
      "E:\\anaconda3\\Lib\\site-packages\\sklearn\\ensemble\\_gb.py:424: DataConversionWarning: A column-vector y was passed when a 1d array was expected. Please change the shape of y to (n_samples, ), for example using ravel().\n",
      "  y = column_or_1d(y, warn=True)\n"
     ]
    },
    {
     "name": "stdout",
     "output_type": "stream",
     "text": [
      "0.6731866462746254\n",
      "best n_estimator is 750\n",
      "best depth is 10\n",
      "feature importance [1.85838058e-08 2.64728982e-04 0.00000000e+00 ... 0.00000000e+00\n",
      " 2.71336419e-01 1.36505128e-01]\n",
      "batch is  4\n"
     ]
    },
    {
     "name": "stderr",
     "output_type": "stream",
     "text": [
      "E:\\anaconda3\\Lib\\site-packages\\sklearn\\ensemble\\_gb.py:424: DataConversionWarning: A column-vector y was passed when a 1d array was expected. Please change the shape of y to (n_samples, ), for example using ravel().\n",
      "  y = column_or_1d(y, warn=True)\n"
     ]
    },
    {
     "name": "stdout",
     "output_type": "stream",
     "text": [
      "0.3891251577168915\n",
      "best n_estimator is 1250\n",
      "best depth is 10\n",
      "feature importance [6.63690377e-06 4.35975262e-04 0.00000000e+00 ... 0.00000000e+00\n",
      " 1.20241770e-01 1.50392772e-01]\n",
      "final test score is 0.5832325986725768\n"
     ]
    }
   ],
   "source": [
    "train_split_index,test_split_index = Kfold(n_sample,5)\n",
    "importance_=[]\n",
    "splits = 5\n",
    "prediction_w_smiles = []\n",
    "prediction_true_w_smiles = []\n",
    "test_score_all_w_smiles = []\n",
    "feature_importance_all_w_smiles = []\n",
    "test_score_all = []\n",
    "\n",
    "importance_all_dots_w_smiles_test = []\n",
    "permute_importance_all_w_smiles_test = []\n",
    "\n",
    "importance_all_dots_w_smiles_train = []\n",
    "permute_importance_all_w_smiles_train = []\n",
    "\n",
    "for k in range(splits):\n",
    "    \n",
    "    print('batch is ',k)\n",
    "    train_index = train_split_index[k][:int(len(train_split_index[k])*0.875)]\n",
    "    valid_index = train_split_index[k][int(len(train_split_index[k])*0.875):]\n",
    "    test_index = test_split_index[k]\n",
    "    \n",
    "    train_id = [total_id[i] for i in train_index]\n",
    "    valid_id = [total_id[i] for i in valid_index]\n",
    "    test_id = [total_id[i] for i in test_index]\n",
    "    \n",
    "    train_feature = [feature_w_smiles_z[i] for i in train_id]\n",
    "    train_label = [TF[i] for i in train_id]\n",
    "    \n",
    "    valid_feature = [feature_w_smiles_z[i] for i in valid_id]\n",
    "    valid_label = [TF[i] for i in valid_id]\n",
    "    \n",
    "    test_feature = [feature_w_smiles_z[i] for i in test_id]\n",
    "    test_label = [TF[i] for i in test_id]\n",
    "    \n",
    "    n_estimator = [200,250,500,750,1000,1250]\n",
    "    max_depths = [2,4,6,8,10]\n",
    "    \n",
    "    best_valid_score = 0\n",
    "    for ne in n_estimator:\n",
    "        for m_d in max_depths:\n",
    "            model = GradientBoostingRegressor(n_estimators=ne,max_depth=m_d,max_features=512)\n",
    "            model.fit(np.array(train_feature),np.array(train_label).reshape(-1))\n",
    "            valid_score = model.score(valid_feature,np.array(valid_label).reshape(-1,1))\n",
    "            if valid_score>best_valid_score:\n",
    "                best_valid_score = valid_score\n",
    "                test_score = model.score(test_feature,np.array(test_label).reshape(-1,1))                \n",
    "                pred = model.predict(test_feature)\n",
    "                best_n = ne\n",
    "                best_d = m_d\n",
    "    \n",
    "    model = GradientBoostingRegressor(n_estimators=best_n,max_depth=best_d).fit(np.array(train_feature),np.array(train_label))\n",
    "    \n",
    "    permut_importance_test = permutation_importance(model,test_feature,np.array(test_label),n_repeats=5)\n",
    "    \n",
    "    #plot_partial_dependence(model, np.array(train_feature)[:,-2].reshape(-1,1),['OM'],np.array(['OM']))\n",
    "    #plot_partial_dependence(model, np.array(train_feature)[:,-1].reshape(-1,1),['flipid'],np.array(['flipid']))\n",
    "    \n",
    "    #permut_importance_train = permutation_importance(model,np.array(train_feature),np.array(train_label),n_repeats=10)\n",
    "    #importance_all_dots_w_smiles_train.append(permut_importance_train.importances)\n",
    "    \n",
    "    print(test_score)\n",
    "    test_score_all.append(test_score)\n",
    "    prediction_w_smiles.append(pred)\n",
    "    prediction_true_w_smiles.append(test_label)\n",
    "    test_score_all_w_smiles.append(test_score)\n",
    "    feature_importance_all_w_smiles.append(model.feature_importances_)\n",
    "    importance_.append(permut_importance_test.importances)\n",
    "    permute_importance_all_w_smiles_test.append(permut_importance_test.importances_mean)\n",
    "    #permute_importance_all_w_smiles_train.append(permut_importance_train.importances_mean)\n",
    "    print('best n_estimator is',best_n)\n",
    "    print('best depth is',best_d)\n",
    "    print('feature importance',model.feature_importances_)\n",
    "print(\"final test score is\",np.mean(test_score_all))"
   ]
  },
  {
   "cell_type": "code",
   "execution_count": 108,
   "metadata": {},
   "outputs": [],
   "source": [
    "#example of generating substructures from permutation importance"
   ]
  },
  {
   "cell_type": "code",
   "execution_count": 114,
   "metadata": {},
   "outputs": [],
   "source": [
    "mean_feature_importance_all_permute_smiles_test = np.mean(permute_importance_all_w_smiles_test,0)"
   ]
  },
  {
   "cell_type": "code",
   "execution_count": 115,
   "metadata": {},
   "outputs": [],
   "source": [
    "sorted_feature_imporatnce_idx_permute_smiles_test = np.argsort(mean_feature_importance_all_permute_smiles_test[:-2])[::-1]\n",
    "top_10_permute = sorted_feature_imporatnce_idx_permute_smiles_test[:10]"
   ]
  },
  {
   "cell_type": "code",
   "execution_count": 116,
   "metadata": {},
   "outputs": [
    {
     "name": "stdout",
     "output_type": "stream",
     "text": [
      "The top 10 most important substructure id from permutation importance is [ 80 656 561 725  75 428 734 175 192 203]\n",
      "mean_feature_importance_all_permute_smiles_test is [0.00031986 0.00217823 0.         0.         0.0002012 ]\n"
     ]
    }
   ],
   "source": [
    "#There could be slightly difference due to random shuffle and/or package versions\n",
    "mean_feature_importance_all_impurity_smiles=np.mean(feature_importance_all_w_smiles,0)\n",
    "print('The top 10 most important substructure id from permutation importance is',top_10_permute)\n",
    "print(\"mean_feature_importance_all_permute_smiles_test is\",mean_feature_importance_all_permute_smiles_test[:5])"
   ]
  },
  {
   "cell_type": "code",
   "execution_count": 117,
   "metadata": {},
   "outputs": [
    {
     "name": "stdout",
     "output_type": "stream",
     "text": [
      "[0.1889267792712387, 0.0009080423755425393, 0.021144504045739865, 0.0011155910792927104, -1.0430630276059283e-05]\n",
      "[4 1 3 2 0]\n"
     ]
    }
   ],
   "source": [
    "top0 = []\n",
    "top1 = []\n",
    "top2 = []\n",
    "top3 = []\n",
    "top4 = []\n",
    "for i in range(5):\n",
    "    top0.append(importance_[i][top_10_permute[0]])\n",
    "top0 = np.array(top0).flatten()\n",
    "for i in range(5):\n",
    "    top1.append(importance_[i][top_10_permute[1]])\n",
    "top1 = np.array(top1).flatten()\n",
    "for i in range(5):\n",
    "    top2.append(importance_[i][top_10_permute[2]])\n",
    "top2 = np.array(top2).flatten()\n",
    "for i in range(5):\n",
    "    top3.append(importance_[i][top_10_permute[3]])\n",
    "top3 = np.array(top3).flatten()\n",
    "for i in range(5):\n",
    "    top4.append(importance_[i][top_10_permute[4]])\n",
    "top4 = np.array(top4).flatten()\n",
    "rank = []\n",
    "rank.append(np.median(top0))\n",
    "rank.append(np.median(top1))\n",
    "rank.append(np.median(top2))\n",
    "rank.append(np.median(top3))\n",
    "rank.append(np.median(top4))\n",
    "print(rank)\n",
    "print(np.argsort(rank))"
   ]
  },
  {
   "cell_type": "code",
   "execution_count": 118,
   "metadata": {},
   "outputs": [
    {
     "data": {
      "image/png": "[encoded data removed]",
      "text/plain": [
       "<Figure size 640x480 with 1 Axes>"
      ]
     },
     "metadata": {},
     "output_type": "display_data"
    },
    {
     "data": {
      "image/png": "[encoded data removed]",
      "text/plain": [
       "<Figure size 900x900 with 1 Axes>"
      ]
     },
     "metadata": {},
     "output_type": "display_data"
    }
   ],
   "source": [
    "fig, ax = plt.subplots()\n",
    "fig = plt.figure(figsize=(9,9))\n",
    "# 设置全局字体样式\n",
    "plt.rcParams['font.family'] = 'serif'  # 使用衬线字体\n",
    "plt.rcParams['font.weight'] = 'bold'   # 设置字体加粗\n",
    "plt.rcParams['font.serif'] = ['Times New Roman'] # 设置全局字体样式\n",
    "data = {}\n",
    "data['top0']=top0\n",
    "data['top1']=top2\n",
    "data['top2']=top3\n",
    "data['top3']=top4\n",
    "data['top4']=top1\n",
    "df=pd.DataFrame(data)\n",
    "df.insert(0,'D',None)\n",
    "sns.swarmplot(data=df,size=3,ax=ax)\n",
    "boxplots = ax.boxplot([top0, top1, top2,top3,top4], patch_artist=True,\n",
    "                      boxprops=dict(linestyle='-', linewidth=1.5, color='black'),  # 盒子边框线条\n",
    "                      medianprops=dict(linestyle='-', linewidth=1.5, color='red'),  # 中位数线\n",
    "                      whiskerprops=dict(linestyle='-', linewidth=1.5, color='black'),  # 上下限线\n",
    "                      capprops=dict(linestyle='-', linewidth=1.5, color='black'))\n",
    "colors = ['pink', '#90EE90', '#FFFFE0','#E6E6FA','#FFFFE0']\n",
    "# 加粗x轴\n",
    "ax.spines['bottom'].set_linewidth(3)  # 底部x轴\n",
    "ax.spines['top'].set_linewidth(3)  # 顶部x轴（如果需要）\n",
    "\n",
    "# 加粗y轴\n",
    "ax.spines['left'].set_linewidth(3)  # 左侧y轴\n",
    "ax.spines['right'].set_linewidth(3)  # 右侧y轴（如果需要）\n",
    "ax.tick_params(axis='y', labelsize=20,width=3)\n",
    "ax.tick_params(axis='x', which='both', top=False, labelbottom=False,width=3)\n",
    "plt.xticks([])\n",
    "for patch, color in zip(boxplots['boxes'], colors):\n",
    "    patch.set_facecolor(color)\n",
    "ax.invert_yaxis()\n",
    "plt.show()"
   ]
  },
  {
   "cell_type": "code",
   "execution_count": 15,
   "metadata": {},
   "outputs": [],
   "source": [
    "#select a substructure id and visualize it\n",
    "for i in range(5):\n",
    "    exec('struture_id{}=top_10_permute[i]'.format(i))\n"
   ]
  },
  {
   "cell_type": "code",
   "execution_count": 28,
   "metadata": {},
   "outputs": [
    {
     "name": "stdout",
     "output_type": "stream",
     "text": [
      "0\n",
      "1\n",
      "2\n",
      "3\n",
      "4\n",
      "5\n",
      "6\n",
      "7\n",
      "8\n",
      "9\n",
      "10\n",
      "11\n",
      "12\n",
      "13\n",
      "14\n",
      "15\n",
      "16\n",
      "17\n",
      "18\n",
      "19\n",
      "20\n",
      "21\n",
      "22\n",
      "23\n",
      "24\n",
      "25\n",
      "26\n",
      "27\n",
      "28\n",
      "29\n",
      "30\n",
      "31\n",
      "32\n",
      "33\n",
      "34\n",
      "35\n",
      "36\n",
      "37\n",
      "38\n",
      "39\n",
      "40\n",
      "41\n",
      "42\n",
      "43\n",
      "44\n",
      "45\n",
      "46\n",
      "47\n",
      "48\n",
      "49\n",
      "50\n",
      "51\n",
      "52\n",
      "53\n",
      "54\n",
      "55\n",
      "56\n",
      "57\n",
      "58\n",
      "59\n",
      "60\n",
      "61\n",
      "62\n",
      "63\n",
      "64\n",
      "65\n",
      "66\n",
      "67\n",
      "68\n",
      "69\n",
      "70\n",
      "71\n",
      "72\n",
      "73\n",
      "74\n",
      "75\n",
      "76\n",
      "77\n",
      "78\n",
      "79\n",
      "80\n",
      "81\n",
      "82\n",
      "83\n",
      "84\n",
      "85\n",
      "86\n",
      "87\n",
      "88\n",
      "89\n",
      "90\n",
      "91\n",
      "92\n",
      "93\n",
      "94\n",
      "95\n",
      "96\n",
      "97\n",
      "98\n",
      "99\n",
      "100\n",
      "101\n",
      "102\n",
      "103\n",
      "104\n",
      "105\n",
      "164\n",
      "165\n",
      "166\n",
      "169\n",
      "170\n",
      "214\n",
      "215\n",
      "216\n",
      "217\n",
      "223\n"
     ]
    }
   ],
   "source": [
    "#run through all chemicals and print all chemicals that contain this substructure\n",
    "for i in range(5):\n",
    "    exec('smile{}=[]'.format(i))\n",
    "\n",
    "for i,sm in enumerate(SMILES):\n",
    "    info = {}\n",
    "    mol = Chem.MolFromSmiles(sm)\n",
    "    fp = AllChem.GetMorganFingerprintAsBitVect(mol,2,nBits=1024,bitInfo=info)\n",
    "    if struture_id0 in info:\n",
    "        smile0.append(i)\n",
    "for i,sm in enumerate(SMILES):\n",
    "    info = {}\n",
    "    mol = Chem.MolFromSmiles(sm)\n",
    "    fp = AllChem.GetMorganFingerprintAsBitVect(mol,2,nBits=1024,bitInfo=info)\n",
    "    if struture_id1 in info:\n",
    "        smile1.append(i)\n",
    "for i,sm in enumerate(SMILES):\n",
    "    info = {}\n",
    "    mol = Chem.MolFromSmiles(sm)\n",
    "    fp = AllChem.GetMorganFingerprintAsBitVect(mol,2,nBits=1024,bitInfo=info)\n",
    "    if struture_id2 in info:\n",
    "        smile2.append(i)\n",
    "for i,sm in enumerate(SMILES):\n",
    "    info = {}\n",
    "    mol = Chem.MolFromSmiles(sm)\n",
    "    fp = AllChem.GetMorganFingerprintAsBitVect(mol,2,nBits=1024,bitInfo=info)\n",
    "    if struture_id3 in info:\n",
    "        smile3.append(i)\n",
    "for i,sm in enumerate(SMILES):\n",
    "    info = {}\n",
    "    mol = Chem.MolFromSmiles(sm)\n",
    "    fp = AllChem.GetMorganFingerprintAsBitVect(mol,2,nBits=1024,bitInfo=info)\n",
    "    if struture_id4 in info:\n",
    "        smile4.append(i)\n",
    "for i in smile2:\n",
    "    print(i)"
   ]
  },
  {
   "cell_type": "markdown",
   "metadata": {},
   "source": []
  },
  {
   "cell_type": "code",
   "execution_count": 29,
   "metadata": {},
   "outputs": [
    {
     "data": {
      "image/svg+xml": [
       "<svg xmlns=\"http://www.w3.org/2000/svg\" xmlns:rdkit=\"http://www.rdkit.org/xml\" xmlns:xlink=\"http://www.w3.org/1999/xlink\" version=\"1.1\" baseProfile=\"full\" xml:space=\"preserve\" width=\"450px\" height=\"200px\" viewBox=\"0 0 450 200\">\n",
       "<!-- END OF HEADER -->\n",
       "<rect style=\"opacity:1.0;fill:#FFFFFF;stroke:none\" width=\"450.0\" height=\"200.0\" x=\"0.0\" y=\"0.0\"> </rect>\n",
       "<ellipse cx=\"112.2\" cy=\"25.4\" rx=\"11.4\" ry=\"11.4\" class=\"atom-1\" style=\"fill:#4C4CFF;fill-rule:evenodd;stroke:#4C4CFF;stroke-width:1.0px;stroke-linecap:butt;stroke-linejoin:miter;stroke-opacity:1\"/>\n",
       "<path class=\"bond-0 atom-0 atom-1\" d=\"M 55.4,28.6 L 79.8,27.2\" style=\"fill:none;fill-rule:evenodd;stroke:#000000;stroke-width:2.0px;stroke-linecap:butt;stroke-linejoin:miter;stroke-opacity:1\"/>\n",
       "<path class=\"bond-0 atom-0 atom-1\" d=\"M 79.8,27.2 L 104.2,25.8\" style=\"fill:none;fill-rule:evenodd;stroke:#0000FF;stroke-width:2.0px;stroke-linecap:butt;stroke-linejoin:miter;stroke-opacity:1\"/>\n",
       "<path class=\"bond-1 atom-1 atom-2\" d=\"M 118.7,35.3 L 131.0,54.1\" style=\"fill:none;fill-rule:evenodd;stroke:#0000FF;stroke-width:2.0px;stroke-linecap:butt;stroke-linejoin:miter;stroke-opacity:1\"/>\n",
       "<path class=\"bond-1 atom-1 atom-2\" d=\"M 131.0,54.1 L 143.3,72.9\" style=\"fill:none;fill-rule:evenodd;stroke:#000000;stroke-width:2.0px;stroke-linecap:butt;stroke-linejoin:miter;stroke-opacity:1\"/>\n",
       "<path class=\"bond-1 atom-1 atom-2\" d=\"M 111.5,40.0 L 122.5,56.7\" style=\"fill:none;fill-rule:evenodd;stroke:#0000FF;stroke-width:2.0px;stroke-linecap:butt;stroke-linejoin:miter;stroke-opacity:1\"/>\n",
       "<path class=\"bond-1 atom-1 atom-2\" d=\"M 122.5,56.7 L 133.5,73.4\" style=\"fill:none;fill-rule:evenodd;stroke:#000000;stroke-width:2.0px;stroke-linecap:butt;stroke-linejoin:miter;stroke-opacity:1\"/>\n",
       "<path class=\"bond-2 atom-2 atom-3\" d=\"M 143.3,72.9 L 167.7,71.5\" style=\"fill:none;fill-rule:evenodd;stroke:#000000;stroke-width:2.0px;stroke-linecap:butt;stroke-linejoin:miter;stroke-opacity:1\"/>\n",
       "<path class=\"bond-2 atom-2 atom-3\" d=\"M 167.7,71.5 L 192.1,70.1\" style=\"fill:none;fill-rule:evenodd;stroke:#0000FF;stroke-width:2.0px;stroke-linecap:butt;stroke-linejoin:miter;stroke-opacity:1\"/>\n",
       "<path class=\"bond-3 atom-3 atom-4\" d=\"M 206.6,79.6 L 218.9,98.4\" style=\"fill:none;fill-rule:evenodd;stroke:#0000FF;stroke-width:2.0px;stroke-linecap:butt;stroke-linejoin:miter;stroke-opacity:1\"/>\n",
       "<path class=\"bond-3 atom-3 atom-4\" d=\"M 218.9,98.4 L 231.2,117.2\" style=\"fill:none;fill-rule:evenodd;stroke:#000000;stroke-width:2.0px;stroke-linecap:butt;stroke-linejoin:miter;stroke-opacity:1\"/>\n",
       "<path class=\"bond-4 atom-4 atom-5\" d=\"M 231.2,117.2 L 287.9,113.9\" style=\"fill:none;fill-rule:evenodd;stroke:#000000;stroke-width:2.0px;stroke-linecap:butt;stroke-linejoin:miter;stroke-opacity:1\"/>\n",
       "<path class=\"bond-5 atom-5 atom-6\" d=\"M 287.9,113.9 L 323.9,157.9\" style=\"fill:none;fill-rule:evenodd;stroke:#000000;stroke-width:2.0px;stroke-linecap:butt;stroke-linejoin:miter;stroke-opacity:1\"/>\n",
       "<path class=\"bond-5 atom-5 atom-6\" d=\"M 298.4,113.3 L 326.6,147.7\" style=\"fill:none;fill-rule:evenodd;stroke:#000000;stroke-width:2.0px;stroke-linecap:butt;stroke-linejoin:miter;stroke-opacity:1\"/>\n",
       "<path class=\"bond-6 atom-6 atom-7\" d=\"M 323.9,157.9 L 346.4,149.1\" style=\"fill:none;fill-rule:evenodd;stroke:#000000;stroke-width:2.0px;stroke-linecap:butt;stroke-linejoin:miter;stroke-opacity:1\"/>\n",
       "<path class=\"bond-6 atom-6 atom-7\" d=\"M 346.4,149.1 L 368.9,140.4\" style=\"fill:none;fill-rule:evenodd;stroke:#0000FF;stroke-width:2.0px;stroke-linecap:butt;stroke-linejoin:miter;stroke-opacity:1\"/>\n",
       "<path class=\"bond-7 atom-7 atom-8\" d=\"M 376.3,127.4 L 374.9,104.0\" style=\"fill:none;fill-rule:evenodd;stroke:#0000FF;stroke-width:2.0px;stroke-linecap:butt;stroke-linejoin:miter;stroke-opacity:1\"/>\n",
       "<path class=\"bond-7 atom-7 atom-8\" d=\"M 374.9,104.0 L 373.6,80.6\" style=\"fill:none;fill-rule:evenodd;stroke:#000000;stroke-width:2.0px;stroke-linecap:butt;stroke-linejoin:miter;stroke-opacity:1\"/>\n",
       "<path class=\"bond-7 atom-7 atom-8\" d=\"M 367.8,127.9 L 366.6,107.5\" style=\"fill:none;fill-rule:evenodd;stroke:#0000FF;stroke-width:2.0px;stroke-linecap:butt;stroke-linejoin:miter;stroke-opacity:1\"/>\n",
       "<path class=\"bond-7 atom-7 atom-8\" d=\"M 366.6,107.5 L 365.4,87.2\" style=\"fill:none;fill-rule:evenodd;stroke:#000000;stroke-width:2.0px;stroke-linecap:butt;stroke-linejoin:miter;stroke-opacity:1\"/>\n",
       "<path class=\"bond-8 atom-8 atom-9\" d=\"M 373.6,80.6 L 349.6,74.3\" style=\"fill:none;fill-rule:evenodd;stroke:#000000;stroke-width:2.0px;stroke-linecap:butt;stroke-linejoin:miter;stroke-opacity:1\"/>\n",
       "<path class=\"bond-8 atom-8 atom-9\" d=\"M 349.6,74.3 L 325.7,68.0\" style=\"fill:none;fill-rule:evenodd;stroke:#CCCC00;stroke-width:2.0px;stroke-linecap:butt;stroke-linejoin:miter;stroke-opacity:1\"/>\n",
       "<path class=\"bond-9 atom-8 atom-10\" d=\"M 373.6,80.6 L 391.5,65.9\" style=\"fill:none;fill-rule:evenodd;stroke:#000000;stroke-width:2.0px;stroke-linecap:butt;stroke-linejoin:miter;stroke-opacity:1\"/>\n",
       "<path class=\"bond-9 atom-8 atom-10\" d=\"M 391.5,65.9 L 409.5,51.2\" style=\"fill:none;fill-rule:evenodd;stroke:#00CC00;stroke-width:2.0px;stroke-linecap:butt;stroke-linejoin:miter;stroke-opacity:1\"/>\n",
       "<path class=\"bond-10 atom-2 atom-11\" d=\"M 143.3,72.9 L 133.0,93.3\" style=\"fill:none;fill-rule:evenodd;stroke:#000000;stroke-width:2.0px;stroke-linecap:butt;stroke-linejoin:miter;stroke-opacity:1\"/>\n",
       "<path class=\"bond-10 atom-2 atom-11\" d=\"M 133.0,93.3 L 122.8,113.7\" style=\"fill:none;fill-rule:evenodd;stroke:#0000FF;stroke-width:2.0px;stroke-linecap:butt;stroke-linejoin:miter;stroke-opacity:1\"/>\n",
       "<path class=\"bond-11 atom-11 atom-12\" d=\"M 109.8,124.1 L 79.1,125.8\" style=\"fill:none;fill-rule:evenodd;stroke:#0000FF;stroke-width:2.0px;stroke-linecap:butt;stroke-linejoin:miter;stroke-opacity:1\"/>\n",
       "<path class=\"bond-12 atom-12 atom-13\" d=\"M 52.2,134.9 L 44.5,150.3\" style=\"fill:none;fill-rule:evenodd;stroke:#0000FF;stroke-width:2.0px;stroke-linecap:butt;stroke-linejoin:miter;stroke-opacity:1\"/>\n",
       "<path class=\"bond-12 atom-12 atom-13\" d=\"M 44.5,150.3 L 36.7,165.7\" style=\"fill:none;fill-rule:evenodd;stroke:#FF0000;stroke-width:2.0px;stroke-linecap:butt;stroke-linejoin:miter;stroke-opacity:1\"/>\n",
       "<path class=\"bond-12 atom-12 atom-13\" d=\"M 59.9,138.7 L 52.1,154.1\" style=\"fill:none;fill-rule:evenodd;stroke:#0000FF;stroke-width:2.0px;stroke-linecap:butt;stroke-linejoin:miter;stroke-opacity:1\"/>\n",
       "<path class=\"bond-12 atom-12 atom-13\" d=\"M 52.1,154.1 L 44.3,169.5\" style=\"fill:none;fill-rule:evenodd;stroke:#FF0000;stroke-width:2.0px;stroke-linecap:butt;stroke-linejoin:miter;stroke-opacity:1\"/>\n",
       "<path class=\"bond-13 atom-12 atom-14\" d=\"M 54.5,116.9 L 45.6,103.3\" style=\"fill:none;fill-rule:evenodd;stroke:#0000FF;stroke-width:2.0px;stroke-linecap:butt;stroke-linejoin:miter;stroke-opacity:1\"/>\n",
       "<path class=\"bond-13 atom-12 atom-14\" d=\"M 45.6,103.3 L 36.6,89.6\" style=\"fill:none;fill-rule:evenodd;stroke:#FF0000;stroke-width:2.0px;stroke-linecap:butt;stroke-linejoin:miter;stroke-opacity:1\"/>\n",
       "<path class=\"bond-14 atom-9 atom-5\" d=\"M 312.0,76.5 L 300.0,95.2\" style=\"fill:none;fill-rule:evenodd;stroke:#CCCC00;stroke-width:2.0px;stroke-linecap:butt;stroke-linejoin:miter;stroke-opacity:1\"/>\n",
       "<path class=\"bond-14 atom-9 atom-5\" d=\"M 300.0,95.2 L 287.9,113.9\" style=\"fill:none;fill-rule:evenodd;stroke:#000000;stroke-width:2.0px;stroke-linecap:butt;stroke-linejoin:miter;stroke-opacity:1\"/>\n",
       "<path d=\"M 230.6,116.2 L 231.2,117.2 L 234.0,117.0\" style=\"fill:none;stroke:#000000;stroke-width:2.0px;stroke-linecap:butt;stroke-linejoin:miter;stroke-opacity:1;\"/>\n",
       "<path d=\"M 322.1,155.7 L 323.9,157.9 L 325.0,157.5\" style=\"fill:none;stroke:#000000;stroke-width:2.0px;stroke-linecap:butt;stroke-linejoin:miter;stroke-opacity:1;\"/>\n",
       "<path class=\"atom-1\" d=\"M 108.6 17.3 L 113.9 25.9 Q 114.4 26.7, 115.2 28.2 Q 116.1 29.7, 116.1 29.8 L 116.1 17.3 L 118.3 17.3 L 118.3 33.4 L 116.1 33.4 L 110.4 24.1 Q 109.7 23.0, 109.0 21.8 Q 108.4 20.5, 108.1 20.1 L 108.1 33.4 L 106.1 33.4 L 106.1 17.3 L 108.6 17.3 \" fill=\"#0000FF\"/>\n",
       "<path class=\"atom-3\" d=\"M 196.5 61.6 L 201.8 70.1 Q 202.3 71.0, 203.1 72.5 Q 204.0 74.0, 204.0 74.1 L 204.0 61.6 L 206.1 61.6 L 206.1 77.7 L 203.9 77.7 L 198.3 68.4 Q 197.6 67.3, 196.9 66.0 Q 196.2 64.8, 196.0 64.4 L 196.0 77.7 L 193.9 77.7 L 193.9 61.6 L 196.5 61.6 \" fill=\"#0000FF\"/>\n",
       "<path class=\"atom-3\" d=\"M 209.3 61.6 L 211.5 61.6 L 211.5 68.4 L 219.7 68.4 L 219.7 61.6 L 221.9 61.6 L 221.9 77.7 L 219.7 77.7 L 219.7 70.3 L 211.5 70.3 L 211.5 77.7 L 209.3 77.7 L 209.3 61.6 \" fill=\"#0000FF\"/>\n",
       "<path class=\"atom-7\" d=\"M 373.3 129.2 L 378.5 137.8 Q 379.1 138.6, 379.9 140.1 Q 380.7 141.7, 380.8 141.7 L 380.8 129.2 L 382.9 129.2 L 382.9 145.3 L 380.7 145.3 L 375.1 136.0 Q 374.4 134.9, 373.7 133.7 Q 373.0 132.4, 372.8 132.0 L 372.8 145.3 L 370.7 145.3 L 370.7 129.2 L 373.3 129.2 \" fill=\"#0000FF\"/>\n",
       "<path class=\"atom-9\" d=\"M 314.1 71.6 Q 314.3 71.7, 315.0 72.0 Q 315.8 72.3, 316.6 72.6 Q 317.4 72.7, 318.3 72.7 Q 319.8 72.7, 320.7 72.0 Q 321.6 71.3, 321.6 70.0 Q 321.6 69.1, 321.1 68.5 Q 320.7 68.0, 320.0 67.7 Q 319.3 67.4, 318.2 67.1 Q 316.7 66.6, 315.9 66.2 Q 315.0 65.8, 314.4 64.9 Q 313.8 64.1, 313.8 62.6 Q 313.8 60.6, 315.2 59.4 Q 316.6 58.1, 319.3 58.1 Q 321.2 58.1, 323.3 59.0 L 322.8 60.7 Q 320.8 59.9, 319.4 59.9 Q 317.8 59.9, 316.9 60.6 Q 316.1 61.2, 316.1 62.3 Q 316.1 63.2, 316.5 63.7 Q 317.0 64.3, 317.6 64.6 Q 318.3 64.8, 319.4 65.2 Q 320.8 65.6, 321.7 66.1 Q 322.6 66.6, 323.2 67.5 Q 323.8 68.4, 323.8 70.0 Q 323.8 72.2, 322.3 73.4 Q 320.8 74.6, 318.3 74.6 Q 316.9 74.6, 315.8 74.3 Q 314.8 74.0, 313.5 73.4 L 314.1 71.6 \" fill=\"#CCCC00\"/>\n",
       "<path class=\"atom-10\" d=\"M 411.4 45.2 Q 411.4 41.2, 413.2 39.1 Q 415.1 37.0, 418.7 37.0 Q 422.0 37.0, 423.8 39.3 L 422.3 40.5 Q 421.0 38.8, 418.7 38.8 Q 416.3 38.8, 415.0 40.5 Q 413.7 42.1, 413.7 45.2 Q 413.7 48.3, 415.0 50.0 Q 416.3 51.6, 418.9 51.6 Q 420.7 51.6, 422.8 50.6 L 423.4 52.3 Q 422.6 52.8, 421.3 53.1 Q 420.0 53.4, 418.6 53.4 Q 415.1 53.4, 413.2 51.3 Q 411.4 49.2, 411.4 45.2 \" fill=\"#00CC00\"/>\n",
       "<path class=\"atom-10\" d=\"M 425.4 36.0 L 427.5 36.0 L 427.5 53.2 L 425.4 53.2 L 425.4 36.0 \" fill=\"#00CC00\"/>\n",
       "<path class=\"atom-11\" d=\"M 114.2 115.6 L 119.5 124.1 Q 120.0 124.9, 120.8 126.5 Q 121.7 128.0, 121.7 128.1 L 121.7 115.6 L 123.9 115.6 L 123.9 131.7 L 121.7 131.7 L 116.0 122.4 Q 115.3 121.3, 114.6 120.0 Q 114.0 118.8, 113.8 118.4 L 113.8 131.7 L 111.7 131.7 L 111.7 115.6 L 114.2 115.6 \" fill=\"#0000FF\"/>\n",
       "<path class=\"atom-11\" d=\"M 127.0 115.6 L 129.2 115.6 L 129.2 122.4 L 137.4 122.4 L 137.4 115.6 L 139.6 115.6 L 139.6 131.7 L 137.4 131.7 L 137.4 124.2 L 129.2 124.2 L 129.2 131.7 L 127.0 131.7 L 127.0 115.6 \" fill=\"#0000FF\"/>\n",
       "<path class=\"atom-12\" d=\"M 57.5 118.8 L 62.8 127.3 Q 63.3 128.2, 64.1 129.7 Q 65.0 131.2, 65.0 131.3 L 65.0 118.8 L 67.2 118.8 L 67.2 134.9 L 64.9 134.9 L 59.3 125.6 Q 58.6 124.5, 57.9 123.3 Q 57.2 122.0, 57.0 121.6 L 57.0 134.9 L 54.9 134.9 L 54.9 118.8 L 57.5 118.8 \" fill=\"#0000FF\"/>\n",
       "<path class=\"atom-12\" d=\"M 70.2 121.7 L 73.0 121.7 L 73.0 118.7 L 74.3 118.7 L 74.3 121.7 L 77.2 121.7 L 77.2 122.8 L 74.3 122.8 L 74.3 125.8 L 73.0 125.8 L 73.0 122.8 L 70.2 122.8 L 70.2 121.7 \" fill=\"#0000FF\"/>\n",
       "<path class=\"atom-13\" d=\"M 28.1 177.7 Q 28.1 173.8, 30.0 171.6 Q 31.9 169.5, 35.5 169.5 Q 39.1 169.5, 41.0 171.6 Q 42.9 173.8, 42.9 177.7 Q 42.9 181.6, 40.9 183.8 Q 39.0 186.0, 35.5 186.0 Q 31.9 186.0, 30.0 183.8 Q 28.1 181.6, 28.1 177.7 M 35.5 184.2 Q 37.9 184.2, 39.3 182.5 Q 40.6 180.9, 40.6 177.7 Q 40.6 174.5, 39.3 172.9 Q 37.9 171.3, 35.5 171.3 Q 33.0 171.3, 31.7 172.9 Q 30.4 174.5, 30.4 177.7 Q 30.4 180.9, 31.7 182.5 Q 33.0 184.2, 35.5 184.2 \" fill=\"#FF0000\"/>\n",
       "<path class=\"atom-14\" d=\"M 22.5 79.4 Q 22.5 75.5, 24.4 73.4 Q 26.3 71.2, 29.9 71.2 Q 33.5 71.2, 35.4 73.4 Q 37.3 75.5, 37.3 79.4 Q 37.3 83.3, 35.3 85.5 Q 33.4 87.7, 29.9 87.7 Q 26.3 87.7, 24.4 85.5 Q 22.5 83.3, 22.5 79.4 M 29.9 85.9 Q 32.3 85.9, 33.7 84.3 Q 35.0 82.6, 35.0 79.4 Q 35.0 76.3, 33.7 74.7 Q 32.3 73.0, 29.9 73.0 Q 27.4 73.0, 26.1 74.6 Q 24.8 76.2, 24.8 79.4 Q 24.8 82.7, 26.1 84.3 Q 27.4 85.9, 29.9 85.9 \" fill=\"#FF0000\"/>\n",
       "<path class=\"atom-14\" d=\"M 39.6 73.9 L 45.1 73.9 L 45.1 75.1 L 39.6 75.1 L 39.6 73.9 \" fill=\"#FF0000\"/>\n",
       "</svg>"
      ],
      "text/plain": [
       "<IPython.core.display.SVG object>"
      ]
     },
     "execution_count": 29,
     "metadata": {},
     "output_type": "execute_result"
    }
   ],
   "source": [
    "#select one molecule from above and visualize the important substructure\n",
    "sm0 = SMILES[smile0[17]]\n",
    "sm1 = SMILES[smile1[32]]\n",
    "sm2 = SMILES[smile2[60]]\n",
    "sm3 = SMILES[smile3[0]]\n",
    "sm4 = SMILES[smile4[0]]\n",
    "\n",
    "mol0 = Chem.MolFromSmiles(sm0)\n",
    "mol1 = Chem.MolFromSmiles(sm1)\n",
    "mol2 = Chem.MolFromSmiles(sm2)\n",
    "mol3 = Chem.MolFromSmiles(sm3)\n",
    "mol4 = Chem.MolFromSmiles(sm4)\n",
    "\n",
    "depictBit(struture_id0,mol0)"
   ]
  },
  {
   "cell_type": "code",
   "execution_count": 30,
   "metadata": {},
   "outputs": [
    {
     "data": {
      "image/svg+xml": [
       "<svg xmlns=\"http://www.w3.org/2000/svg\" xmlns:rdkit=\"http://www.rdkit.org/xml\" xmlns:xlink=\"http://www.w3.org/1999/xlink\" version=\"1.1\" baseProfile=\"full\" xml:space=\"preserve\" width=\"450px\" height=\"200px\" viewBox=\"0 0 450 200\">\n",
       "<!-- END OF HEADER -->\n",
       "<rect style=\"opacity:1.0;fill:#FFFFFF;stroke:none\" width=\"450.0\" height=\"200.0\" x=\"0.0\" y=\"0.0\"> </rect>\n",
       "<ellipse cx=\"353.6\" cy=\"100.0\" rx=\"9.4\" ry=\"9.7\" class=\"atom-7\" style=\"fill:#4C4CFF;fill-rule:evenodd;stroke:#4C4CFF;stroke-width:1.0px;stroke-linecap:butt;stroke-linejoin:miter;stroke-opacity:1\"/>\n",
       "<path class=\"bond-0 atom-0 atom-1\" d=\"M 240.5,99.9 L 268.1,61.9\" style=\"fill:none;fill-rule:evenodd;stroke:#000000;stroke-width:2.0px;stroke-linecap:butt;stroke-linejoin:miter;stroke-opacity:1\"/>\n",
       "<path class=\"bond-1 atom-1 atom-2\" d=\"M 268.1,61.9 L 223.4,76.4\" style=\"fill:none;fill-rule:evenodd;stroke:#000000;stroke-width:2.0px;stroke-linecap:butt;stroke-linejoin:miter;stroke-opacity:1\"/>\n",
       "<path class=\"bond-2 atom-2 atom-3\" d=\"M 223.4,76.4 L 223.4,123.4\" style=\"fill:none;fill-rule:evenodd;stroke:#000000;stroke-width:2.0px;stroke-linecap:butt;stroke-linejoin:miter;stroke-opacity:1\"/>\n",
       "<path class=\"bond-3 atom-3 atom-4\" d=\"M 223.4,123.4 L 268.1,138.0\" style=\"fill:none;fill-rule:evenodd;stroke:#000000;stroke-width:2.0px;stroke-linecap:butt;stroke-linejoin:miter;stroke-opacity:1\"/>\n",
       "<path class=\"bond-4 atom-4 atom-5\" d=\"M 268.1,138.0 L 312.8,123.4\" style=\"fill:none;fill-rule:evenodd;stroke:#000000;stroke-width:2.0px;stroke-linecap:butt;stroke-linejoin:miter;stroke-opacity:1\"/>\n",
       "<path class=\"bond-5 atom-5 atom-6\" d=\"M 312.8,123.4 L 312.8,76.4\" style=\"fill:none;fill-rule:evenodd;stroke:#000000;stroke-width:2.0px;stroke-linecap:butt;stroke-linejoin:miter;stroke-opacity:1\"/>\n",
       "<path class=\"bond-6 atom-6 atom-7\" d=\"M 312.8,76.4 L 329.4,85.9\" style=\"fill:none;fill-rule:evenodd;stroke:#000000;stroke-width:2.0px;stroke-linecap:butt;stroke-linejoin:miter;stroke-opacity:1\"/>\n",
       "<path class=\"bond-6 atom-6 atom-7\" d=\"M 329.4,85.9 L 345.9,95.5\" style=\"fill:none;fill-rule:evenodd;stroke:#FF0000;stroke-width:2.0px;stroke-linecap:butt;stroke-linejoin:miter;stroke-opacity:1\"/>\n",
       "<path class=\"bond-7 atom-3 atom-8\" d=\"M 223.4,123.4 L 178.6,138.0\" style=\"fill:none;fill-rule:evenodd;stroke:#000000;stroke-width:2.0px;stroke-linecap:butt;stroke-linejoin:miter;stroke-opacity:1\"/>\n",
       "<path class=\"bond-8 atom-8 atom-9\" d=\"M 178.6,138.0 L 133.9,123.4\" style=\"fill:none;fill-rule:evenodd;stroke:#000000;stroke-width:2.0px;stroke-linecap:butt;stroke-linejoin:miter;stroke-opacity:1\"/>\n",
       "<path class=\"bond-9 atom-9 atom-10\" d=\"M 133.9,123.4 L 133.9,76.4\" style=\"fill:none;fill-rule:evenodd;stroke:#000000;stroke-width:2.0px;stroke-linecap:butt;stroke-linejoin:miter;stroke-opacity:1\"/>\n",
       "<path class=\"bond-9 atom-9 atom-10\" d=\"M 141.0,118.3 L 141.0,81.5\" style=\"fill:none;fill-rule:evenodd;stroke:#000000;stroke-width:2.0px;stroke-linecap:butt;stroke-linejoin:miter;stroke-opacity:1\"/>\n",
       "<path class=\"bond-10 atom-10 atom-11\" d=\"M 133.9,76.4 L 178.6,61.9\" style=\"fill:none;fill-rule:evenodd;stroke:#000000;stroke-width:2.0px;stroke-linecap:butt;stroke-linejoin:miter;stroke-opacity:1\"/>\n",
       "<path class=\"bond-11 atom-11 atom-12\" d=\"M 178.6,61.9 L 151.0,99.9\" style=\"fill:none;fill-rule:evenodd;stroke:#000000;stroke-width:2.0px;stroke-linecap:butt;stroke-linejoin:miter;stroke-opacity:1\"/>\n",
       "<path class=\"bond-12 atom-12 atom-13\" d=\"M 151.0,99.9 L 130.3,92.0\" style=\"fill:none;fill-rule:evenodd;stroke:#000000;stroke-width:2.0px;stroke-linecap:butt;stroke-linejoin:miter;stroke-opacity:1\"/>\n",
       "<path class=\"bond-12 atom-12 atom-13\" d=\"M 130.3,92.0 L 109.5,84.0\" style=\"fill:none;fill-rule:evenodd;stroke:#00CC00;stroke-width:2.0px;stroke-linecap:butt;stroke-linejoin:miter;stroke-opacity:1\"/>\n",
       "<path class=\"bond-13 atom-12 atom-14\" d=\"M 151.0,99.9 L 130.3,107.9\" style=\"fill:none;fill-rule:evenodd;stroke:#000000;stroke-width:2.0px;stroke-linecap:butt;stroke-linejoin:miter;stroke-opacity:1\"/>\n",
       "<path class=\"bond-13 atom-12 atom-14\" d=\"M 130.3,107.9 L 109.5,115.8\" style=\"fill:none;fill-rule:evenodd;stroke:#00CC00;stroke-width:2.0px;stroke-linecap:butt;stroke-linejoin:miter;stroke-opacity:1\"/>\n",
       "<path class=\"bond-14 atom-11 atom-15\" d=\"M 178.6,61.9 L 172.8,43.9\" style=\"fill:none;fill-rule:evenodd;stroke:#000000;stroke-width:2.0px;stroke-linecap:butt;stroke-linejoin:miter;stroke-opacity:1\"/>\n",
       "<path class=\"bond-14 atom-11 atom-15\" d=\"M 172.8,43.9 L 167.0,26.0\" style=\"fill:none;fill-rule:evenodd;stroke:#00CC00;stroke-width:2.0px;stroke-linecap:butt;stroke-linejoin:miter;stroke-opacity:1\"/>\n",
       "<path class=\"bond-15 atom-10 atom-16\" d=\"M 133.9,76.4 L 117.9,61.5\" style=\"fill:none;fill-rule:evenodd;stroke:#000000;stroke-width:2.0px;stroke-linecap:butt;stroke-linejoin:miter;stroke-opacity:1\"/>\n",
       "<path class=\"bond-15 atom-10 atom-16\" d=\"M 117.9,61.5 L 101.9,46.6\" style=\"fill:none;fill-rule:evenodd;stroke:#00CC00;stroke-width:2.0px;stroke-linecap:butt;stroke-linejoin:miter;stroke-opacity:1\"/>\n",
       "<path class=\"bond-16 atom-9 atom-17\" d=\"M 133.9,123.4 L 117.9,138.3\" style=\"fill:none;fill-rule:evenodd;stroke:#000000;stroke-width:2.0px;stroke-linecap:butt;stroke-linejoin:miter;stroke-opacity:1\"/>\n",
       "<path class=\"bond-16 atom-9 atom-17\" d=\"M 117.9,138.3 L 101.9,153.3\" style=\"fill:none;fill-rule:evenodd;stroke:#00CC00;stroke-width:2.0px;stroke-linecap:butt;stroke-linejoin:miter;stroke-opacity:1\"/>\n",
       "<path class=\"bond-17 atom-8 atom-18\" d=\"M 178.6,138.0 L 172.7,156.4\" style=\"fill:none;fill-rule:evenodd;stroke:#000000;stroke-width:2.0px;stroke-linecap:butt;stroke-linejoin:miter;stroke-opacity:1\"/>\n",
       "<path class=\"bond-17 atom-8 atom-18\" d=\"M 172.7,156.4 L 166.7,174.8\" style=\"fill:none;fill-rule:evenodd;stroke:#00CC00;stroke-width:2.0px;stroke-linecap:butt;stroke-linejoin:miter;stroke-opacity:1\"/>\n",
       "<path class=\"bond-18 atom-4 atom-0\" d=\"M 268.1,138.0 L 240.5,99.9\" style=\"fill:none;fill-rule:evenodd;stroke:#000000;stroke-width:2.0px;stroke-linecap:butt;stroke-linejoin:miter;stroke-opacity:1\"/>\n",
       "<path class=\"bond-19 atom-6 atom-1\" d=\"M 312.8,76.4 L 268.1,61.9\" style=\"fill:none;fill-rule:evenodd;stroke:#000000;stroke-width:2.0px;stroke-linecap:butt;stroke-linejoin:miter;stroke-opacity:1\"/>\n",
       "<path class=\"bond-20 atom-11 atom-2\" d=\"M 178.6,61.9 L 223.4,76.4\" style=\"fill:none;fill-rule:evenodd;stroke:#000000;stroke-width:2.0px;stroke-linecap:butt;stroke-linejoin:miter;stroke-opacity:1\"/>\n",
       "<path class=\"bond-21 atom-7 atom-5\" d=\"M 345.9,104.3 L 329.4,113.9\" style=\"fill:none;fill-rule:evenodd;stroke:#FF0000;stroke-width:2.0px;stroke-linecap:butt;stroke-linejoin:miter;stroke-opacity:1\"/>\n",
       "<path class=\"bond-21 atom-7 atom-5\" d=\"M 329.4,113.9 L 312.8,123.4\" style=\"fill:none;fill-rule:evenodd;stroke:#000000;stroke-width:2.0px;stroke-linecap:butt;stroke-linejoin:miter;stroke-opacity:1\"/>\n",
       "<path class=\"bond-22 atom-12 atom-8\" d=\"M 151.0,99.9 L 178.6,138.0\" style=\"fill:none;fill-rule:evenodd;stroke:#000000;stroke-width:2.0px;stroke-linecap:butt;stroke-linejoin:miter;stroke-opacity:1\"/>\n",
       "<path d=\"M 241.8,98.0 L 240.5,99.9 L 241.8,101.8\" style=\"fill:none;stroke:#000000;stroke-width:2.0px;stroke-linecap:butt;stroke-linejoin:miter;stroke-opacity:1;\"/>\n",
       "<path class=\"atom-7\" d=\"M 347.4 100.0 Q 347.4 96.8, 349.0 95.0 Q 350.6 93.2, 353.6 93.2 Q 356.5 93.2, 358.1 95.0 Q 359.7 96.8, 359.7 100.0 Q 359.7 103.2, 358.1 105.0 Q 356.5 106.9, 353.6 106.9 Q 350.6 106.9, 349.0 105.0 Q 347.4 103.2, 347.4 100.0 M 353.6 105.4 Q 355.6 105.4, 356.7 104.0 Q 357.8 102.6, 357.8 100.0 Q 357.8 97.3, 356.7 96.0 Q 355.6 94.7, 353.6 94.7 Q 351.5 94.7, 350.4 96.0 Q 349.3 97.3, 349.3 100.0 Q 349.3 102.6, 350.4 104.0 Q 351.5 105.4, 353.6 105.4 \" fill=\"#FF0000\"/>\n",
       "<path class=\"atom-13\" d=\"M 94.6 83.5 Q 94.6 80.2, 96.1 78.5 Q 97.7 76.7, 100.7 76.7 Q 103.4 76.7, 104.9 78.7 L 103.6 79.7 Q 102.6 78.3, 100.7 78.3 Q 98.7 78.3, 97.6 79.6 Q 96.5 81.0, 96.5 83.5 Q 96.5 86.2, 97.6 87.5 Q 98.7 88.9, 100.9 88.9 Q 102.3 88.9, 104.0 88.0 L 104.6 89.4 Q 103.9 89.8, 102.8 90.1 Q 101.8 90.4, 100.6 90.4 Q 97.7 90.4, 96.1 88.6 Q 94.6 86.8, 94.6 83.5 \" fill=\"#00CC00\"/>\n",
       "<path class=\"atom-13\" d=\"M 106.2 75.9 L 108.0 75.9 L 108.0 90.2 L 106.2 90.2 L 106.2 75.9 \" fill=\"#00CC00\"/>\n",
       "<path class=\"atom-14\" d=\"M 94.6 117.2 Q 94.6 113.9, 96.1 112.2 Q 97.7 110.4, 100.7 110.4 Q 103.4 110.4, 104.9 112.4 L 103.6 113.4 Q 102.6 112.0, 100.7 112.0 Q 98.7 112.0, 97.6 113.3 Q 96.5 114.7, 96.5 117.2 Q 96.5 119.9, 97.6 121.2 Q 98.7 122.6, 100.9 122.6 Q 102.3 122.6, 104.0 121.7 L 104.6 123.1 Q 103.9 123.5, 102.8 123.8 Q 101.8 124.1, 100.6 124.1 Q 97.7 124.1, 96.1 122.3 Q 94.6 120.5, 94.6 117.2 \" fill=\"#00CC00\"/>\n",
       "<path class=\"atom-14\" d=\"M 106.2 109.6 L 108.0 109.6 L 108.0 123.9 L 106.2 123.9 L 106.2 109.6 \" fill=\"#00CC00\"/>\n",
       "<path class=\"atom-15\" d=\"M 159.0 17.6 Q 159.0 14.3, 160.5 12.6 Q 162.1 10.8, 165.0 10.8 Q 167.8 10.8, 169.2 12.7 L 168.0 13.8 Q 166.9 12.4, 165.0 12.4 Q 163.0 12.4, 161.9 13.7 Q 160.9 15.0, 160.9 17.6 Q 160.9 20.2, 162.0 21.6 Q 163.1 22.9, 165.2 22.9 Q 166.7 22.9, 168.4 22.1 L 168.9 23.5 Q 168.3 23.9, 167.2 24.2 Q 166.1 24.4, 165.0 24.4 Q 162.1 24.4, 160.5 22.7 Q 159.0 20.9, 159.0 17.6 \" fill=\"#00CC00\"/>\n",
       "<path class=\"atom-15\" d=\"M 170.6 10.0 L 172.3 10.0 L 172.3 24.3 L 170.6 24.3 L 170.6 10.0 \" fill=\"#00CC00\"/>\n",
       "<path class=\"atom-16\" d=\"M 87.0 44.8 Q 87.0 41.5, 88.6 39.7 Q 90.1 38.0, 93.1 38.0 Q 95.8 38.0, 97.3 39.9 L 96.1 40.9 Q 95.0 39.5, 93.1 39.5 Q 91.1 39.5, 90.0 40.9 Q 89.0 42.2, 89.0 44.8 Q 89.0 47.4, 90.0 48.8 Q 91.2 50.1, 93.3 50.1 Q 94.8 50.1, 96.5 49.2 L 97.0 50.7 Q 96.3 51.1, 95.3 51.4 Q 94.2 51.6, 93.0 51.6 Q 90.1 51.6, 88.6 49.9 Q 87.0 48.1, 87.0 44.8 \" fill=\"#00CC00\"/>\n",
       "<path class=\"atom-16\" d=\"M 98.7 37.2 L 100.4 37.2 L 100.4 51.5 L 98.7 51.5 L 98.7 37.2 \" fill=\"#00CC00\"/>\n",
       "<path class=\"atom-17\" d=\"M 87.0 156.0 Q 87.0 152.7, 88.6 150.9 Q 90.1 149.2, 93.1 149.2 Q 95.8 149.2, 97.3 151.1 L 96.1 152.1 Q 95.0 150.7, 93.1 150.7 Q 91.1 150.7, 90.0 152.1 Q 89.0 153.4, 89.0 156.0 Q 89.0 158.6, 90.0 160.0 Q 91.2 161.3, 93.3 161.3 Q 94.8 161.3, 96.5 160.4 L 97.0 161.8 Q 96.3 162.3, 95.3 162.6 Q 94.2 162.8, 93.0 162.8 Q 90.1 162.8, 88.6 161.0 Q 87.0 159.3, 87.0 156.0 \" fill=\"#00CC00\"/>\n",
       "<path class=\"atom-17\" d=\"M 98.7 148.4 L 100.4 148.4 L 100.4 162.6 L 98.7 162.6 L 98.7 148.4 \" fill=\"#00CC00\"/>\n",
       "<path class=\"atom-18\" d=\"M 159.0 183.2 Q 159.0 179.8, 160.5 178.1 Q 162.1 176.4, 165.0 176.4 Q 167.8 176.4, 169.2 178.3 L 168.0 179.3 Q 166.9 177.9, 165.0 177.9 Q 163.0 177.9, 161.9 179.3 Q 160.9 180.6, 160.9 183.2 Q 160.9 185.8, 162.0 187.1 Q 163.1 188.5, 165.2 188.5 Q 166.7 188.5, 168.4 187.6 L 168.9 189.0 Q 168.3 189.5, 167.2 189.7 Q 166.1 190.0, 165.0 190.0 Q 162.1 190.0, 160.5 188.2 Q 159.0 186.5, 159.0 183.2 \" fill=\"#00CC00\"/>\n",
       "<path class=\"atom-18\" d=\"M 170.6 175.6 L 172.3 175.6 L 172.3 189.8 L 170.6 189.8 L 170.6 175.6 \" fill=\"#00CC00\"/>\n",
       "</svg>"
      ],
      "text/plain": [
       "<IPython.core.display.SVG object>"
      ]
     },
     "execution_count": 30,
     "metadata": {},
     "output_type": "execute_result"
    }
   ],
   "source": [
    "depictBit(struture_id1,mol1)"
   ]
  },
  {
   "cell_type": "code",
   "execution_count": 31,
   "metadata": {},
   "outputs": [
    {
     "data": {
      "image/svg+xml": [
       "<svg xmlns=\"http://www.w3.org/2000/svg\" xmlns:rdkit=\"http://www.rdkit.org/xml\" xmlns:xlink=\"http://www.w3.org/1999/xlink\" version=\"1.1\" baseProfile=\"full\" xml:space=\"preserve\" width=\"450px\" height=\"200px\" viewBox=\"0 0 450 200\">\n",
       "<!-- END OF HEADER -->\n",
       "<rect style=\"opacity:1.0;fill:#FFFFFF;stroke:none\" width=\"450.0\" height=\"200.0\" x=\"0.0\" y=\"0.0\"> </rect>\n",
       "<ellipse cx=\"160.0\" cy=\"82.2\" rx=\"7.4\" ry=\"7.4\" class=\"atom-1\" style=\"fill:#4C4CFF;fill-rule:evenodd;stroke:#4C4CFF;stroke-width:1.0px;stroke-linecap:butt;stroke-linejoin:miter;stroke-opacity:1\"/>\n",
       "<path class=\"bond-0 atom-0 atom-1\" d=\"M 123.6,76.9 L 160.0,82.2\" style=\"fill:none;fill-rule:evenodd;stroke:#000000;stroke-width:2.0px;stroke-linecap:butt;stroke-linejoin:miter;stroke-opacity:1\"/>\n",
       "<path class=\"bond-1 atom-1 atom-2\" d=\"M 160.0,82.2 L 182.8,53.4\" style=\"fill:none;fill-rule:evenodd;stroke:#000000;stroke-width:2.0px;stroke-linecap:butt;stroke-linejoin:miter;stroke-opacity:1\"/>\n",
       "<path class=\"bond-2 atom-2 atom-3\" d=\"M 182.8,53.4 L 169.2,19.2\" style=\"fill:none;fill-rule:evenodd;stroke:#000000;stroke-width:2.0px;stroke-linecap:butt;stroke-linejoin:miter;stroke-opacity:1\"/>\n",
       "<path class=\"bond-3 atom-2 atom-4\" d=\"M 182.8,53.4 L 198.7,55.7\" style=\"fill:none;fill-rule:evenodd;stroke:#000000;stroke-width:2.0px;stroke-linecap:butt;stroke-linejoin:miter;stroke-opacity:1\"/>\n",
       "<path class=\"bond-3 atom-2 atom-4\" d=\"M 198.7,55.7 L 214.7,58.0\" style=\"fill:none;fill-rule:evenodd;stroke:#CCCC00;stroke-width:2.0px;stroke-linecap:butt;stroke-linejoin:miter;stroke-opacity:1\"/>\n",
       "<path class=\"bond-4 atom-4 atom-5\" d=\"M 221.9,65.3 L 226.1,75.9\" style=\"fill:none;fill-rule:evenodd;stroke:#CCCC00;stroke-width:2.0px;stroke-linecap:butt;stroke-linejoin:miter;stroke-opacity:1\"/>\n",
       "<path class=\"bond-4 atom-4 atom-5\" d=\"M 226.1,75.9 L 230.3,86.4\" style=\"fill:none;fill-rule:evenodd;stroke:#FF7F00;stroke-width:2.0px;stroke-linecap:butt;stroke-linejoin:miter;stroke-opacity:1\"/>\n",
       "<path class=\"bond-5 atom-5 atom-6\" d=\"M 227.3,92.1 L 215.4,96.8\" style=\"fill:none;fill-rule:evenodd;stroke:#FF7F00;stroke-width:2.0px;stroke-linecap:butt;stroke-linejoin:miter;stroke-opacity:1\"/>\n",
       "<path class=\"bond-5 atom-5 atom-6\" d=\"M 215.4,96.8 L 203.6,101.5\" style=\"fill:none;fill-rule:evenodd;stroke:#FF0000;stroke-width:2.0px;stroke-linecap:butt;stroke-linejoin:miter;stroke-opacity:1\"/>\n",
       "<path class=\"bond-5 atom-5 atom-6\" d=\"M 229.3,97.2 L 217.5,101.9\" style=\"fill:none;fill-rule:evenodd;stroke:#FF7F00;stroke-width:2.0px;stroke-linecap:butt;stroke-linejoin:miter;stroke-opacity:1\"/>\n",
       "<path class=\"bond-5 atom-5 atom-6\" d=\"M 217.5,101.9 L 205.7,106.6\" style=\"fill:none;fill-rule:evenodd;stroke:#FF0000;stroke-width:2.0px;stroke-linecap:butt;stroke-linejoin:miter;stroke-opacity:1\"/>\n",
       "<path class=\"bond-6 atom-5 atom-7\" d=\"M 237.4,91.0 L 249.6,86.1\" style=\"fill:none;fill-rule:evenodd;stroke:#FF7F00;stroke-width:2.0px;stroke-linecap:butt;stroke-linejoin:miter;stroke-opacity:1\"/>\n",
       "<path class=\"bond-6 atom-5 atom-7\" d=\"M 249.6,86.1 L 261.8,81.2\" style=\"fill:none;fill-rule:evenodd;stroke:#0000FF;stroke-width:2.0px;stroke-linecap:butt;stroke-linejoin:miter;stroke-opacity:1\"/>\n",
       "<path class=\"bond-7 atom-7 atom-8\" d=\"M 272.1,82.4 L 285.1,90.6\" style=\"fill:none;fill-rule:evenodd;stroke:#0000FF;stroke-width:2.0px;stroke-linecap:butt;stroke-linejoin:miter;stroke-opacity:1\"/>\n",
       "<path class=\"bond-7 atom-7 atom-8\" d=\"M 285.1,90.6 L 298.1,98.8\" style=\"fill:none;fill-rule:evenodd;stroke:#000000;stroke-width:2.0px;stroke-linecap:butt;stroke-linejoin:miter;stroke-opacity:1\"/>\n",
       "<path class=\"bond-8 atom-8 atom-9\" d=\"M 298.1,98.8 L 326.4,75.3\" style=\"fill:none;fill-rule:evenodd;stroke:#000000;stroke-width:2.0px;stroke-linecap:butt;stroke-linejoin:miter;stroke-opacity:1\"/>\n",
       "<path class=\"bond-9 atom-9 atom-10\" d=\"M 326.4,75.3 L 320.9,61.6\" style=\"fill:none;fill-rule:evenodd;stroke:#000000;stroke-width:2.0px;stroke-linecap:butt;stroke-linejoin:miter;stroke-opacity:1\"/>\n",
       "<path class=\"bond-9 atom-9 atom-10\" d=\"M 320.9,61.6 L 315.4,47.8\" style=\"fill:none;fill-rule:evenodd;stroke:#CCCC00;stroke-width:2.0px;stroke-linecap:butt;stroke-linejoin:miter;stroke-opacity:1\"/>\n",
       "<path class=\"bond-10 atom-10 atom-11\" d=\"M 308.2,41.5 L 292.1,42.5\" style=\"fill:none;fill-rule:evenodd;stroke:#CCCC00;stroke-width:2.0px;stroke-linecap:butt;stroke-linejoin:miter;stroke-opacity:1\"/>\n",
       "<path class=\"bond-10 atom-10 atom-11\" d=\"M 292.1,42.5 L 276.0,43.5\" style=\"fill:none;fill-rule:evenodd;stroke:#000000;stroke-width:2.0px;stroke-linecap:butt;stroke-linejoin:miter;stroke-opacity:1\"/>\n",
       "<path class=\"bond-11 atom-11 atom-12\" d=\"M 279.4,43.3 L 269.8,31.7\" style=\"fill:none;fill-rule:evenodd;stroke:#000000;stroke-width:2.0px;stroke-linecap:butt;stroke-linejoin:miter;stroke-opacity:1\"/>\n",
       "<path class=\"bond-11 atom-11 atom-12\" d=\"M 269.8,31.7 L 260.2,20.1\" style=\"fill:none;fill-rule:evenodd;stroke:#FF0000;stroke-width:2.0px;stroke-linecap:butt;stroke-linejoin:miter;stroke-opacity:1\"/>\n",
       "<path class=\"bond-11 atom-11 atom-12\" d=\"M 275.2,46.9 L 265.6,35.3\" style=\"fill:none;fill-rule:evenodd;stroke:#000000;stroke-width:2.0px;stroke-linecap:butt;stroke-linejoin:miter;stroke-opacity:1\"/>\n",
       "<path class=\"bond-11 atom-11 atom-12\" d=\"M 265.6,35.3 L 255.9,23.7\" style=\"fill:none;fill-rule:evenodd;stroke:#FF0000;stroke-width:2.0px;stroke-linecap:butt;stroke-linejoin:miter;stroke-opacity:1\"/>\n",
       "<path class=\"bond-12 atom-5 atom-13\" d=\"M 235.4,99.2 L 239.6,109.9\" style=\"fill:none;fill-rule:evenodd;stroke:#FF7F00;stroke-width:2.0px;stroke-linecap:butt;stroke-linejoin:miter;stroke-opacity:1\"/>\n",
       "<path class=\"bond-12 atom-5 atom-13\" d=\"M 239.6,109.9 L 243.9,120.5\" style=\"fill:none;fill-rule:evenodd;stroke:#FF0000;stroke-width:2.0px;stroke-linecap:butt;stroke-linejoin:miter;stroke-opacity:1\"/>\n",
       "<path class=\"bond-13 atom-13 atom-14\" d=\"M 241.2,133.6 L 232.4,144.7\" style=\"fill:none;fill-rule:evenodd;stroke:#FF0000;stroke-width:2.0px;stroke-linecap:butt;stroke-linejoin:miter;stroke-opacity:1\"/>\n",
       "<path class=\"bond-13 atom-13 atom-14\" d=\"M 232.4,144.7 L 223.7,155.8\" style=\"fill:none;fill-rule:evenodd;stroke:#000000;stroke-width:2.0px;stroke-linecap:butt;stroke-linejoin:miter;stroke-opacity:1\"/>\n",
       "<path class=\"bond-14 atom-14 atom-15\" d=\"M 223.7,155.8 L 237.3,190.0\" style=\"fill:none;fill-rule:evenodd;stroke:#000000;stroke-width:2.0px;stroke-linecap:butt;stroke-linejoin:miter;stroke-opacity:1\"/>\n",
       "<path class=\"bond-15 atom-11 atom-7\" d=\"M 276.0,43.5 L 272.3,58.2\" style=\"fill:none;fill-rule:evenodd;stroke:#000000;stroke-width:2.0px;stroke-linecap:butt;stroke-linejoin:miter;stroke-opacity:1\"/>\n",
       "<path class=\"bond-15 atom-11 atom-7\" d=\"M 272.3,58.2 L 268.6,72.8\" style=\"fill:none;fill-rule:evenodd;stroke:#0000FF;stroke-width:2.0px;stroke-linecap:butt;stroke-linejoin:miter;stroke-opacity:1\"/>\n",
       "<path d=\"M 158.2,82.0 L 160.0,82.2 L 161.2,80.8\" style=\"fill:none;stroke:#000000;stroke-width:2.0px;stroke-linecap:butt;stroke-linejoin:miter;stroke-opacity:1;\"/>\n",
       "<path d=\"M 297.4,98.4 L 298.1,98.8 L 299.5,97.6\" style=\"fill:none;stroke:#000000;stroke-width:2.0px;stroke-linecap:butt;stroke-linejoin:miter;stroke-opacity:1;\"/>\n",
       "<path d=\"M 324.9,76.5 L 326.4,75.3 L 326.1,74.6\" style=\"fill:none;stroke:#000000;stroke-width:2.0px;stroke-linecap:butt;stroke-linejoin:miter;stroke-opacity:1;\"/>\n",
       "<path d=\"M 276.9,43.5 L 276.0,43.5 L 275.9,44.3\" style=\"fill:none;stroke:#000000;stroke-width:2.0px;stroke-linecap:butt;stroke-linejoin:miter;stroke-opacity:1;\"/>\n",
       "<path d=\"M 224.1,155.3 L 223.7,155.8 L 224.3,157.5\" style=\"fill:none;stroke:#000000;stroke-width:2.0px;stroke-linecap:butt;stroke-linejoin:miter;stroke-opacity:1;\"/>\n",
       "<path class=\"atom-4\" d=\"M 216.3 62.2 Q 216.4 62.3, 216.9 62.5 Q 217.4 62.7, 217.9 62.8 Q 218.4 62.9, 219.0 62.9 Q 219.9 62.9, 220.5 62.5 Q 221.1 62.0, 221.1 61.1 Q 221.1 60.6, 220.8 60.2 Q 220.5 59.8, 220.1 59.7 Q 219.6 59.5, 218.9 59.2 Q 218.0 59.0, 217.4 58.7 Q 216.9 58.4, 216.5 57.9 Q 216.1 57.3, 216.1 56.4 Q 216.1 55.1, 217.0 54.3 Q 217.9 53.4, 219.6 53.4 Q 220.8 53.4, 222.2 54.0 L 221.9 55.2 Q 220.6 54.6, 219.7 54.6 Q 218.7 54.6, 218.1 55.1 Q 217.5 55.5, 217.6 56.2 Q 217.6 56.8, 217.8 57.1 Q 218.1 57.4, 218.5 57.6 Q 219.0 57.8, 219.7 58.0 Q 220.6 58.3, 221.2 58.6 Q 221.7 58.9, 222.1 59.5 Q 222.5 60.1, 222.5 61.1 Q 222.5 62.6, 221.6 63.3 Q 220.6 64.1, 219.0 64.1 Q 218.1 64.1, 217.4 63.9 Q 216.7 63.7, 215.9 63.4 L 216.3 62.2 \" fill=\"#CCCC00\"/>\n",
       "<path class=\"atom-5\" d=\"M 232.6 87.6 Q 234.3 87.6, 235.2 88.4 Q 236.1 89.2, 236.1 90.7 Q 236.1 92.1, 235.2 92.9 Q 234.3 93.7, 232.6 93.7 L 230.9 93.7 L 230.9 98.0 L 229.5 98.0 L 229.5 87.6 L 232.6 87.6 M 232.6 92.6 Q 233.6 92.6, 234.1 92.1 Q 234.7 91.6, 234.7 90.7 Q 234.7 89.7, 234.1 89.3 Q 233.6 88.8, 232.6 88.8 L 230.9 88.8 L 230.9 92.6 L 232.6 92.6 \" fill=\"#FF7F00\"/>\n",
       "<path class=\"atom-6\" d=\"M 193.9 106.4 Q 193.9 103.9, 195.1 102.5 Q 196.3 101.2, 198.7 101.2 Q 201.0 101.2, 202.2 102.5 Q 203.4 103.9, 203.4 106.4 Q 203.4 109.0, 202.2 110.4 Q 200.9 111.8, 198.7 111.8 Q 196.4 111.8, 195.1 110.4 Q 193.9 109.0, 193.9 106.4 M 198.7 110.7 Q 200.2 110.7, 201.1 109.6 Q 202.0 108.5, 202.0 106.4 Q 202.0 104.4, 201.1 103.4 Q 200.2 102.3, 198.7 102.3 Q 197.1 102.3, 196.2 103.4 Q 195.3 104.4, 195.3 106.4 Q 195.3 108.6, 196.2 109.6 Q 197.1 110.7, 198.7 110.7 \" fill=\"#FF0000\"/>\n",
       "<path class=\"atom-7\" d=\"M 264.7 74.0 L 268.1 79.5 Q 268.4 80.0, 269.0 81.0 Q 269.5 82.0, 269.5 82.1 L 269.5 74.0 L 270.9 74.0 L 270.9 84.4 L 269.5 84.4 L 265.8 78.4 Q 265.4 77.7, 265.0 76.9 Q 264.5 76.0, 264.4 75.8 L 264.4 84.4 L 263.0 84.4 L 263.0 74.0 L 264.7 74.0 \" fill=\"#0000FF\"/>\n",
       "<path class=\"atom-10\" d=\"M 309.8 44.7 Q 309.9 44.8, 310.4 45.0 Q 310.9 45.2, 311.4 45.3 Q 312.0 45.4, 312.5 45.4 Q 313.5 45.4, 314.1 45.0 Q 314.6 44.5, 314.6 43.6 Q 314.6 43.1, 314.3 42.7 Q 314.1 42.4, 313.6 42.2 Q 313.2 42.0, 312.4 41.8 Q 311.5 41.5, 310.9 41.2 Q 310.4 41.0, 310.0 40.4 Q 309.6 39.8, 309.6 38.9 Q 309.6 37.6, 310.5 36.8 Q 311.4 36.0, 313.2 36.0 Q 314.4 36.0, 315.7 36.5 L 315.4 37.7 Q 314.2 37.2, 313.2 37.2 Q 312.2 37.2, 311.6 37.6 Q 311.1 38.0, 311.1 38.7 Q 311.1 39.3, 311.4 39.6 Q 311.7 40.0, 312.1 40.1 Q 312.5 40.3, 313.2 40.6 Q 314.2 40.8, 314.7 41.1 Q 315.3 41.4, 315.7 42.0 Q 316.1 42.6, 316.1 43.6 Q 316.1 45.1, 315.1 45.9 Q 314.2 46.6, 312.6 46.6 Q 311.6 46.6, 310.9 46.4 Q 310.2 46.2, 309.4 45.9 L 309.8 44.7 \" fill=\"#CCCC00\"/>\n",
       "<path class=\"atom-12\" d=\"M 247.8 15.3 Q 247.8 12.8, 249.0 11.4 Q 250.2 10.0, 252.5 10.0 Q 254.9 10.0, 256.1 11.4 Q 257.3 12.8, 257.3 15.3 Q 257.3 17.8, 256.1 19.3 Q 254.8 20.7, 252.5 20.7 Q 250.2 20.7, 249.0 19.3 Q 247.8 17.8, 247.8 15.3 M 252.5 19.5 Q 254.1 19.5, 255.0 18.5 Q 255.9 17.4, 255.9 15.3 Q 255.9 13.3, 255.0 12.2 Q 254.1 11.2, 252.5 11.2 Q 251.0 11.2, 250.1 12.2 Q 249.2 13.2, 249.2 15.3 Q 249.2 17.4, 250.1 18.5 Q 251.0 19.5, 252.5 19.5 \" fill=\"#FF0000\"/>\n",
       "<path class=\"atom-13\" d=\"M 241.7 127.0 Q 241.7 124.5, 242.9 123.1 Q 244.1 121.7, 246.4 121.7 Q 248.7 121.7, 250.0 123.1 Q 251.2 124.5, 251.2 127.0 Q 251.2 129.5, 250.0 131.0 Q 248.7 132.4, 246.4 132.4 Q 244.1 132.4, 242.9 131.0 Q 241.7 129.5, 241.7 127.0 M 246.4 131.2 Q 248.0 131.2, 248.9 130.2 Q 249.7 129.1, 249.7 127.0 Q 249.7 125.0, 248.9 123.9 Q 248.0 122.9, 246.4 122.9 Q 244.8 122.9, 244.0 123.9 Q 243.1 124.9, 243.1 127.0 Q 243.1 129.1, 244.0 130.2 Q 244.8 131.2, 246.4 131.2 \" fill=\"#FF0000\"/>\n",
       "</svg>"
      ],
      "text/plain": [
       "<IPython.core.display.SVG object>"
      ]
     },
     "execution_count": 31,
     "metadata": {},
     "output_type": "execute_result"
    }
   ],
   "source": [
    "depictBit(struture_id2,mol2)"
   ]
  },
  {
   "cell_type": "code",
   "execution_count": 20,
   "metadata": {},
   "outputs": [
    {
     "data": {
      "image/svg+xml": [
       "<svg xmlns=\"http://www.w3.org/2000/svg\" xmlns:rdkit=\"http://www.rdkit.org/xml\" xmlns:xlink=\"http://www.w3.org/1999/xlink\" version=\"1.1\" baseProfile=\"full\" xml:space=\"preserve\" width=\"450px\" height=\"200px\" viewBox=\"0 0 450 200\">\n",
       "<!-- END OF HEADER -->\n",
       "<rect style=\"opacity:1.0;fill:#FFFFFF;stroke:none\" width=\"450.0\" height=\"200.0\" x=\"0.0\" y=\"0.0\"> </rect>\n",
       "<path class=\"bond-0 atom-0 atom-1\" d=\"M 355.5,51.9 L 361.2,52.0 L 360.8,75.8 L 357.9,78.6 L 355.1,75.7 Z\" style=\"fill:#4C4CFF;fill-rule:evenodd;fill-opacity:1;stroke:#4C4CFF;stroke-width:0.0px;stroke-linecap:butt;stroke-linejoin:miter;stroke-opacity:1;\"/>\n",
       "<path class=\"bond-1 atom-1 atom-2\" d=\"M 357.9,78.6 L 360.7,81.5 L 360.3,105.3 L 354.6,105.2 L 355.0,81.4 Z\" style=\"fill:#4C4CFF;fill-rule:evenodd;fill-opacity:1;stroke:#4C4CFF;stroke-width:0.0px;stroke-linecap:butt;stroke-linejoin:miter;stroke-opacity:1;\"/>\n",
       "<path class=\"bond-2 atom-1 atom-3\" d=\"M 331.3,75.3 L 355.1,75.7 L 357.9,78.6 L 355.0,81.4 L 331.2,81.0 Z\" style=\"fill:#4C4CFF;fill-rule:evenodd;fill-opacity:1;stroke:#4C4CFF;stroke-width:0.0px;stroke-linecap:butt;stroke-linejoin:miter;stroke-opacity:1;\"/>\n",
       "<path class=\"bond-30 atom-1 atom-31\" d=\"M 360.8,75.8 L 384.6,76.2 L 384.5,81.9 L 360.7,81.5 L 357.9,78.6 Z\" style=\"fill:#4C4CFF;fill-rule:evenodd;fill-opacity:1;stroke:#4C4CFF;stroke-width:0.0px;stroke-linecap:butt;stroke-linejoin:miter;stroke-opacity:1;\"/>\n",
       "<ellipse cx=\"358.4\" cy=\"52.0\" rx=\"5.3\" ry=\"5.3\" class=\"atom-0\" style=\"fill:#FF7F7F;fill-rule:evenodd;stroke:#FF7F7F;stroke-width:1.0px;stroke-linecap:butt;stroke-linejoin:miter;stroke-opacity:1\"/>\n",
       "<ellipse cx=\"360.3\" cy=\"78.6\" rx=\"7.4\" ry=\"5.4\" class=\"atom-1\" style=\"fill:#4C4CFF;fill-rule:evenodd;stroke:#4C4CFF;stroke-width:1.0px;stroke-linecap:butt;stroke-linejoin:miter;stroke-opacity:1\"/>\n",
       "<ellipse cx=\"357.4\" cy=\"105.2\" rx=\"5.3\" ry=\"5.3\" class=\"atom-2\" style=\"fill:#FF7F7F;fill-rule:evenodd;stroke:#FF7F7F;stroke-width:1.0px;stroke-linecap:butt;stroke-linejoin:miter;stroke-opacity:1\"/>\n",
       "<ellipse cx=\"331.3\" cy=\"78.1\" rx=\"5.3\" ry=\"5.3\" class=\"atom-3\" style=\"fill:#FF7F7F;fill-rule:evenodd;stroke:#FF7F7F;stroke-width:1.0px;stroke-linecap:butt;stroke-linejoin:miter;stroke-opacity:1\"/>\n",
       "<ellipse cx=\"384.5\" cy=\"79.1\" rx=\"5.3\" ry=\"5.3\" class=\"atom-31\" style=\"fill:#FF7F7F;fill-rule:evenodd;stroke:#FF7F7F;stroke-width:1.0px;stroke-linecap:butt;stroke-linejoin:miter;stroke-opacity:1\"/>\n",
       "<path class=\"bond-0 atom-0 atom-1\" d=\"M 358.4,52.0 L 358.2,63.0\" style=\"fill:none;fill-rule:evenodd;stroke:#000000;stroke-width:2.0px;stroke-linecap:butt;stroke-linejoin:miter;stroke-opacity:1\"/>\n",
       "<path class=\"bond-0 atom-0 atom-1\" d=\"M 358.2,63.0 L 358.0,73.9\" style=\"fill:none;fill-rule:evenodd;stroke:#0000FF;stroke-width:2.0px;stroke-linecap:butt;stroke-linejoin:miter;stroke-opacity:1\"/>\n",
       "<path class=\"bond-1 atom-1 atom-2\" d=\"M 357.8,83.2 L 357.6,94.2\" style=\"fill:none;fill-rule:evenodd;stroke:#0000FF;stroke-width:2.0px;stroke-linecap:butt;stroke-linejoin:miter;stroke-opacity:1\"/>\n",
       "<path class=\"bond-1 atom-1 atom-2\" d=\"M 357.6,94.2 L 357.4,105.2\" style=\"fill:none;fill-rule:evenodd;stroke:#000000;stroke-width:2.0px;stroke-linecap:butt;stroke-linejoin:miter;stroke-opacity:1\"/>\n",
       "<path class=\"bond-2 atom-1 atom-3\" d=\"M 354.2,78.5 L 342.7,78.3\" style=\"fill:none;fill-rule:evenodd;stroke:#0000FF;stroke-width:2.0px;stroke-linecap:butt;stroke-linejoin:miter;stroke-opacity:1\"/>\n",
       "<path class=\"bond-2 atom-1 atom-3\" d=\"M 342.7,78.3 L 331.3,78.1\" style=\"fill:none;fill-rule:evenodd;stroke:#000000;stroke-width:2.0px;stroke-linecap:butt;stroke-linejoin:miter;stroke-opacity:1\"/>\n",
       "<path class=\"bond-3 atom-3 atom-4\" d=\"M 331.3,78.1 L 317.6,100.9\" style=\"fill:none;fill-rule:evenodd;stroke:#000000;stroke-width:2.0px;stroke-linecap:butt;stroke-linejoin:miter;stroke-opacity:1\"/>\n",
       "<path class=\"bond-4 atom-4 atom-5\" d=\"M 317.6,100.9 L 290.9,100.5\" style=\"fill:none;fill-rule:evenodd;stroke:#000000;stroke-width:2.0px;stroke-linecap:butt;stroke-linejoin:miter;stroke-opacity:1\"/>\n",
       "<path class=\"bond-5 atom-5 atom-6\" d=\"M 290.9,100.5 L 285.5,109.5\" style=\"fill:none;fill-rule:evenodd;stroke:#000000;stroke-width:2.0px;stroke-linecap:butt;stroke-linejoin:miter;stroke-opacity:1\"/>\n",
       "<path class=\"bond-5 atom-5 atom-6\" d=\"M 285.5,109.5 L 280.0,118.6\" style=\"fill:none;fill-rule:evenodd;stroke:#0000FF;stroke-width:2.0px;stroke-linecap:butt;stroke-linejoin:miter;stroke-opacity:1\"/>\n",
       "<path class=\"bond-6 atom-6 atom-7\" d=\"M 273.5,123.2 L 263.7,123.0\" style=\"fill:none;fill-rule:evenodd;stroke:#0000FF;stroke-width:2.0px;stroke-linecap:butt;stroke-linejoin:miter;stroke-opacity:1\"/>\n",
       "<path class=\"bond-6 atom-6 atom-7\" d=\"M 263.7,123.0 L 253.9,122.9\" style=\"fill:none;fill-rule:evenodd;stroke:#CCCC00;stroke-width:2.0px;stroke-linecap:butt;stroke-linejoin:miter;stroke-opacity:1\"/>\n",
       "<path class=\"bond-7 atom-7 atom-8\" d=\"M 252.7,118.2 L 252.8,109.6\" style=\"fill:none;fill-rule:evenodd;stroke:#CCCC00;stroke-width:2.0px;stroke-linecap:butt;stroke-linejoin:miter;stroke-opacity:1\"/>\n",
       "<path class=\"bond-7 atom-7 atom-8\" d=\"M 252.8,109.6 L 253.0,101.0\" style=\"fill:none;fill-rule:evenodd;stroke:#FF0000;stroke-width:2.0px;stroke-linecap:butt;stroke-linejoin:miter;stroke-opacity:1\"/>\n",
       "<path class=\"bond-7 atom-7 atom-8\" d=\"M 248.7,118.1 L 248.8,109.5\" style=\"fill:none;fill-rule:evenodd;stroke:#CCCC00;stroke-width:2.0px;stroke-linecap:butt;stroke-linejoin:miter;stroke-opacity:1\"/>\n",
       "<path class=\"bond-7 atom-7 atom-8\" d=\"M 248.8,109.5 L 249.0,100.9\" style=\"fill:none;fill-rule:evenodd;stroke:#FF0000;stroke-width:2.0px;stroke-linecap:butt;stroke-linejoin:miter;stroke-opacity:1\"/>\n",
       "<path class=\"bond-8 atom-7 atom-9\" d=\"M 248.5,127.6 L 248.4,136.1\" style=\"fill:none;fill-rule:evenodd;stroke:#CCCC00;stroke-width:2.0px;stroke-linecap:butt;stroke-linejoin:miter;stroke-opacity:1\"/>\n",
       "<path class=\"bond-8 atom-7 atom-9\" d=\"M 248.4,136.1 L 248.2,144.7\" style=\"fill:none;fill-rule:evenodd;stroke:#FF0000;stroke-width:2.0px;stroke-linecap:butt;stroke-linejoin:miter;stroke-opacity:1\"/>\n",
       "<path class=\"bond-8 atom-7 atom-9\" d=\"M 252.5,127.7 L 252.4,136.2\" style=\"fill:none;fill-rule:evenodd;stroke:#CCCC00;stroke-width:2.0px;stroke-linecap:butt;stroke-linejoin:miter;stroke-opacity:1\"/>\n",
       "<path class=\"bond-8 atom-7 atom-9\" d=\"M 252.4,136.2 L 252.2,144.8\" style=\"fill:none;fill-rule:evenodd;stroke:#FF0000;stroke-width:2.0px;stroke-linecap:butt;stroke-linejoin:miter;stroke-opacity:1\"/>\n",
       "<path class=\"bond-9 atom-7 atom-10\" d=\"M 247.3,122.7 L 235.6,122.5\" style=\"fill:none;fill-rule:evenodd;stroke:#CCCC00;stroke-width:2.0px;stroke-linecap:butt;stroke-linejoin:miter;stroke-opacity:1\"/>\n",
       "<path class=\"bond-9 atom-7 atom-10\" d=\"M 235.6,122.5 L 224.0,122.3\" style=\"fill:none;fill-rule:evenodd;stroke:#000000;stroke-width:2.0px;stroke-linecap:butt;stroke-linejoin:miter;stroke-opacity:1\"/>\n",
       "<path class=\"bond-10 atom-10 atom-11\" d=\"M 224.0,122.3 L 211.1,99.0\" style=\"fill:none;fill-rule:evenodd;stroke:#000000;stroke-width:2.0px;stroke-linecap:butt;stroke-linejoin:miter;stroke-opacity:1\"/>\n",
       "<path class=\"bond-11 atom-11 atom-12\" d=\"M 211.1,99.0 L 184.5,98.6\" style=\"fill:none;fill-rule:evenodd;stroke:#000000;stroke-width:2.0px;stroke-linecap:butt;stroke-linejoin:miter;stroke-opacity:1\"/>\n",
       "<path class=\"bond-12 atom-12 atom-13\" d=\"M 184.5,98.6 L 157.8,98.1\" style=\"fill:none;fill-rule:evenodd;stroke:#000000;stroke-width:2.0px;stroke-linecap:butt;stroke-linejoin:miter;stroke-opacity:1\"/>\n",
       "<path class=\"bond-13 atom-13 atom-14\" d=\"M 157.8,98.1 L 131.2,97.6\" style=\"fill:none;fill-rule:evenodd;stroke:#000000;stroke-width:2.0px;stroke-linecap:butt;stroke-linejoin:miter;stroke-opacity:1\"/>\n",
       "<path class=\"bond-14 atom-14 atom-15\" d=\"M 131.2,97.6 L 104.6,97.1\" style=\"fill:none;fill-rule:evenodd;stroke:#000000;stroke-width:2.0px;stroke-linecap:butt;stroke-linejoin:miter;stroke-opacity:1\"/>\n",
       "<path class=\"bond-15 atom-15 atom-16\" d=\"M 104.6,97.1 L 78.0,96.6\" style=\"fill:none;fill-rule:evenodd;stroke:#000000;stroke-width:2.0px;stroke-linecap:butt;stroke-linejoin:miter;stroke-opacity:1\"/>\n",
       "<path class=\"bond-16 atom-16 atom-17\" d=\"M 78.0,96.6 L 51.4,96.2\" style=\"fill:none;fill-rule:evenodd;stroke:#000000;stroke-width:2.0px;stroke-linecap:butt;stroke-linejoin:miter;stroke-opacity:1\"/>\n",
       "<path class=\"bond-17 atom-17 atom-18\" d=\"M 51.4,96.2 L 39.6,96.0\" style=\"fill:none;fill-rule:evenodd;stroke:#000000;stroke-width:2.0px;stroke-linecap:butt;stroke-linejoin:miter;stroke-opacity:1\"/>\n",
       "<path class=\"bond-17 atom-17 atom-18\" d=\"M 39.6,96.0 L 27.9,95.7\" style=\"fill:none;fill-rule:evenodd;stroke:#33CCCC;stroke-width:2.0px;stroke-linecap:butt;stroke-linejoin:miter;stroke-opacity:1\"/>\n",
       "<path class=\"bond-18 atom-17 atom-19\" d=\"M 51.4,96.2 L 51.2,107.2\" style=\"fill:none;fill-rule:evenodd;stroke:#000000;stroke-width:2.0px;stroke-linecap:butt;stroke-linejoin:miter;stroke-opacity:1\"/>\n",
       "<path class=\"bond-18 atom-17 atom-19\" d=\"M 51.2,107.2 L 51.0,118.1\" style=\"fill:none;fill-rule:evenodd;stroke:#33CCCC;stroke-width:2.0px;stroke-linecap:butt;stroke-linejoin:miter;stroke-opacity:1\"/>\n",
       "<path class=\"bond-19 atom-17 atom-20\" d=\"M 51.4,96.2 L 51.6,85.2\" style=\"fill:none;fill-rule:evenodd;stroke:#000000;stroke-width:2.0px;stroke-linecap:butt;stroke-linejoin:miter;stroke-opacity:1\"/>\n",
       "<path class=\"bond-19 atom-17 atom-20\" d=\"M 51.6,85.2 L 51.8,74.2\" style=\"fill:none;fill-rule:evenodd;stroke:#33CCCC;stroke-width:2.0px;stroke-linecap:butt;stroke-linejoin:miter;stroke-opacity:1\"/>\n",
       "<path class=\"bond-20 atom-16 atom-21\" d=\"M 78.0,96.6 L 78.2,85.7\" style=\"fill:none;fill-rule:evenodd;stroke:#000000;stroke-width:2.0px;stroke-linecap:butt;stroke-linejoin:miter;stroke-opacity:1\"/>\n",
       "<path class=\"bond-20 atom-16 atom-21\" d=\"M 78.2,85.7 L 78.4,74.7\" style=\"fill:none;fill-rule:evenodd;stroke:#33CCCC;stroke-width:2.0px;stroke-linecap:butt;stroke-linejoin:miter;stroke-opacity:1\"/>\n",
       "<path class=\"bond-21 atom-16 atom-22\" d=\"M 78.0,96.6 L 77.8,107.6\" style=\"fill:none;fill-rule:evenodd;stroke:#000000;stroke-width:2.0px;stroke-linecap:butt;stroke-linejoin:miter;stroke-opacity:1\"/>\n",
       "<path class=\"bond-21 atom-16 atom-22\" d=\"M 77.8,107.6 L 77.6,118.6\" style=\"fill:none;fill-rule:evenodd;stroke:#33CCCC;stroke-width:2.0px;stroke-linecap:butt;stroke-linejoin:miter;stroke-opacity:1\"/>\n",
       "<path class=\"bond-22 atom-15 atom-23\" d=\"M 104.6,97.1 L 104.4,108.1\" style=\"fill:none;fill-rule:evenodd;stroke:#000000;stroke-width:2.0px;stroke-linecap:butt;stroke-linejoin:miter;stroke-opacity:1\"/>\n",
       "<path class=\"bond-22 atom-15 atom-23\" d=\"M 104.4,108.1 L 104.2,119.1\" style=\"fill:none;fill-rule:evenodd;stroke:#33CCCC;stroke-width:2.0px;stroke-linecap:butt;stroke-linejoin:miter;stroke-opacity:1\"/>\n",
       "<path class=\"bond-23 atom-15 atom-24\" d=\"M 104.6,97.1 L 104.8,86.1\" style=\"fill:none;fill-rule:evenodd;stroke:#000000;stroke-width:2.0px;stroke-linecap:butt;stroke-linejoin:miter;stroke-opacity:1\"/>\n",
       "<path class=\"bond-23 atom-15 atom-24\" d=\"M 104.8,86.1 L 105.0,75.1\" style=\"fill:none;fill-rule:evenodd;stroke:#33CCCC;stroke-width:2.0px;stroke-linecap:butt;stroke-linejoin:miter;stroke-opacity:1\"/>\n",
       "<path class=\"bond-24 atom-14 atom-25\" d=\"M 131.2,97.6 L 131.4,86.6\" style=\"fill:none;fill-rule:evenodd;stroke:#000000;stroke-width:2.0px;stroke-linecap:butt;stroke-linejoin:miter;stroke-opacity:1\"/>\n",
       "<path class=\"bond-24 atom-14 atom-25\" d=\"M 131.4,86.6 L 131.6,75.6\" style=\"fill:none;fill-rule:evenodd;stroke:#33CCCC;stroke-width:2.0px;stroke-linecap:butt;stroke-linejoin:miter;stroke-opacity:1\"/>\n",
       "<path class=\"bond-25 atom-14 atom-26\" d=\"M 131.2,97.6 L 131.0,108.6\" style=\"fill:none;fill-rule:evenodd;stroke:#000000;stroke-width:2.0px;stroke-linecap:butt;stroke-linejoin:miter;stroke-opacity:1\"/>\n",
       "<path class=\"bond-25 atom-14 atom-26\" d=\"M 131.0,108.6 L 130.8,119.6\" style=\"fill:none;fill-rule:evenodd;stroke:#33CCCC;stroke-width:2.0px;stroke-linecap:butt;stroke-linejoin:miter;stroke-opacity:1\"/>\n",
       "<path class=\"bond-26 atom-13 atom-27\" d=\"M 157.8,98.1 L 157.6,109.1\" style=\"fill:none;fill-rule:evenodd;stroke:#000000;stroke-width:2.0px;stroke-linecap:butt;stroke-linejoin:miter;stroke-opacity:1\"/>\n",
       "<path class=\"bond-26 atom-13 atom-27\" d=\"M 157.6,109.1 L 157.4,120.0\" style=\"fill:none;fill-rule:evenodd;stroke:#33CCCC;stroke-width:2.0px;stroke-linecap:butt;stroke-linejoin:miter;stroke-opacity:1\"/>\n",
       "<path class=\"bond-27 atom-13 atom-28\" d=\"M 157.8,98.1 L 158.0,87.1\" style=\"fill:none;fill-rule:evenodd;stroke:#000000;stroke-width:2.0px;stroke-linecap:butt;stroke-linejoin:miter;stroke-opacity:1\"/>\n",
       "<path class=\"bond-27 atom-13 atom-28\" d=\"M 158.0,87.1 L 158.2,76.1\" style=\"fill:none;fill-rule:evenodd;stroke:#33CCCC;stroke-width:2.0px;stroke-linecap:butt;stroke-linejoin:miter;stroke-opacity:1\"/>\n",
       "<path class=\"bond-28 atom-12 atom-29\" d=\"M 184.5,98.6 L 184.7,87.6\" style=\"fill:none;fill-rule:evenodd;stroke:#000000;stroke-width:2.0px;stroke-linecap:butt;stroke-linejoin:miter;stroke-opacity:1\"/>\n",
       "<path class=\"bond-28 atom-12 atom-29\" d=\"M 184.7,87.6 L 184.9,76.6\" style=\"fill:none;fill-rule:evenodd;stroke:#33CCCC;stroke-width:2.0px;stroke-linecap:butt;stroke-linejoin:miter;stroke-opacity:1\"/>\n",
       "<path class=\"bond-29 atom-12 atom-30\" d=\"M 184.5,98.6 L 184.3,109.5\" style=\"fill:none;fill-rule:evenodd;stroke:#000000;stroke-width:2.0px;stroke-linecap:butt;stroke-linejoin:miter;stroke-opacity:1\"/>\n",
       "<path class=\"bond-29 atom-12 atom-30\" d=\"M 184.3,109.5 L 184.1,120.5\" style=\"fill:none;fill-rule:evenodd;stroke:#33CCCC;stroke-width:2.0px;stroke-linecap:butt;stroke-linejoin:miter;stroke-opacity:1\"/>\n",
       "<path class=\"bond-30 atom-1 atom-31\" d=\"M 366.3,78.7 L 375.4,78.9\" style=\"fill:none;fill-rule:evenodd;stroke:#0000FF;stroke-width:2.0px;stroke-linecap:butt;stroke-linejoin:miter;stroke-opacity:1\"/>\n",
       "<path class=\"bond-30 atom-1 atom-31\" d=\"M 375.4,78.9 L 384.5,79.1\" style=\"fill:none;fill-rule:evenodd;stroke:#000000;stroke-width:2.0px;stroke-linecap:butt;stroke-linejoin:miter;stroke-opacity:1\"/>\n",
       "<path class=\"bond-31 atom-31 atom-32\" d=\"M 384.5,79.1 L 397.4,102.4\" style=\"fill:none;fill-rule:evenodd;stroke:#000000;stroke-width:2.0px;stroke-linecap:butt;stroke-linejoin:miter;stroke-opacity:1\"/>\n",
       "<path class=\"bond-32 atom-32 atom-33\" d=\"M 396.2,104.3 L 407.9,104.6\" style=\"fill:none;fill-rule:evenodd;stroke:#000000;stroke-width:2.0px;stroke-linecap:butt;stroke-linejoin:miter;stroke-opacity:1\"/>\n",
       "<path class=\"bond-32 atom-32 atom-33\" d=\"M 407.9,104.6 L 419.7,104.8\" style=\"fill:none;fill-rule:evenodd;stroke:#FF0000;stroke-width:2.0px;stroke-linecap:butt;stroke-linejoin:miter;stroke-opacity:1\"/>\n",
       "<path class=\"bond-32 atom-32 atom-33\" d=\"M 396.3,100.3 L 408.0,100.6\" style=\"fill:none;fill-rule:evenodd;stroke:#000000;stroke-width:2.0px;stroke-linecap:butt;stroke-linejoin:miter;stroke-opacity:1\"/>\n",
       "<path class=\"bond-32 atom-32 atom-33\" d=\"M 408.0,100.6 L 419.7,100.8\" style=\"fill:none;fill-rule:evenodd;stroke:#FF0000;stroke-width:2.0px;stroke-linecap:butt;stroke-linejoin:miter;stroke-opacity:1\"/>\n",
       "<path class=\"bond-33 atom-32 atom-34\" d=\"M 397.4,102.4 L 392.0,111.4\" style=\"fill:none;fill-rule:evenodd;stroke:#000000;stroke-width:2.0px;stroke-linecap:butt;stroke-linejoin:miter;stroke-opacity:1\"/>\n",
       "<path class=\"bond-33 atom-32 atom-34\" d=\"M 392.0,111.4 L 386.5,120.5\" style=\"fill:none;fill-rule:evenodd;stroke:#FF0000;stroke-width:2.0px;stroke-linecap:butt;stroke-linejoin:miter;stroke-opacity:1\"/>\n",
       "<path d=\"M 331.9,78.1 L 331.3,78.1 L 330.6,79.3\" style=\"fill:none;stroke:#000000;stroke-width:2.0px;stroke-linecap:butt;stroke-linejoin:miter;stroke-opacity:1;\"/>\n",
       "<path d=\"M 318.2,99.8 L 317.6,100.9 L 316.2,100.9\" style=\"fill:none;stroke:#000000;stroke-width:2.0px;stroke-linecap:butt;stroke-linejoin:miter;stroke-opacity:1;\"/>\n",
       "<path d=\"M 292.3,100.5 L 290.9,100.5 L 290.7,100.9\" style=\"fill:none;stroke:#000000;stroke-width:2.0px;stroke-linecap:butt;stroke-linejoin:miter;stroke-opacity:1;\"/>\n",
       "<path d=\"M 224.6,122.3 L 224.0,122.3 L 223.3,121.2\" style=\"fill:none;stroke:#000000;stroke-width:2.0px;stroke-linecap:butt;stroke-linejoin:miter;stroke-opacity:1;\"/>\n",
       "<path d=\"M 211.7,100.2 L 211.1,99.0 L 209.7,99.0\" style=\"fill:none;stroke:#000000;stroke-width:2.0px;stroke-linecap:butt;stroke-linejoin:miter;stroke-opacity:1;\"/>\n",
       "<path d=\"M 384.1,79.1 L 384.5,79.1 L 385.2,80.2\" style=\"fill:none;stroke:#000000;stroke-width:2.0px;stroke-linecap:butt;stroke-linejoin:miter;stroke-opacity:1;\"/>\n",
       "<path d=\"M 396.8,101.2 L 397.4,102.4 L 397.1,102.8\" style=\"fill:none;stroke:#000000;stroke-width:2.0px;stroke-linecap:butt;stroke-linejoin:miter;stroke-opacity:1;\"/>\n",
       "<path class=\"atom-1\" d=\"M 356.2 74.8 L 358.7 78.8 Q 359.0 79.2, 359.3 79.9 Q 359.7 80.6, 359.8 80.7 L 359.8 74.8 L 360.8 74.8 L 360.8 82.4 L 359.7 82.4 L 357.1 78.0 Q 356.8 77.5, 356.4 76.9 Q 356.1 76.3, 356.0 76.1 L 356.0 82.4 L 355.0 82.4 L 355.0 74.8 L 356.2 74.8 \" fill=\"#0000FF\"/>\n",
       "<path class=\"atom-1\" d=\"M 362.2 76.2 L 363.5 76.2 L 363.5 74.8 L 364.1 74.8 L 364.1 76.2 L 365.5 76.2 L 365.5 76.7 L 364.1 76.7 L 364.1 78.1 L 363.5 78.1 L 363.5 76.7 L 362.2 76.7 L 362.2 76.2 \" fill=\"#0000FF\"/>\n",
       "<path class=\"atom-6\" d=\"M 275.6 119.5 L 278.0 123.5 Q 278.3 123.9, 278.7 124.6 Q 279.1 125.3, 279.1 125.4 L 279.1 119.5 L 280.1 119.5 L 280.1 127.0 L 279.0 127.0 L 276.4 122.7 Q 276.1 122.2, 275.8 121.6 Q 275.4 121.0, 275.3 120.8 L 275.3 127.0 L 274.4 127.0 L 274.4 119.5 L 275.6 119.5 \" fill=\"#0000FF\"/>\n",
       "<path class=\"atom-6\" d=\"M 281.5 119.5 L 282.6 119.5 L 282.6 122.7 L 286.4 122.7 L 286.4 119.5 L 287.4 119.5 L 287.4 127.0 L 286.4 127.0 L 286.4 123.6 L 282.6 123.6 L 282.6 127.0 L 281.5 127.0 L 281.5 119.5 \" fill=\"#0000FF\"/>\n",
       "<path class=\"atom-7\" d=\"M 248.5 125.4 Q 248.6 125.4, 248.9 125.6 Q 249.3 125.7, 249.6 125.8 Q 250.0 125.9, 250.4 125.9 Q 251.1 125.9, 251.5 125.6 Q 252.0 125.2, 252.0 124.6 Q 252.0 124.2, 251.7 123.9 Q 251.5 123.7, 251.2 123.5 Q 250.9 123.4, 250.4 123.2 Q 249.7 123.0, 249.3 122.8 Q 248.9 122.6, 248.6 122.2 Q 248.3 121.8, 248.3 121.2 Q 248.3 120.2, 249.0 119.6 Q 249.6 119.0, 250.9 119.0 Q 251.8 119.0, 252.8 119.5 L 252.5 120.3 Q 251.6 119.9, 250.9 119.9 Q 250.2 119.9, 249.8 120.2 Q 249.4 120.5, 249.4 121.0 Q 249.4 121.4, 249.6 121.7 Q 249.8 121.9, 250.1 122.1 Q 250.4 122.2, 250.9 122.4 Q 251.6 122.6, 252.0 122.8 Q 252.4 123.0, 252.7 123.4 Q 253.0 123.9, 253.0 124.6 Q 253.0 125.6, 252.3 126.2 Q 251.6 126.8, 250.5 126.8 Q 249.8 126.8, 249.3 126.6 Q 248.8 126.5, 248.2 126.2 L 248.5 125.4 \" fill=\"#CCCC00\"/>\n",
       "<path class=\"atom-8\" d=\"M 247.6 96.2 Q 247.6 94.4, 248.5 93.4 Q 249.4 92.4, 251.1 92.4 Q 252.7 92.4, 253.6 93.4 Q 254.5 94.4, 254.5 96.2 Q 254.5 98.0, 253.6 99.1 Q 252.7 100.1, 251.1 100.1 Q 249.4 100.1, 248.5 99.1 Q 247.6 98.0, 247.6 96.2 M 251.1 99.3 Q 252.2 99.3, 252.8 98.5 Q 253.5 97.7, 253.5 96.2 Q 253.5 94.7, 252.8 94.0 Q 252.2 93.2, 251.1 93.2 Q 249.9 93.2, 249.3 94.0 Q 248.7 94.7, 248.7 96.2 Q 248.7 97.7, 249.3 98.5 Q 249.9 99.3, 251.1 99.3 \" fill=\"#FF0000\"/>\n",
       "<path class=\"atom-9\" d=\"M 246.7 149.4 Q 246.7 147.6, 247.6 146.6 Q 248.4 145.6, 250.1 145.6 Q 251.8 145.6, 252.7 146.6 Q 253.6 147.6, 253.6 149.4 Q 253.6 151.3, 252.7 152.3 Q 251.8 153.3, 250.1 153.3 Q 248.5 153.3, 247.6 152.3 Q 246.7 151.3, 246.7 149.4 M 250.1 152.5 Q 251.3 152.5, 251.9 151.7 Q 252.5 151.0, 252.5 149.4 Q 252.5 148.0, 251.9 147.2 Q 251.3 146.5, 250.1 146.5 Q 249.0 146.5, 248.3 147.2 Q 247.7 147.9, 247.7 149.4 Q 247.7 151.0, 248.3 151.7 Q 249.0 152.5, 250.1 152.5 \" fill=\"#FF0000\"/>\n",
       "<path class=\"atom-18\" d=\"M 22.5 91.9 L 27.0 91.9 L 27.0 92.8 L 23.5 92.8 L 23.5 95.1 L 26.6 95.1 L 26.6 95.9 L 23.5 95.9 L 23.5 99.5 L 22.5 99.5 L 22.5 91.9 \" fill=\"#33CCCC\"/>\n",
       "<path class=\"atom-19\" d=\"M 48.6 119.0 L 53.1 119.0 L 53.1 119.9 L 49.7 119.9 L 49.7 122.2 L 52.7 122.2 L 52.7 123.0 L 49.7 123.0 L 49.7 126.6 L 48.6 126.6 L 48.6 119.0 \" fill=\"#33CCCC\"/>\n",
       "<path class=\"atom-20\" d=\"M 49.6 65.8 L 54.1 65.8 L 54.1 66.6 L 50.6 66.6 L 50.6 68.9 L 53.7 68.9 L 53.7 69.8 L 50.6 69.8 L 50.6 73.3 L 49.6 73.3 L 49.6 65.8 \" fill=\"#33CCCC\"/>\n",
       "<path class=\"atom-21\" d=\"M 76.2 66.3 L 80.7 66.3 L 80.7 67.1 L 77.2 67.1 L 77.2 69.4 L 80.3 69.4 L 80.3 70.3 L 77.2 70.3 L 77.2 73.8 L 76.2 73.8 L 76.2 66.3 \" fill=\"#33CCCC\"/>\n",
       "<path class=\"atom-22\" d=\"M 75.3 119.5 L 79.7 119.5 L 79.7 120.4 L 76.3 120.4 L 76.3 122.6 L 79.4 122.6 L 79.4 123.5 L 76.3 123.5 L 76.3 127.0 L 75.3 127.0 L 75.3 119.5 \" fill=\"#33CCCC\"/>\n",
       "<path class=\"atom-23\" d=\"M 101.9 120.0 L 106.4 120.0 L 106.4 120.8 L 102.9 120.8 L 102.9 123.1 L 106.0 123.1 L 106.0 124.0 L 102.9 124.0 L 102.9 127.5 L 101.9 127.5 L 101.9 120.0 \" fill=\"#33CCCC\"/>\n",
       "<path class=\"atom-24\" d=\"M 102.8 66.7 L 107.3 66.7 L 107.3 67.6 L 103.8 67.6 L 103.8 69.9 L 106.9 69.9 L 106.9 70.8 L 103.8 70.8 L 103.8 74.3 L 102.8 74.3 L 102.8 66.7 \" fill=\"#33CCCC\"/>\n",
       "<path class=\"atom-25\" d=\"M 129.5 67.2 L 133.9 67.2 L 133.9 68.1 L 130.5 68.1 L 130.5 70.4 L 133.6 70.4 L 133.6 71.2 L 130.5 71.2 L 130.5 74.7 L 129.5 74.7 L 129.5 67.2 \" fill=\"#33CCCC\"/>\n",
       "<path class=\"atom-26\" d=\"M 128.5 120.4 L 133.0 120.4 L 133.0 121.3 L 129.5 121.3 L 129.5 123.6 L 132.6 123.6 L 132.6 124.5 L 129.5 124.5 L 129.5 128.0 L 128.5 128.0 L 128.5 120.4 \" fill=\"#33CCCC\"/>\n",
       "<path class=\"atom-27\" d=\"M 155.1 120.9 L 159.6 120.9 L 159.6 121.8 L 156.1 121.8 L 156.1 124.1 L 159.2 124.1 L 159.2 124.9 L 156.1 124.9 L 156.1 128.5 L 155.1 128.5 L 155.1 120.9 \" fill=\"#33CCCC\"/>\n",
       "<path class=\"atom-28\" d=\"M 156.1 67.7 L 160.6 67.7 L 160.6 68.5 L 157.1 68.5 L 157.1 70.8 L 160.2 70.8 L 160.2 71.7 L 157.1 71.7 L 157.1 75.2 L 156.1 75.2 L 156.1 67.7 \" fill=\"#33CCCC\"/>\n",
       "<path class=\"atom-29\" d=\"M 182.7 68.2 L 187.2 68.2 L 187.2 69.0 L 183.7 69.0 L 183.7 71.3 L 186.8 71.3 L 186.8 72.2 L 183.7 72.2 L 183.7 75.7 L 182.7 75.7 L 182.7 68.2 \" fill=\"#33CCCC\"/>\n",
       "<path class=\"atom-30\" d=\"M 181.7 121.4 L 186.2 121.4 L 186.2 122.3 L 182.8 122.3 L 182.8 124.6 L 185.8 124.6 L 185.8 125.4 L 182.8 125.4 L 182.8 128.9 L 181.7 128.9 L 181.7 121.4 \" fill=\"#33CCCC\"/>\n",
       "<path class=\"atom-33\" d=\"M 420.6 102.9 Q 420.6 101.1, 421.5 100.0 Q 422.4 99.0, 424.0 99.0 Q 425.7 99.0, 426.6 100.0 Q 427.5 101.1, 427.5 102.9 Q 427.5 104.7, 426.6 105.7 Q 425.7 106.8, 424.0 106.8 Q 422.4 106.8, 421.5 105.7 Q 420.6 104.7, 420.6 102.9 M 424.0 105.9 Q 425.2 105.9, 425.8 105.2 Q 426.4 104.4, 426.4 102.9 Q 426.4 101.4, 425.8 100.6 Q 425.2 99.9, 424.0 99.9 Q 422.9 99.9, 422.3 100.6 Q 421.6 101.4, 421.6 102.9 Q 421.6 104.4, 422.3 105.2 Q 422.9 105.9, 424.0 105.9 \" fill=\"#FF0000\"/>\n",
       "<path class=\"atom-34\" d=\"M 380.2 125.2 Q 380.2 123.4, 381.1 122.4 Q 382.0 121.4, 383.7 121.4 Q 385.4 121.4, 386.3 122.4 Q 387.2 123.4, 387.2 125.2 Q 387.2 127.0, 386.3 128.1 Q 385.3 129.1, 383.7 129.1 Q 382.0 129.1, 381.1 128.1 Q 380.2 127.0, 380.2 125.2 M 383.7 128.3 Q 384.8 128.3, 385.5 127.5 Q 386.1 126.7, 386.1 125.2 Q 386.1 123.7, 385.5 123.0 Q 384.8 122.2, 383.7 122.2 Q 382.5 122.2, 381.9 123.0 Q 381.3 123.7, 381.3 125.2 Q 381.3 126.7, 381.9 127.5 Q 382.5 128.3, 383.7 128.3 \" fill=\"#FF0000\"/>\n",
       "<path class=\"atom-34\" d=\"M 388.2 122.6 L 390.8 122.6 L 390.8 123.2 L 388.2 123.2 L 388.2 122.6 \" fill=\"#FF0000\"/>\n",
       "</svg>"
      ],
      "text/plain": [
       "<IPython.core.display.SVG object>"
      ]
     },
     "execution_count": 20,
     "metadata": {},
     "output_type": "execute_result"
    }
   ],
   "source": [
    "depictBit(struture_id3,mol3)"
   ]
  },
  {
   "cell_type": "code",
   "execution_count": 21,
   "metadata": {},
   "outputs": [
    {
     "data": {
      "image/svg+xml": [
       "<svg xmlns=\"http://www.w3.org/2000/svg\" xmlns:rdkit=\"http://www.rdkit.org/xml\" xmlns:xlink=\"http://www.w3.org/1999/xlink\" version=\"1.1\" baseProfile=\"full\" xml:space=\"preserve\" width=\"450px\" height=\"200px\" viewBox=\"0 0 450 200\">\n",
       "<!-- END OF HEADER -->\n",
       "<rect style=\"opacity:1.0;fill:#FFFFFF;stroke:none\" width=\"450.0\" height=\"200.0\" x=\"0.0\" y=\"0.0\"> </rect>\n",
       "<ellipse cx=\"61.8\" cy=\"178.1\" rx=\"11.6\" ry=\"11.9\" class=\"atom-12\" style=\"fill:#4C4CFF;fill-rule:evenodd;stroke:#4C4CFF;stroke-width:1.0px;stroke-linecap:butt;stroke-linejoin:miter;stroke-opacity:1\"/>\n",
       "<path class=\"bond-0 atom-0 atom-1\" d=\"M 72.9,25.0 L 97.6,22.1\" style=\"fill:none;fill-rule:evenodd;stroke:#000000;stroke-width:2.0px;stroke-linecap:butt;stroke-linejoin:miter;stroke-opacity:1\"/>\n",
       "<path class=\"bond-0 atom-0 atom-1\" d=\"M 97.6,22.1 L 122.3,19.2\" style=\"fill:none;fill-rule:evenodd;stroke:#0000FF;stroke-width:2.0px;stroke-linecap:butt;stroke-linejoin:miter;stroke-opacity:1\"/>\n",
       "<path class=\"bond-1 atom-1 atom-2\" d=\"M 138.0,28.3 L 151.5,46.5\" style=\"fill:none;fill-rule:evenodd;stroke:#0000FF;stroke-width:2.0px;stroke-linecap:butt;stroke-linejoin:miter;stroke-opacity:1\"/>\n",
       "<path class=\"bond-1 atom-1 atom-2\" d=\"M 151.5,46.5 L 165.1,64.6\" style=\"fill:none;fill-rule:evenodd;stroke:#000000;stroke-width:2.0px;stroke-linecap:butt;stroke-linejoin:miter;stroke-opacity:1\"/>\n",
       "<path class=\"bond-1 atom-1 atom-2\" d=\"M 131.0,33.5 L 143.1,49.7\" style=\"fill:none;fill-rule:evenodd;stroke:#0000FF;stroke-width:2.0px;stroke-linecap:butt;stroke-linejoin:miter;stroke-opacity:1\"/>\n",
       "<path class=\"bond-1 atom-1 atom-2\" d=\"M 143.1,49.7 L 155.1,65.8\" style=\"fill:none;fill-rule:evenodd;stroke:#000000;stroke-width:2.0px;stroke-linecap:butt;stroke-linejoin:miter;stroke-opacity:1\"/>\n",
       "<path class=\"bond-2 atom-2 atom-3\" d=\"M 165.1,64.6 L 189.8,61.7\" style=\"fill:none;fill-rule:evenodd;stroke:#000000;stroke-width:2.0px;stroke-linecap:butt;stroke-linejoin:miter;stroke-opacity:1\"/>\n",
       "<path class=\"bond-2 atom-2 atom-3\" d=\"M 189.8,61.7 L 214.5,58.8\" style=\"fill:none;fill-rule:evenodd;stroke:#0000FF;stroke-width:2.0px;stroke-linecap:butt;stroke-linejoin:miter;stroke-opacity:1\"/>\n",
       "<path class=\"bond-3 atom-3 atom-4\" d=\"M 230.2,67.9 L 243.8,86.1\" style=\"fill:none;fill-rule:evenodd;stroke:#0000FF;stroke-width:2.0px;stroke-linecap:butt;stroke-linejoin:miter;stroke-opacity:1\"/>\n",
       "<path class=\"bond-3 atom-3 atom-4\" d=\"M 243.8,86.1 L 257.3,104.2\" style=\"fill:none;fill-rule:evenodd;stroke:#000000;stroke-width:2.0px;stroke-linecap:butt;stroke-linejoin:miter;stroke-opacity:1\"/>\n",
       "<path class=\"bond-4 atom-4 atom-5\" d=\"M 257.3,104.2 L 314.9,97.4\" style=\"fill:none;fill-rule:evenodd;stroke:#000000;stroke-width:2.0px;stroke-linecap:butt;stroke-linejoin:miter;stroke-opacity:1\"/>\n",
       "<path class=\"bond-5 atom-5 atom-6\" d=\"M 314.9,97.4 L 354.2,139.9\" style=\"fill:none;fill-rule:evenodd;stroke:#000000;stroke-width:2.0px;stroke-linecap:butt;stroke-linejoin:miter;stroke-opacity:1\"/>\n",
       "<path class=\"bond-6 atom-6 atom-7\" d=\"M 354.2,139.9 L 406.8,115.6\" style=\"fill:none;fill-rule:evenodd;stroke:#000000;stroke-width:2.0px;stroke-linecap:butt;stroke-linejoin:miter;stroke-opacity:1\"/>\n",
       "<path class=\"bond-7 atom-7 atom-8\" d=\"M 406.8,115.6 L 404.0,92.1\" style=\"fill:none;fill-rule:evenodd;stroke:#000000;stroke-width:2.0px;stroke-linecap:butt;stroke-linejoin:miter;stroke-opacity:1\"/>\n",
       "<path class=\"bond-7 atom-7 atom-8\" d=\"M 404.0,92.1 L 401.2,68.6\" style=\"fill:none;fill-rule:evenodd;stroke:#FF0000;stroke-width:2.0px;stroke-linecap:butt;stroke-linejoin:miter;stroke-opacity:1\"/>\n",
       "<path class=\"bond-8 atom-8 atom-9\" d=\"M 390.6,56.2 L 366.9,51.5\" style=\"fill:none;fill-rule:evenodd;stroke:#FF0000;stroke-width:2.0px;stroke-linecap:butt;stroke-linejoin:miter;stroke-opacity:1\"/>\n",
       "<path class=\"bond-8 atom-8 atom-9\" d=\"M 366.9,51.5 L 343.2,46.8\" style=\"fill:none;fill-rule:evenodd;stroke:#000000;stroke-width:2.0px;stroke-linecap:butt;stroke-linejoin:miter;stroke-opacity:1\"/>\n",
       "<path class=\"bond-9 atom-2 atom-10\" d=\"M 165.1,64.6 L 155.8,86.2\" style=\"fill:none;fill-rule:evenodd;stroke:#000000;stroke-width:2.0px;stroke-linecap:butt;stroke-linejoin:miter;stroke-opacity:1\"/>\n",
       "<path class=\"bond-9 atom-2 atom-10\" d=\"M 155.8,86.2 L 146.6,107.8\" style=\"fill:none;fill-rule:evenodd;stroke:#0000FF;stroke-width:2.0px;stroke-linecap:butt;stroke-linejoin:miter;stroke-opacity:1\"/>\n",
       "<path class=\"bond-10 atom-10 atom-11\" d=\"M 134.1,118.8 L 103.1,122.5\" style=\"fill:none;fill-rule:evenodd;stroke:#0000FF;stroke-width:2.0px;stroke-linecap:butt;stroke-linejoin:miter;stroke-opacity:1\"/>\n",
       "<path class=\"bond-11 atom-11 atom-12\" d=\"M 76.4,133.1 L 69.3,149.6\" style=\"fill:none;fill-rule:evenodd;stroke:#0000FF;stroke-width:2.0px;stroke-linecap:butt;stroke-linejoin:miter;stroke-opacity:1\"/>\n",
       "<path class=\"bond-11 atom-11 atom-12\" d=\"M 69.3,149.6 L 62.2,166.0\" style=\"fill:none;fill-rule:evenodd;stroke:#FF0000;stroke-width:2.0px;stroke-linecap:butt;stroke-linejoin:miter;stroke-opacity:1\"/>\n",
       "<path class=\"bond-11 atom-11 atom-12\" d=\"M 84.3,136.5 L 77.3,153.0\" style=\"fill:none;fill-rule:evenodd;stroke:#0000FF;stroke-width:2.0px;stroke-linecap:butt;stroke-linejoin:miter;stroke-opacity:1\"/>\n",
       "<path class=\"bond-11 atom-11 atom-12\" d=\"M 77.3,153.0 L 70.2,169.5\" style=\"fill:none;fill-rule:evenodd;stroke:#FF0000;stroke-width:2.0px;stroke-linecap:butt;stroke-linejoin:miter;stroke-opacity:1\"/>\n",
       "<path class=\"bond-12 atom-11 atom-13\" d=\"M 77.1,114.6 L 67.5,101.7\" style=\"fill:none;fill-rule:evenodd;stroke:#0000FF;stroke-width:2.0px;stroke-linecap:butt;stroke-linejoin:miter;stroke-opacity:1\"/>\n",
       "<path class=\"bond-12 atom-11 atom-13\" d=\"M 67.5,101.7 L 57.8,88.8\" style=\"fill:none;fill-rule:evenodd;stroke:#FF0000;stroke-width:2.0px;stroke-linecap:butt;stroke-linejoin:miter;stroke-opacity:1\"/>\n",
       "<path class=\"bond-13 atom-9 atom-5\" d=\"M 343.2,46.8 L 314.9,97.4\" style=\"fill:none;fill-rule:evenodd;stroke:#000000;stroke-width:2.0px;stroke-linecap:butt;stroke-linejoin:miter;stroke-opacity:1\"/>\n",
       "<path d=\"M 256.6,103.3 L 257.3,104.2 L 260.2,103.9\" style=\"fill:none;stroke:#000000;stroke-width:2.0px;stroke-linecap:butt;stroke-linejoin:miter;stroke-opacity:1;\"/>\n",
       "<path d=\"M 352.2,137.8 L 354.2,139.9 L 356.8,138.7\" style=\"fill:none;stroke:#000000;stroke-width:2.0px;stroke-linecap:butt;stroke-linejoin:miter;stroke-opacity:1;\"/>\n",
       "<path d=\"M 404.2,116.9 L 406.8,115.6 L 406.7,114.5\" style=\"fill:none;stroke:#000000;stroke-width:2.0px;stroke-linecap:butt;stroke-linejoin:miter;stroke-opacity:1;\"/>\n",
       "<path d=\"M 344.3,47.0 L 343.2,46.8 L 341.7,49.3\" style=\"fill:none;stroke:#000000;stroke-width:2.0px;stroke-linecap:butt;stroke-linejoin:miter;stroke-opacity:1;\"/>\n",
       "<path class=\"atom-1\" d=\"M 126.8 10.0 L 132.1 18.7 Q 132.7 19.5, 133.5 21.1 Q 134.4 22.7, 134.4 22.7 L 134.4 10.0 L 136.6 10.0 L 136.6 26.4 L 134.4 26.4 L 128.6 16.9 Q 127.9 15.8, 127.2 14.5 Q 126.5 13.2, 126.3 12.9 L 126.3 26.4 L 124.2 26.4 L 124.2 10.0 L 126.8 10.0 \" fill=\"#0000FF\"/>\n",
       "<path class=\"atom-3\" d=\"M 219.0 49.6 L 224.4 58.3 Q 224.9 59.1, 225.8 60.7 Q 226.6 62.2, 226.7 62.3 L 226.7 49.6 L 228.9 49.6 L 228.9 66.0 L 226.6 66.0 L 220.8 56.5 Q 220.2 55.4, 219.4 54.1 Q 218.7 52.8, 218.5 52.4 L 218.5 66.0 L 216.4 66.0 L 216.4 49.6 L 219.0 49.6 \" fill=\"#0000FF\"/>\n",
       "<path class=\"atom-3\" d=\"M 232.0 49.6 L 234.3 49.6 L 234.3 56.6 L 242.7 56.6 L 242.7 49.6 L 244.9 49.6 L 244.9 66.0 L 242.7 66.0 L 242.7 58.4 L 234.3 58.4 L 234.3 66.0 L 232.0 66.0 L 232.0 49.6 \" fill=\"#0000FF\"/>\n",
       "<path class=\"atom-8\" d=\"M 392.5 58.1 Q 392.5 54.2, 394.4 52.0 Q 396.4 49.8, 400.0 49.8 Q 403.6 49.8, 405.6 52.0 Q 407.5 54.2, 407.5 58.1 Q 407.5 62.1, 405.6 64.4 Q 403.6 66.7, 400.0 66.7 Q 396.4 66.7, 394.4 64.4 Q 392.5 62.2, 392.5 58.1 M 400.0 64.8 Q 402.5 64.8, 403.8 63.1 Q 405.2 61.4, 405.2 58.1 Q 405.2 54.9, 403.8 53.3 Q 402.5 51.7, 400.0 51.7 Q 397.5 51.7, 396.1 53.3 Q 394.8 54.9, 394.8 58.1 Q 394.8 61.5, 396.1 63.1 Q 397.5 64.8, 400.0 64.8 \" fill=\"#FF0000\"/>\n",
       "<path class=\"atom-10\" d=\"M 138.6 109.7 L 144.0 118.4 Q 144.5 119.2, 145.4 120.8 Q 146.2 122.3, 146.3 122.4 L 146.3 109.7 L 148.5 109.7 L 148.5 126.1 L 146.2 126.1 L 140.4 116.6 Q 139.8 115.5, 139.0 114.2 Q 138.3 112.9, 138.1 112.5 L 138.1 126.1 L 136.0 126.1 L 136.0 109.7 L 138.6 109.7 \" fill=\"#0000FF\"/>\n",
       "<path class=\"atom-10\" d=\"M 151.6 109.7 L 153.9 109.7 L 153.9 116.6 L 162.3 116.6 L 162.3 109.7 L 164.5 109.7 L 164.5 126.1 L 162.3 126.1 L 162.3 118.5 L 153.9 118.5 L 153.9 126.1 L 151.6 126.1 L 151.6 109.7 \" fill=\"#0000FF\"/>\n",
       "<path class=\"atom-11\" d=\"M 81.1 116.5 L 86.4 125.2 Q 87.0 126.1, 87.8 127.6 Q 88.7 129.2, 88.7 129.2 L 88.7 116.5 L 90.9 116.5 L 90.9 132.9 L 88.7 132.9 L 82.9 123.4 Q 82.2 122.3, 81.5 121.0 Q 80.8 119.7, 80.6 119.4 L 80.6 132.9 L 78.5 132.9 L 78.5 116.5 L 81.1 116.5 \" fill=\"#0000FF\"/>\n",
       "<path class=\"atom-11\" d=\"M 94.0 119.5 L 96.9 119.5 L 96.9 116.4 L 98.2 116.4 L 98.2 119.5 L 101.1 119.5 L 101.1 120.6 L 98.2 120.6 L 98.2 123.6 L 96.9 123.6 L 96.9 120.6 L 94.0 120.6 L 94.0 119.5 \" fill=\"#0000FF\"/>\n",
       "<path class=\"atom-12\" d=\"M 54.3 178.0 Q 54.3 174.1, 56.2 171.9 Q 58.2 169.7, 61.8 169.7 Q 65.5 169.7, 67.4 171.9 Q 69.4 174.1, 69.4 178.0 Q 69.4 182.0, 67.4 184.3 Q 65.4 186.5, 61.8 186.5 Q 58.2 186.5, 56.2 184.3 Q 54.3 182.0, 54.3 178.0 M 61.8 184.7 Q 64.3 184.7, 65.7 183.0 Q 67.0 181.3, 67.0 178.0 Q 67.0 174.8, 65.7 173.2 Q 64.3 171.5, 61.8 171.5 Q 59.3 171.5, 58.0 173.1 Q 56.6 174.8, 56.6 178.0 Q 56.6 181.3, 58.0 183.0 Q 59.3 184.7, 61.8 184.7 \" fill=\"#FF0000\"/>\n",
       "<path class=\"atom-13\" d=\"M 42.5 78.3 Q 42.5 74.4, 44.4 72.2 Q 46.4 70.0, 50.0 70.0 Q 53.6 70.0, 55.6 72.2 Q 57.5 74.4, 57.5 78.3 Q 57.5 82.3, 55.6 84.6 Q 53.6 86.8, 50.0 86.8 Q 46.4 86.8, 44.4 84.6 Q 42.5 82.3, 42.5 78.3 M 50.0 85.0 Q 52.5 85.0, 53.8 83.3 Q 55.2 81.6, 55.2 78.3 Q 55.2 75.1, 53.8 73.5 Q 52.5 71.8, 50.0 71.8 Q 47.5 71.8, 46.1 73.5 Q 44.8 75.1, 44.8 78.3 Q 44.8 81.6, 46.1 83.3 Q 47.5 85.0, 50.0 85.0 \" fill=\"#FF0000\"/>\n",
       "<path class=\"atom-13\" d=\"M 59.9 72.7 L 65.5 72.7 L 65.5 73.9 L 59.9 73.9 L 59.9 72.7 \" fill=\"#FF0000\"/>\n",
       "</svg>"
      ],
      "text/plain": [
       "<IPython.core.display.SVG object>"
      ]
     },
     "execution_count": 21,
     "metadata": {},
     "output_type": "execute_result"
    }
   ],
   "source": [
    "depictBit(struture_id4,mol4)"
   ]
  },
  {
   "cell_type": "code",
   "execution_count": null,
   "metadata": {},
   "outputs": [],
   "source": []
  }
 ],
 "metadata": {
  "kernelspec": {
   "display_name": "Python 3 (ipykernel)",
   "language": "python",
   "name": "python3"
  },
  "language_info": {
   "codemirror_mode": {
    "name": "ipython",
    "version": 3
   },
   "file_extension": ".py",
   "mimetype": "text/x-python",
   "name": "python",
   "nbconvert_exporter": "python",
   "pygments_lexer": "ipython3",
   "version": "3.11.5"
  }
 },
 "nbformat": 4,
 "nbformat_minor": 2
}
