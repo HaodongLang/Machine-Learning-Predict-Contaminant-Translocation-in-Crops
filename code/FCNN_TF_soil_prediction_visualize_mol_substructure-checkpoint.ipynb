{
 "cells": [
  {
   "cell_type": "code",
   "execution_count": 1,
   "metadata": {
    "pycharm": {
     "is_executing": true
    }
   },
   "outputs": [],
   "source": [
    "import numpy as np\n",
    "import pandas as pd\n",
    "import matplotlib.pyplot as plt\n",
    "import seaborn as sns\n",
    "from hyperopt import hp,fmin,tpe,Trials\n",
    "from hyperopt.early_stop import no_progress_loss\n",
    "from sklearn.model_selection import train_test_split, LeavePOut, cross_validate\n",
    "from sklearn.model_selection import KFold #k折交叉验证\n",
    "from sklearn.model_selection import GridSearchCV #网格搜索\n",
    "from sklearn.model_selection import cross_val_score\n",
    "from sklearn.cluster import KMeans\n",
    "from sklearn.inspection import permutation_importance\n",
    "\n",
    "from sklearn.preprocessing import StandardScaler\n",
    "from sklearn.metrics import make_scorer, r2_score, mean_absolute_error\n",
    "from sklearn.decomposition import PCA\n",
    "from sklearn.preprocessing import StandardScaler\n",
    "import os\n",
    "from sklearn.ensemble import GradientBoostingRegressor\n",
    "from sklearn.neural_network import MLPRegressor\n",
    "import sklearn.linear_model as LM\n",
    "from rdkit.Chem import Draw\n",
    "from rdkit import Chem,DataStructs\n",
    "from rdkit.Chem import AllChem\n",
    "import re\n",
    "from collections import defaultdict\n",
    "from utility import Kfold\n",
    "import scipy\n",
    "import warnings\n",
    "from utility import depictBit,Kfold"
   ]
  },
  {
   "cell_type": "code",
   "execution_count": 2,
   "metadata": {},
   "outputs": [
    {
     "name": "stdout",
     "output_type": "stream",
     "text": [
      "reading data\n",
      "reading data finished\n"
     ]
    }
   ],
   "source": [
    "print('reading data')\n",
    "pest_data=pd.read_excel('../data/data_final.xlsx',sheet_name=\"pesticide\")\n",
    "PPCPs_data=pd.read_excel('../data/data_final.xlsx',sheet_name=\"PPCPs\")\n",
    "other_data=pd.read_excel('../data/data_final.xlsx',sheet_name=\"other\")\n",
    "\n",
    "data = pd.concat([pest_data,PPCPs_data,other_data],ignore_index=True)\n",
    "print('reading data finished')"
   ]
  },
  {
   "cell_type": "code",
   "execution_count": 3,
   "metadata": {},
   "outputs": [
    {
     "name": "stdout",
     "output_type": "stream",
     "text": [
      "statr generating ECFP\n",
      "finish generating ECFP\n",
      "start 5-fold cross-validation for FCNN-ECFP model\n"
     ]
    }
   ],
   "source": [
    "SMILES = data['SMILES'].to_numpy()\n",
    "flipid = data['flipid'].to_numpy().reshape(-1,1)\n",
    "RCF_soil = data['log RCF'].to_numpy().reshape(-1,1)\n",
    "TF = data['log TF'].to_numpy().reshape(-1,1)\n",
    "#generate ECFP for all molecules\n",
    "print('statr generating ECFP')\n",
    "FP = []\n",
    "\n",
    "for i,sm in enumerate(SMILES):\n",
    "    mol = Chem.MolFromSmiles(sm)\n",
    "    fp = AllChem.GetMorganFingerprintAsBitVect(mol,2,nBits=1024)\n",
    "    FP.append(fp)\n",
    "FP = np.array(FP)\n",
    "print('finish generating ECFP')\n",
    "\n",
    "n_sample = len(TF)\n",
    "\n",
    "print('start 5-fold cross-validation for FCNN-ECFP model')\n",
    "feature_w_smiles = np.concatenate((FP,RCF_soil,flipid),1)\n",
    "feature_w_smiles_z = feature_w_smiles\n",
    "feature_w_smiles_z[np.isnan(feature_w_smiles_z)] = 0\n",
    "arr=np.arange(n_sample)\n",
    "np.random.shuffle(arr)\n",
    "np.save(\"sample_index.npy\",arr)\n",
    "total_id = np.load('sample_index.npy')"
   ]
  },
  {
   "cell_type": "code",
   "execution_count": 4,
   "metadata": {},
   "outputs": [
    {
     "name": "stdout",
     "output_type": "stream",
     "text": [
      "batch is  0\n"
     ]
    },
    {
     "name": "stderr",
     "output_type": "stream",
     "text": [
      "E:\\anaconda3\\Lib\\site-packages\\sklearn\\neural_network\\_multilayer_perceptron.py:1625: DataConversionWarning: A column-vector y was passed when a 1d array was expected. Please change the shape of y to (n_samples, ), for example using ravel().\n",
      "  y = column_or_1d(y, warn=True)\n",
      "E:\\anaconda3\\Lib\\site-packages\\sklearn\\neural_network\\_multilayer_perceptron.py:1625: DataConversionWarning: A column-vector y was passed when a 1d array was expected. Please change the shape of y to (n_samples, ), for example using ravel().\n",
      "  y = column_or_1d(y, warn=True)\n",
      "E:\\anaconda3\\Lib\\site-packages\\sklearn\\neural_network\\_multilayer_perceptron.py:1625: DataConversionWarning: A column-vector y was passed when a 1d array was expected. Please change the shape of y to (n_samples, ), for example using ravel().\n",
      "  y = column_or_1d(y, warn=True)\n",
      "E:\\anaconda3\\Lib\\site-packages\\sklearn\\neural_network\\_multilayer_perceptron.py:1625: DataConversionWarning: A column-vector y was passed when a 1d array was expected. Please change the shape of y to (n_samples, ), for example using ravel().\n",
      "  y = column_or_1d(y, warn=True)\n",
      "E:\\anaconda3\\Lib\\site-packages\\sklearn\\neural_network\\_multilayer_perceptron.py:1625: DataConversionWarning: A column-vector y was passed when a 1d array was expected. Please change the shape of y to (n_samples, ), for example using ravel().\n",
      "  y = column_or_1d(y, warn=True)\n",
      "E:\\anaconda3\\Lib\\site-packages\\sklearn\\neural_network\\_multilayer_perceptron.py:1625: DataConversionWarning: A column-vector y was passed when a 1d array was expected. Please change the shape of y to (n_samples, ), for example using ravel().\n",
      "  y = column_or_1d(y, warn=True)\n",
      "E:\\anaconda3\\Lib\\site-packages\\sklearn\\neural_network\\_multilayer_perceptron.py:1625: DataConversionWarning: A column-vector y was passed when a 1d array was expected. Please change the shape of y to (n_samples, ), for example using ravel().\n",
      "  y = column_or_1d(y, warn=True)\n",
      "E:\\anaconda3\\Lib\\site-packages\\sklearn\\neural_network\\_multilayer_perceptron.py:1625: DataConversionWarning: A column-vector y was passed when a 1d array was expected. Please change the shape of y to (n_samples, ), for example using ravel().\n",
      "  y = column_or_1d(y, warn=True)\n"
     ]
    },
    {
     "name": "stdout",
     "output_type": "stream",
     "text": [
      "0.6766353968935099\n",
      "best n_estimator is (128, 64, 32)\n",
      "batch is  1\n"
     ]
    },
    {
     "name": "stderr",
     "output_type": "stream",
     "text": [
      "E:\\anaconda3\\Lib\\site-packages\\sklearn\\neural_network\\_multilayer_perceptron.py:1625: DataConversionWarning: A column-vector y was passed when a 1d array was expected. Please change the shape of y to (n_samples, ), for example using ravel().\n",
      "  y = column_or_1d(y, warn=True)\n",
      "E:\\anaconda3\\Lib\\site-packages\\sklearn\\neural_network\\_multilayer_perceptron.py:1625: DataConversionWarning: A column-vector y was passed when a 1d array was expected. Please change the shape of y to (n_samples, ), for example using ravel().\n",
      "  y = column_or_1d(y, warn=True)\n",
      "E:\\anaconda3\\Lib\\site-packages\\sklearn\\neural_network\\_multilayer_perceptron.py:1625: DataConversionWarning: A column-vector y was passed when a 1d array was expected. Please change the shape of y to (n_samples, ), for example using ravel().\n",
      "  y = column_or_1d(y, warn=True)\n",
      "E:\\anaconda3\\Lib\\site-packages\\sklearn\\neural_network\\_multilayer_perceptron.py:1625: DataConversionWarning: A column-vector y was passed when a 1d array was expected. Please change the shape of y to (n_samples, ), for example using ravel().\n",
      "  y = column_or_1d(y, warn=True)\n",
      "E:\\anaconda3\\Lib\\site-packages\\sklearn\\neural_network\\_multilayer_perceptron.py:1625: DataConversionWarning: A column-vector y was passed when a 1d array was expected. Please change the shape of y to (n_samples, ), for example using ravel().\n",
      "  y = column_or_1d(y, warn=True)\n",
      "E:\\anaconda3\\Lib\\site-packages\\sklearn\\neural_network\\_multilayer_perceptron.py:1625: DataConversionWarning: A column-vector y was passed when a 1d array was expected. Please change the shape of y to (n_samples, ), for example using ravel().\n",
      "  y = column_or_1d(y, warn=True)\n",
      "E:\\anaconda3\\Lib\\site-packages\\sklearn\\neural_network\\_multilayer_perceptron.py:1625: DataConversionWarning: A column-vector y was passed when a 1d array was expected. Please change the shape of y to (n_samples, ), for example using ravel().\n",
      "  y = column_or_1d(y, warn=True)\n",
      "E:\\anaconda3\\Lib\\site-packages\\sklearn\\neural_network\\_multilayer_perceptron.py:1625: DataConversionWarning: A column-vector y was passed when a 1d array was expected. Please change the shape of y to (n_samples, ), for example using ravel().\n",
      "  y = column_or_1d(y, warn=True)\n"
     ]
    },
    {
     "name": "stdout",
     "output_type": "stream",
     "text": [
      "0.5571965768178275\n",
      "best n_estimator is (128, 64)\n",
      "batch is  2\n"
     ]
    },
    {
     "name": "stderr",
     "output_type": "stream",
     "text": [
      "E:\\anaconda3\\Lib\\site-packages\\sklearn\\neural_network\\_multilayer_perceptron.py:1625: DataConversionWarning: A column-vector y was passed when a 1d array was expected. Please change the shape of y to (n_samples, ), for example using ravel().\n",
      "  y = column_or_1d(y, warn=True)\n",
      "E:\\anaconda3\\Lib\\site-packages\\sklearn\\neural_network\\_multilayer_perceptron.py:1625: DataConversionWarning: A column-vector y was passed when a 1d array was expected. Please change the shape of y to (n_samples, ), for example using ravel().\n",
      "  y = column_or_1d(y, warn=True)\n",
      "E:\\anaconda3\\Lib\\site-packages\\sklearn\\neural_network\\_multilayer_perceptron.py:1625: DataConversionWarning: A column-vector y was passed when a 1d array was expected. Please change the shape of y to (n_samples, ), for example using ravel().\n",
      "  y = column_or_1d(y, warn=True)\n",
      "E:\\anaconda3\\Lib\\site-packages\\sklearn\\neural_network\\_multilayer_perceptron.py:1625: DataConversionWarning: A column-vector y was passed when a 1d array was expected. Please change the shape of y to (n_samples, ), for example using ravel().\n",
      "  y = column_or_1d(y, warn=True)\n",
      "E:\\anaconda3\\Lib\\site-packages\\sklearn\\neural_network\\_multilayer_perceptron.py:1625: DataConversionWarning: A column-vector y was passed when a 1d array was expected. Please change the shape of y to (n_samples, ), for example using ravel().\n",
      "  y = column_or_1d(y, warn=True)\n",
      "E:\\anaconda3\\Lib\\site-packages\\sklearn\\neural_network\\_multilayer_perceptron.py:1625: DataConversionWarning: A column-vector y was passed when a 1d array was expected. Please change the shape of y to (n_samples, ), for example using ravel().\n",
      "  y = column_or_1d(y, warn=True)\n",
      "E:\\anaconda3\\Lib\\site-packages\\sklearn\\neural_network\\_multilayer_perceptron.py:1625: DataConversionWarning: A column-vector y was passed when a 1d array was expected. Please change the shape of y to (n_samples, ), for example using ravel().\n",
      "  y = column_or_1d(y, warn=True)\n",
      "E:\\anaconda3\\Lib\\site-packages\\sklearn\\neural_network\\_multilayer_perceptron.py:1625: DataConversionWarning: A column-vector y was passed when a 1d array was expected. Please change the shape of y to (n_samples, ), for example using ravel().\n",
      "  y = column_or_1d(y, warn=True)\n"
     ]
    },
    {
     "name": "stdout",
     "output_type": "stream",
     "text": [
      "0.6295965132105565\n",
      "best n_estimator is (32, 16)\n",
      "batch is  3\n"
     ]
    },
    {
     "name": "stderr",
     "output_type": "stream",
     "text": [
      "E:\\anaconda3\\Lib\\site-packages\\sklearn\\neural_network\\_multilayer_perceptron.py:1625: DataConversionWarning: A column-vector y was passed when a 1d array was expected. Please change the shape of y to (n_samples, ), for example using ravel().\n",
      "  y = column_or_1d(y, warn=True)\n",
      "E:\\anaconda3\\Lib\\site-packages\\sklearn\\neural_network\\_multilayer_perceptron.py:1625: DataConversionWarning: A column-vector y was passed when a 1d array was expected. Please change the shape of y to (n_samples, ), for example using ravel().\n",
      "  y = column_or_1d(y, warn=True)\n",
      "E:\\anaconda3\\Lib\\site-packages\\sklearn\\neural_network\\_multilayer_perceptron.py:1625: DataConversionWarning: A column-vector y was passed when a 1d array was expected. Please change the shape of y to (n_samples, ), for example using ravel().\n",
      "  y = column_or_1d(y, warn=True)\n",
      "E:\\anaconda3\\Lib\\site-packages\\sklearn\\neural_network\\_multilayer_perceptron.py:1625: DataConversionWarning: A column-vector y was passed when a 1d array was expected. Please change the shape of y to (n_samples, ), for example using ravel().\n",
      "  y = column_or_1d(y, warn=True)\n",
      "E:\\anaconda3\\Lib\\site-packages\\sklearn\\neural_network\\_multilayer_perceptron.py:1625: DataConversionWarning: A column-vector y was passed when a 1d array was expected. Please change the shape of y to (n_samples, ), for example using ravel().\n",
      "  y = column_or_1d(y, warn=True)\n",
      "E:\\anaconda3\\Lib\\site-packages\\sklearn\\neural_network\\_multilayer_perceptron.py:1625: DataConversionWarning: A column-vector y was passed when a 1d array was expected. Please change the shape of y to (n_samples, ), for example using ravel().\n",
      "  y = column_or_1d(y, warn=True)\n",
      "E:\\anaconda3\\Lib\\site-packages\\sklearn\\neural_network\\_multilayer_perceptron.py:1625: DataConversionWarning: A column-vector y was passed when a 1d array was expected. Please change the shape of y to (n_samples, ), for example using ravel().\n",
      "  y = column_or_1d(y, warn=True)\n",
      "E:\\anaconda3\\Lib\\site-packages\\sklearn\\neural_network\\_multilayer_perceptron.py:1625: DataConversionWarning: A column-vector y was passed when a 1d array was expected. Please change the shape of y to (n_samples, ), for example using ravel().\n",
      "  y = column_or_1d(y, warn=True)\n"
     ]
    },
    {
     "name": "stdout",
     "output_type": "stream",
     "text": [
      "0.7560761999029777\n",
      "best n_estimator is (32, 16)\n",
      "batch is  4\n"
     ]
    },
    {
     "name": "stderr",
     "output_type": "stream",
     "text": [
      "E:\\anaconda3\\Lib\\site-packages\\sklearn\\neural_network\\_multilayer_perceptron.py:1625: DataConversionWarning: A column-vector y was passed when a 1d array was expected. Please change the shape of y to (n_samples, ), for example using ravel().\n",
      "  y = column_or_1d(y, warn=True)\n",
      "E:\\anaconda3\\Lib\\site-packages\\sklearn\\neural_network\\_multilayer_perceptron.py:1625: DataConversionWarning: A column-vector y was passed when a 1d array was expected. Please change the shape of y to (n_samples, ), for example using ravel().\n",
      "  y = column_or_1d(y, warn=True)\n",
      "E:\\anaconda3\\Lib\\site-packages\\sklearn\\neural_network\\_multilayer_perceptron.py:1625: DataConversionWarning: A column-vector y was passed when a 1d array was expected. Please change the shape of y to (n_samples, ), for example using ravel().\n",
      "  y = column_or_1d(y, warn=True)\n",
      "E:\\anaconda3\\Lib\\site-packages\\sklearn\\neural_network\\_multilayer_perceptron.py:1625: DataConversionWarning: A column-vector y was passed when a 1d array was expected. Please change the shape of y to (n_samples, ), for example using ravel().\n",
      "  y = column_or_1d(y, warn=True)\n",
      "E:\\anaconda3\\Lib\\site-packages\\sklearn\\neural_network\\_multilayer_perceptron.py:1625: DataConversionWarning: A column-vector y was passed when a 1d array was expected. Please change the shape of y to (n_samples, ), for example using ravel().\n",
      "  y = column_or_1d(y, warn=True)\n",
      "E:\\anaconda3\\Lib\\site-packages\\sklearn\\neural_network\\_multilayer_perceptron.py:1625: DataConversionWarning: A column-vector y was passed when a 1d array was expected. Please change the shape of y to (n_samples, ), for example using ravel().\n",
      "  y = column_or_1d(y, warn=True)\n",
      "E:\\anaconda3\\Lib\\site-packages\\sklearn\\neural_network\\_multilayer_perceptron.py:1625: DataConversionWarning: A column-vector y was passed when a 1d array was expected. Please change the shape of y to (n_samples, ), for example using ravel().\n",
      "  y = column_or_1d(y, warn=True)\n",
      "E:\\anaconda3\\Lib\\site-packages\\sklearn\\neural_network\\_multilayer_perceptron.py:1625: DataConversionWarning: A column-vector y was passed when a 1d array was expected. Please change the shape of y to (n_samples, ), for example using ravel().\n",
      "  y = column_or_1d(y, warn=True)\n"
     ]
    },
    {
     "name": "stdout",
     "output_type": "stream",
     "text": [
      "0.7054115769589364\n",
      "best n_estimator is (128, 64)\n",
      "final r2 is 0.6649832527567616\n"
     ]
    }
   ],
   "source": [
    "train_split_index,test_split_index = Kfold(n_sample,5)\n",
    "importance_=[]\n",
    "splits = 5\n",
    "prediction_w_smiles = []\n",
    "prediction_true_w_smiles = []\n",
    "test_score_all_w_smiles = []\n",
    "feature_importance_all_w_smiles = []\n",
    "\n",
    "importance_all_dots_w_smiles_test = []\n",
    "permute_importance_all_w_smiles_test = []\n",
    "\n",
    "importance_all_dots_w_smiles_train = []\n",
    "permute_importance_all_w_smiles_train = []\n",
    "score=[]\n",
    "for k in range(splits):\n",
    "    \n",
    "    print('batch is ',k)\n",
    "    train_index = train_split_index[k][:int(len(train_split_index[k])*0.875)]\n",
    "    valid_index = train_split_index[k][int(len(train_split_index[k])*0.875):]\n",
    "    test_index = test_split_index[k]\n",
    "    \n",
    "    train_id = [total_id[i] for i in train_index]\n",
    "    valid_id = [total_id[i] for i in valid_index]\n",
    "    test_id = [total_id[i] for i in test_index]\n",
    "    \n",
    "    train_feature = [feature_w_smiles_z[i] for i in train_id]\n",
    "    train_label = [TF[i] for i in train_id]\n",
    "    \n",
    "    valid_feature = [feature_w_smiles_z[i] for i in valid_id]\n",
    "    valid_label = [TF[i] for i in valid_id]\n",
    "    \n",
    "    test_feature = [feature_w_smiles_z[i] for i in test_id]\n",
    "    test_label = [TF[i] for i in test_id]\n",
    "    n_estimator = [(64,32),(128,64),(32,16),(128,64,32)]\n",
    "    best_valid_score = 0\n",
    "    for ne in n_estimator:\n",
    "        model = MLPRegressor(hidden_layer_sizes=ne,learning_rate_init=0.0005,batch_size=64,max_iter=1000,random_state=1)\n",
    "        model.fit(np.array(train_feature),np.array(train_label))\n",
    "        valid_score = model.score(valid_feature,np.array(valid_label))\n",
    "        if valid_score>best_valid_score:\n",
    "            best_valid_score = valid_score\n",
    "            test_score = model.score(test_feature,np.array(test_label))\n",
    "            #df = model.predict_proba(test_feature)\n",
    "            pred = model.predict(test_feature)\n",
    "            best_n = ne\n",
    "        model = MLPRegressor(hidden_layer_sizes=best_n,learning_rate_init=0.0005,batch_size=64,max_iter=1000,random_state=0).fit(np.array(train_feature),np.array(train_label))\n",
    "        permut_importance = permutation_importance(model,test_feature,np.array(test_label),n_repeats=10)\n",
    "    permute_importance_all_w_smiles_test.append(permut_importance.importances_mean)\n",
    "    importance_.append(permut_importance.importances)\n",
    "    print(test_score)\n",
    "    score.append(test_score)\n",
    "    print('best n_estimator is',best_n)\n",
    "print(\"final r2 is\",np.mean(score))"
   ]
  },
  {
   "cell_type": "code",
   "execution_count": 6,
   "metadata": {},
   "outputs": [
    {
     "name": "stdout",
     "output_type": "stream",
     "text": [
      "The top 10 most important substructure id from permutation importance is [ 875  659 1019  881   53  936  356  807  814   59]\n"
     ]
    }
   ],
   "source": [
    "mean_feature_importance_all_permute_smiles_test=np.mean(permute_importance_all_w_smiles_test,0)\n",
    "sorted_feature_imporatnce_idx_permute_smiles_test=np.argsort(mean_feature_importance_all_permute_smiles_test[:-2])[::-1]\n",
    "top_10_permute=sorted_feature_imporatnce_idx_permute_smiles_test[:10]\n",
    "print('The top 10 most important substructure id from permutation importance is',top_10_permute)"
   ]
  },
  {
   "cell_type": "code",
   "execution_count": 7,
   "metadata": {},
   "outputs": [
    {
     "name": "stdout",
     "output_type": "stream",
     "text": [
      "[0.02199728722418587, 0.015785548156175278, 0.012999273887312701, 0.010574047564054834, 0.010097542158656048]\n",
      "[4 3 2 1 0]\n"
     ]
    }
   ],
   "source": [
    "top0 = []\n",
    "top1 = []\n",
    "top2 = []\n",
    "top3 = []\n",
    "top4 = []\n",
    "for i in range(5):\n",
    "    top0.append(importance_[i][top_10_permute[0]])\n",
    "top0 = np.array(top0).flatten()\n",
    "for i in range(5):\n",
    "    top1.append(importance_[i][top_10_permute[1]])\n",
    "top1 = np.array(top1).flatten()\n",
    "for i in range(5):\n",
    "    top2.append(importance_[i][top_10_permute[2]])\n",
    "top2 = np.array(top2).flatten()\n",
    "for i in range(5):\n",
    "    top3.append(importance_[i][top_10_permute[3]])\n",
    "top3 = np.array(top3).flatten()\n",
    "for i in range(5):\n",
    "    top4.append(importance_[i][top_10_permute[4]])\n",
    "top4 = np.array(top4).flatten()\n",
    "rank = []\n",
    "rank.append(np.median(top0))\n",
    "rank.append(np.median(top1))\n",
    "rank.append(np.median(top2))\n",
    "rank.append(np.median(top3))\n",
    "rank.append(np.median(top4))\n",
    "print(rank)\n",
    "print(np.argsort(rank))"
   ]
  },
  {
   "cell_type": "code",
   "execution_count": 9,
   "metadata": {},
   "outputs": [
    {
     "data": {
      "image/png": "[encoded data removed]",
      "text/plain": [
       "<Figure size 640x480 with 1 Axes>"
      ]
     },
     "metadata": {},
     "output_type": "display_data"
    },
    {
     "data": {
      "image/png": "[encoded data removed]",
      "text/plain": [
       "<Figure size 900x900 with 1 Axes>"
      ]
     },
     "metadata": {},
     "output_type": "display_data"
    }
   ],
   "source": [
    "fig, ax = plt.subplots()\n",
    "fig = plt.figure(figsize=(9,9))\n",
    "# 设置全局字体样式\n",
    "plt.rcParams['font.family'] = 'serif'  # 使用衬线字体\n",
    "plt.rcParams['font.weight'] = 'bold'   # 设置字体加粗\n",
    "plt.rcParams['font.serif'] = ['Times New Roman'] # 设置全局字体样式\n",
    "data = {}\n",
    "data['top0']=top1\n",
    "data['top1']=top0\n",
    "data['top2']=top3\n",
    "data['top3']=top2\n",
    "data['top4']=top4\n",
    "df=pd.DataFrame(data)\n",
    "df.insert(0,'D',None)\n",
    "sns.swarmplot(data=df,size=3,ax=ax)\n",
    "boxplots = ax.boxplot([top0, top1, top2,top3,top4], patch_artist=True,widths=0.5,\n",
    "                      boxprops=dict(linestyle='-', linewidth=1.5, color='black'),  # 盒子边框线条\n",
    "                      medianprops=dict(linestyle='-', linewidth=1.5, color='red'),  # 中位数线\n",
    "                      whiskerprops=dict(linestyle='-', linewidth=1.5, color='black'),  # 上下限线\n",
    "                      capprops=dict(linestyle='-', linewidth=1.5, color='black'))  # 末端线)\n",
    "colors = ['pink', '#90EE90', '#FFFFE0','#E6E6FA','#FFFFE0']\n",
    "# 加粗x轴\n",
    "ax.spines['bottom'].set_linewidth(3)  # 底部x轴\n",
    "ax.spines['top'].set_linewidth(3)  # 顶部x轴（如果需要）\n",
    "\n",
    "# 加粗y轴\n",
    "ax.spines['left'].set_linewidth(3)  # 左侧y轴\n",
    "ax.spines['right'].set_linewidth(3)  # 右侧y轴（如果需要）\n",
    "ax.tick_params(axis='y', labelsize=20,width=3)\n",
    "plt.xticks([])\n",
    "for patch, color in zip(boxplots['boxes'], colors):\n",
    "    patch.set_facecolor(color)\n",
    "ax.invert_yaxis()\n",
    "ax.tick_params(axis='y', labelsize=20,width=3)\n",
    "ax.tick_params(axis='x', which='both', top=False, labelbottom=False,width=3)\n",
    "plt.xticks([])\n",
    "plt.show()"
   ]
  },
  {
   "cell_type": "code",
   "execution_count": 32,
   "metadata": {},
   "outputs": [
    {
     "name": "stdout",
     "output_type": "stream",
     "text": [
      "972\n"
     ]
    }
   ],
   "source": [
    "#select a substructure id and visualize it\n",
    "for i in range(5):\n",
    "    exec('struture_id{}=top_10_permute[i]'.format(i))\n"
   ]
  },
  {
   "cell_type": "code",
   "execution_count": 26,
   "metadata": {},
   "outputs": [],
   "source": [
    "#run through all chemicals and print all chemicals that contain this substructure\n",
    "for i in range(5):\n",
    "    exec('smile{}=[]'.format(i))\n",
    "\n",
    "for i,sm in enumerate(SMILES):\n",
    "    info = {}\n",
    "    mol = Chem.MolFromSmiles(sm)\n",
    "    fp = AllChem.GetMorganFingerprintAsBitVect(mol,2,nBits=1024,bitInfo=info)\n",
    "    if struture_id0 in info:\n",
    "        smile0.append(i)\n",
    "for i,sm in enumerate(SMILES):\n",
    "    info = {}\n",
    "    mol = Chem.MolFromSmiles(sm)\n",
    "    fp = AllChem.GetMorganFingerprintAsBitVect(mol,2,nBits=1024,bitInfo=info)\n",
    "    if struture_id1 in info:\n",
    "        smile1.append(i)\n",
    "for i,sm in enumerate(SMILES):\n",
    "    info = {}\n",
    "    mol = Chem.MolFromSmiles(sm)\n",
    "    fp = AllChem.GetMorganFingerprintAsBitVect(mol,2,nBits=1024,bitInfo=info)\n",
    "    if struture_id2 in info:\n",
    "        smile2.append(i)\n",
    "for i,sm in enumerate(SMILES):\n",
    "    info = {}\n",
    "    mol = Chem.MolFromSmiles(sm)\n",
    "    fp = AllChem.GetMorganFingerprintAsBitVect(mol,2,nBits=1024,bitInfo=info)\n",
    "    if struture_id3 in info:\n",
    "        smile3.append(i)\n",
    "for i,sm in enumerate(SMILES):\n",
    "    info = {}\n",
    "    mol = Chem.MolFromSmiles(sm)\n",
    "    fp = AllChem.GetMorganFingerprintAsBitVect(mol,2,nBits=1024,bitInfo=info)\n",
    "    if struture_id4 in info:\n",
    "        smile4.append(i)"
   ]
  },
  {
   "cell_type": "code",
   "execution_count": 46,
   "metadata": {},
   "outputs": [
    {
     "name": "stdout",
     "output_type": "stream",
     "text": [
      "132\n",
      "133\n",
      "134\n",
      "135\n",
      "136\n",
      "137\n",
      "138\n",
      "139\n",
      "140\n",
      "141\n",
      "142\n",
      "143\n",
      "144\n",
      "145\n",
      "146\n",
      "171\n",
      "172\n",
      "173\n",
      "174\n"
     ]
    },
    {
     "data": {
      "image/svg+xml": [
       "<svg xmlns=\"http://www.w3.org/2000/svg\" xmlns:rdkit=\"http://www.rdkit.org/xml\" xmlns:xlink=\"http://www.w3.org/1999/xlink\" version=\"1.1\" baseProfile=\"full\" xml:space=\"preserve\" width=\"450px\" height=\"200px\" viewBox=\"0 0 450 200\">\n",
       "<!-- END OF HEADER -->\n",
       "<rect style=\"opacity:1.0;fill:#FFFFFF;stroke:none\" width=\"450.0\" height=\"200.0\" x=\"0.0\" y=\"0.0\"> </rect>\n",
       "<path class=\"bond-9 atom-9 atom-10\" d=\"M 177.4,54.0 L 202.5,97.4 L 193.7,102.4 L 171.6,64.0 Z\" style=\"fill:#4C4CFF;fill-rule:evenodd;fill-opacity:1;stroke:#4C4CFF;stroke-width:0.0px;stroke-linecap:butt;stroke-linejoin:miter;stroke-opacity:1;\"/>\n",
       "<path class=\"bond-10 atom-10 atom-11\" d=\"M 127.2,54.0 L 177.4,54.0 L 171.6,64.0 L 127.2,64.0 Z\" style=\"fill:#4C4CFF;fill-rule:evenodd;fill-opacity:1;stroke:#4C4CFF;stroke-width:0.0px;stroke-linecap:butt;stroke-linejoin:miter;stroke-opacity:1;\"/>\n",
       "<ellipse cx=\"198.1\" cy=\"99.9\" rx=\"9.4\" ry=\"9.4\" class=\"atom-9\" style=\"fill:#FF7F7F;fill-rule:evenodd;stroke:#FF7F7F;stroke-width:1.0px;stroke-linecap:butt;stroke-linejoin:miter;stroke-opacity:1\"/>\n",
       "<ellipse cx=\"174.5\" cy=\"59.0\" rx=\"9.4\" ry=\"9.4\" class=\"atom-10\" style=\"fill:#4C4CFF;fill-rule:evenodd;stroke:#4C4CFF;stroke-width:1.0px;stroke-linecap:butt;stroke-linejoin:miter;stroke-opacity:1\"/>\n",
       "<ellipse cx=\"127.2\" cy=\"59.0\" rx=\"9.4\" ry=\"9.4\" class=\"atom-11\" style=\"fill:#FF7F7F;fill-rule:evenodd;stroke:#FF7F7F;stroke-width:1.0px;stroke-linecap:butt;stroke-linejoin:miter;stroke-opacity:1\"/>\n",
       "<path class=\"bond-0 atom-0 atom-1\" d=\"M 337.2,33.1 L 318.0,76.3\" style=\"fill:none;fill-rule:evenodd;stroke:#000000;stroke-width:2.0px;stroke-linecap:butt;stroke-linejoin:miter;stroke-opacity:1\"/>\n",
       "<path class=\"bond-1 atom-1 atom-2\" d=\"M 318.0,76.3 L 358.9,99.9\" style=\"fill:none;fill-rule:evenodd;stroke:#000000;stroke-width:2.0px;stroke-linecap:butt;stroke-linejoin:miter;stroke-opacity:1\"/>\n",
       "<path class=\"bond-2 atom-2 atom-3\" d=\"M 358.9,99.9 L 318.0,123.5\" style=\"fill:none;fill-rule:evenodd;stroke:#000000;stroke-width:2.0px;stroke-linecap:butt;stroke-linejoin:miter;stroke-opacity:1\"/>\n",
       "<path class=\"bond-3 atom-3 atom-4\" d=\"M 318.0,123.5 L 273.1,138.1\" style=\"fill:none;fill-rule:evenodd;stroke:#000000;stroke-width:2.0px;stroke-linecap:butt;stroke-linejoin:miter;stroke-opacity:1\"/>\n",
       "<path class=\"bond-4 atom-4 atom-5\" d=\"M 270.5,134.6 L 264.2,154.1\" style=\"fill:none;fill-rule:evenodd;stroke:#000000;stroke-width:2.0px;stroke-linecap:butt;stroke-linejoin:miter;stroke-opacity:1\"/>\n",
       "<path class=\"bond-4 atom-4 atom-5\" d=\"M 264.2,154.1 L 257.8,173.6\" style=\"fill:none;fill-rule:evenodd;stroke:#FF0000;stroke-width:2.0px;stroke-linecap:butt;stroke-linejoin:miter;stroke-opacity:1\"/>\n",
       "<path class=\"bond-4 atom-4 atom-5\" d=\"M 277.3,136.8 L 270.9,156.3\" style=\"fill:none;fill-rule:evenodd;stroke:#000000;stroke-width:2.0px;stroke-linecap:butt;stroke-linejoin:miter;stroke-opacity:1\"/>\n",
       "<path class=\"bond-4 atom-4 atom-5\" d=\"M 270.9,156.3 L 264.6,175.8\" style=\"fill:none;fill-rule:evenodd;stroke:#FF0000;stroke-width:2.0px;stroke-linecap:butt;stroke-linejoin:miter;stroke-opacity:1\"/>\n",
       "<path class=\"bond-5 atom-4 atom-6\" d=\"M 273.1,138.1 L 262.2,123.1\" style=\"fill:none;fill-rule:evenodd;stroke:#000000;stroke-width:2.0px;stroke-linecap:butt;stroke-linejoin:miter;stroke-opacity:1\"/>\n",
       "<path class=\"bond-5 atom-4 atom-6\" d=\"M 262.2,123.1 L 251.3,108.1\" style=\"fill:none;fill-rule:evenodd;stroke:#0000FF;stroke-width:2.0px;stroke-linecap:butt;stroke-linejoin:miter;stroke-opacity:1\"/>\n",
       "<path class=\"bond-6 atom-6 atom-7\" d=\"M 251.3,91.6 L 262.2,76.7\" style=\"fill:none;fill-rule:evenodd;stroke:#0000FF;stroke-width:2.0px;stroke-linecap:butt;stroke-linejoin:miter;stroke-opacity:1\"/>\n",
       "<path class=\"bond-6 atom-6 atom-7\" d=\"M 262.2,76.7 L 273.1,61.7\" style=\"fill:none;fill-rule:evenodd;stroke:#000000;stroke-width:2.0px;stroke-linecap:butt;stroke-linejoin:miter;stroke-opacity:1\"/>\n",
       "<path class=\"bond-7 atom-7 atom-8\" d=\"M 277.3,63.0 L 270.9,43.6\" style=\"fill:none;fill-rule:evenodd;stroke:#000000;stroke-width:2.0px;stroke-linecap:butt;stroke-linejoin:miter;stroke-opacity:1\"/>\n",
       "<path class=\"bond-7 atom-7 atom-8\" d=\"M 270.9,43.6 L 264.6,24.2\" style=\"fill:none;fill-rule:evenodd;stroke:#FF0000;stroke-width:2.0px;stroke-linecap:butt;stroke-linejoin:miter;stroke-opacity:1\"/>\n",
       "<path class=\"bond-7 atom-7 atom-8\" d=\"M 270.5,65.2 L 264.2,45.8\" style=\"fill:none;fill-rule:evenodd;stroke:#000000;stroke-width:2.0px;stroke-linecap:butt;stroke-linejoin:miter;stroke-opacity:1\"/>\n",
       "<path class=\"bond-7 atom-7 atom-8\" d=\"M 264.2,45.8 L 257.9,26.4\" style=\"fill:none;fill-rule:evenodd;stroke:#FF0000;stroke-width:2.0px;stroke-linecap:butt;stroke-linejoin:miter;stroke-opacity:1\"/>\n",
       "<path class=\"bond-8 atom-6 atom-9\" d=\"M 238.7,99.9 L 218.4,99.9\" style=\"fill:none;fill-rule:evenodd;stroke:#0000FF;stroke-width:2.0px;stroke-linecap:butt;stroke-linejoin:miter;stroke-opacity:1\"/>\n",
       "<path class=\"bond-8 atom-6 atom-9\" d=\"M 218.4,99.9 L 198.1,99.9\" style=\"fill:none;fill-rule:evenodd;stroke:#000000;stroke-width:2.0px;stroke-linecap:butt;stroke-linejoin:miter;stroke-opacity:1\"/>\n",
       "<path class=\"bond-9 atom-9 atom-10\" d=\"M 198.1,99.9 L 174.5,59.0\" style=\"fill:none;fill-rule:evenodd;stroke:#000000;stroke-width:2.0px;stroke-linecap:butt;stroke-linejoin:miter;stroke-opacity:1\"/>\n",
       "<path class=\"bond-9 atom-9 atom-10\" d=\"M 189.9,99.9 L 170.4,66.1\" style=\"fill:none;fill-rule:evenodd;stroke:#000000;stroke-width:2.0px;stroke-linecap:butt;stroke-linejoin:miter;stroke-opacity:1\"/>\n",
       "<path class=\"bond-10 atom-10 atom-11\" d=\"M 174.5,59.0 L 127.2,59.0\" style=\"fill:none;fill-rule:evenodd;stroke:#000000;stroke-width:2.0px;stroke-linecap:butt;stroke-linejoin:miter;stroke-opacity:1\"/>\n",
       "<path class=\"bond-11 atom-11 atom-12\" d=\"M 127.2,59.0 L 103.6,99.9\" style=\"fill:none;fill-rule:evenodd;stroke:#000000;stroke-width:2.0px;stroke-linecap:butt;stroke-linejoin:miter;stroke-opacity:1\"/>\n",
       "<path class=\"bond-11 atom-11 atom-12\" d=\"M 131.3,66.1 L 111.8,99.9\" style=\"fill:none;fill-rule:evenodd;stroke:#000000;stroke-width:2.0px;stroke-linecap:butt;stroke-linejoin:miter;stroke-opacity:1\"/>\n",
       "<path class=\"bond-12 atom-12 atom-13\" d=\"M 103.6,99.9 L 127.2,140.8\" style=\"fill:none;fill-rule:evenodd;stroke:#000000;stroke-width:2.0px;stroke-linecap:butt;stroke-linejoin:miter;stroke-opacity:1\"/>\n",
       "<path class=\"bond-13 atom-13 atom-14\" d=\"M 127.2,140.8 L 174.5,140.8\" style=\"fill:none;fill-rule:evenodd;stroke:#000000;stroke-width:2.0px;stroke-linecap:butt;stroke-linejoin:miter;stroke-opacity:1\"/>\n",
       "<path class=\"bond-13 atom-13 atom-14\" d=\"M 131.3,133.7 L 170.4,133.7\" style=\"fill:none;fill-rule:evenodd;stroke:#000000;stroke-width:2.0px;stroke-linecap:butt;stroke-linejoin:miter;stroke-opacity:1\"/>\n",
       "<path class=\"bond-14 atom-13 atom-15\" d=\"M 127.2,140.8 L 116.7,159.2\" style=\"fill:none;fill-rule:evenodd;stroke:#000000;stroke-width:2.0px;stroke-linecap:butt;stroke-linejoin:miter;stroke-opacity:1\"/>\n",
       "<path class=\"bond-14 atom-13 atom-15\" d=\"M 116.7,159.2 L 106.1,177.5\" style=\"fill:none;fill-rule:evenodd;stroke:#00CC00;stroke-width:2.0px;stroke-linecap:butt;stroke-linejoin:miter;stroke-opacity:1\"/>\n",
       "<path class=\"bond-15 atom-11 atom-16\" d=\"M 127.2,59.0 L 116.7,40.6\" style=\"fill:none;fill-rule:evenodd;stroke:#000000;stroke-width:2.0px;stroke-linecap:butt;stroke-linejoin:miter;stroke-opacity:1\"/>\n",
       "<path class=\"bond-15 atom-11 atom-16\" d=\"M 116.7,40.6 L 106.1,22.3\" style=\"fill:none;fill-rule:evenodd;stroke:#00CC00;stroke-width:2.0px;stroke-linecap:butt;stroke-linejoin:miter;stroke-opacity:1\"/>\n",
       "<path class=\"bond-16 atom-3 atom-17\" d=\"M 318.0,123.5 L 337.2,166.7\" style=\"fill:none;fill-rule:evenodd;stroke:#000000;stroke-width:2.0px;stroke-linecap:butt;stroke-linejoin:miter;stroke-opacity:1\"/>\n",
       "<path class=\"bond-17 atom-3 atom-1\" d=\"M 318.0,123.5 L 318.0,76.3\" style=\"fill:none;fill-rule:evenodd;stroke:#000000;stroke-width:2.0px;stroke-linecap:butt;stroke-linejoin:miter;stroke-opacity:1\"/>\n",
       "<path class=\"bond-18 atom-7 atom-1\" d=\"M 273.1,61.7 L 318.0,76.3\" style=\"fill:none;fill-rule:evenodd;stroke:#000000;stroke-width:2.0px;stroke-linecap:butt;stroke-linejoin:miter;stroke-opacity:1\"/>\n",
       "<path class=\"bond-19 atom-14 atom-9\" d=\"M 174.5,140.8 L 198.1,99.9\" style=\"fill:none;fill-rule:evenodd;stroke:#000000;stroke-width:2.0px;stroke-linecap:butt;stroke-linejoin:miter;stroke-opacity:1\"/>\n",
       "<path d=\"M 356.9,98.7 L 358.9,99.9 L 356.9,101.1\" style=\"fill:none;stroke:#000000;stroke-width:2.0px;stroke-linecap:butt;stroke-linejoin:miter;stroke-opacity:1;\"/>\n",
       "<path d=\"M 275.3,137.4 L 273.1,138.1 L 272.5,137.4\" style=\"fill:none;stroke:#000000;stroke-width:2.0px;stroke-linecap:butt;stroke-linejoin:miter;stroke-opacity:1;\"/>\n",
       "<path d=\"M 272.5,62.4 L 273.1,61.7 L 275.3,62.4\" style=\"fill:none;stroke:#000000;stroke-width:2.0px;stroke-linecap:butt;stroke-linejoin:miter;stroke-opacity:1;\"/>\n",
       "<path d=\"M 175.7,61.0 L 174.5,59.0 L 172.1,59.0\" style=\"fill:none;stroke:#000000;stroke-width:2.0px;stroke-linecap:butt;stroke-linejoin:miter;stroke-opacity:1;\"/>\n",
       "<path d=\"M 104.8,97.9 L 103.6,99.9 L 104.8,101.9\" style=\"fill:none;stroke:#000000;stroke-width:2.0px;stroke-linecap:butt;stroke-linejoin:miter;stroke-opacity:1;\"/>\n",
       "<path d=\"M 172.1,140.8 L 174.5,140.8 L 175.7,138.8\" style=\"fill:none;stroke:#000000;stroke-width:2.0px;stroke-linecap:butt;stroke-linejoin:miter;stroke-opacity:1;\"/>\n",
       "<path class=\"atom-5\" d=\"M 252.4 183.1 Q 252.4 179.9, 253.9 178.1 Q 255.5 176.3, 258.5 176.3 Q 261.5 176.3, 263.0 178.1 Q 264.6 179.9, 264.6 183.1 Q 264.6 186.3, 263.0 188.2 Q 261.4 190.0, 258.5 190.0 Q 255.5 190.0, 253.9 188.2 Q 252.4 186.3, 252.4 183.1 M 258.5 188.5 Q 260.5 188.5, 261.6 187.1 Q 262.7 185.7, 262.7 183.1 Q 262.7 180.4, 261.6 179.1 Q 260.5 177.8, 258.5 177.8 Q 256.5 177.8, 255.3 179.1 Q 254.2 180.4, 254.2 183.1 Q 254.2 185.8, 255.3 187.1 Q 256.5 188.5, 258.5 188.5 \" fill=\"#FF0000\"/>\n",
       "<path class=\"atom-6\" d=\"M 242.4 93.2 L 246.8 100.3 Q 247.2 101.0, 247.9 102.3 Q 248.6 103.5, 248.6 103.6 L 248.6 93.2 L 250.4 93.2 L 250.4 106.6 L 248.6 106.6 L 243.9 98.8 Q 243.3 97.9, 242.7 96.9 Q 242.2 95.9, 242.0 95.5 L 242.0 106.6 L 240.3 106.6 L 240.3 93.2 L 242.4 93.2 \" fill=\"#0000FF\"/>\n",
       "<path class=\"atom-8\" d=\"M 252.4 16.8 Q 252.4 13.6, 253.9 11.8 Q 255.5 10.0, 258.5 10.0 Q 261.5 10.0, 263.0 11.8 Q 264.6 13.6, 264.6 16.8 Q 264.6 20.1, 263.0 21.9 Q 261.4 23.7, 258.5 23.7 Q 255.5 23.7, 253.9 21.9 Q 252.4 20.1, 252.4 16.8 M 258.5 22.2 Q 260.5 22.2, 261.6 20.9 Q 262.7 19.5, 262.7 16.8 Q 262.7 14.2, 261.6 12.9 Q 260.5 11.5, 258.5 11.5 Q 256.5 11.5, 255.3 12.8 Q 254.2 14.2, 254.2 16.8 Q 254.2 19.5, 255.3 20.9 Q 256.5 22.2, 258.5 22.2 \" fill=\"#FF0000\"/>\n",
       "<path class=\"atom-15\" d=\"M 91.1 182.2 Q 91.1 178.8, 92.6 177.1 Q 94.2 175.3, 97.2 175.3 Q 99.9 175.3, 101.4 177.3 L 100.2 178.3 Q 99.1 176.9, 97.2 176.9 Q 95.1 176.9, 94.1 178.3 Q 93.0 179.6, 93.0 182.2 Q 93.0 184.8, 94.1 186.2 Q 95.2 187.5, 97.4 187.5 Q 98.9 187.5, 100.6 186.6 L 101.1 188.1 Q 100.4 188.5, 99.3 188.8 Q 98.3 189.0, 97.1 189.0 Q 94.2 189.0, 92.6 187.3 Q 91.1 185.5, 91.1 182.2 \" fill=\"#00CC00\"/>\n",
       "<path class=\"atom-15\" d=\"M 102.8 174.5 L 104.5 174.5 L 104.5 188.9 L 102.8 188.9 L 102.8 174.5 \" fill=\"#00CC00\"/>\n",
       "<path class=\"atom-16\" d=\"M 91.1 18.6 Q 91.1 15.2, 92.6 13.5 Q 94.2 11.7, 97.2 11.7 Q 99.9 11.7, 101.4 13.7 L 100.2 14.7 Q 99.1 13.3, 97.2 13.3 Q 95.1 13.3, 94.1 14.6 Q 93.0 16.0, 93.0 18.6 Q 93.0 21.2, 94.1 22.6 Q 95.2 23.9, 97.4 23.9 Q 98.9 23.9, 100.6 23.0 L 101.1 24.4 Q 100.4 24.9, 99.3 25.2 Q 98.3 25.4, 97.1 25.4 Q 94.2 25.4, 92.6 23.7 Q 91.1 21.9, 91.1 18.6 \" fill=\"#00CC00\"/>\n",
       "<path class=\"atom-16\" d=\"M 102.8 10.9 L 104.5 10.9 L 104.5 25.3 L 102.8 25.3 L 102.8 10.9 \" fill=\"#00CC00\"/>\n",
       "</svg>"
      ],
      "text/plain": [
       "<IPython.core.display.SVG object>"
      ]
     },
     "execution_count": 46,
     "metadata": {},
     "output_type": "execute_result"
    }
   ],
   "source": [
    "#select one molecule from above and visualize the important substructure\n",
    "sm0 = SMILES[smile0[0]]\n",
    "# for i in smile1:\n",
    "#     print(i)\n",
    "sm1 = SMILES[smile1[0]]\n",
    "sm2 = SMILES[smile2[0]]\n",
    "# for i in smile2:\n",
    "#     print(i)\n",
    "sm3 = SMILES[smile3[0]]\n",
    "sm4 = SMILES[smile4[-1]]\n",
    "for i in smile4:\n",
    "    print(i)\n",
    "mol0 = Chem.MolFromSmiles(sm0)\n",
    "mol1 = Chem.MolFromSmiles(sm1)\n",
    "mol2 = Chem.MolFromSmiles(sm2)\n",
    "mol3 = Chem.MolFromSmiles(sm3)\n",
    "mol4 = Chem.MolFromSmiles(sm4)\n",
    "\n",
    "depictBit(struture_id0,mol0)"
   ]
  },
  {
   "cell_type": "code",
   "execution_count": 34,
   "metadata": {},
   "outputs": [
    {
     "data": {
      "image/svg+xml": [
       "<svg xmlns=\"http://www.w3.org/2000/svg\" xmlns:rdkit=\"http://www.rdkit.org/xml\" xmlns:xlink=\"http://www.w3.org/1999/xlink\" version=\"1.1\" baseProfile=\"full\" xml:space=\"preserve\" width=\"450px\" height=\"200px\" viewBox=\"0 0 450 200\">\n",
       "<!-- END OF HEADER -->\n",
       "<rect style=\"opacity:1.0;fill:#FFFFFF;stroke:none\" width=\"450.0\" height=\"200.0\" x=\"0.0\" y=\"0.0\"> </rect>\n",
       "<path class=\"bond-16 atom-0 atom-4\" d=\"M 111.2,112.6 L 116.8,123.2 L 98.2,160.5 L 89.6,156.2 Z\" style=\"fill:#4C4CFF;fill-rule:evenodd;fill-opacity:1;stroke:#4C4CFF;stroke-width:0.0px;stroke-linecap:butt;stroke-linejoin:miter;stroke-opacity:1;\"/>\n",
       "<path class=\"bond-3 atom-3 atom-4\" d=\"M 111.2,112.6 L 159.4,119.8 L 158.0,129.3 L 116.8,123.2 Z\" style=\"fill:#4C4CFF;fill-rule:evenodd;fill-opacity:1;stroke:#4C4CFF;stroke-width:0.0px;stroke-linecap:butt;stroke-linejoin:miter;stroke-opacity:1;\"/>\n",
       "<ellipse cx=\"93.9\" cy=\"158.4\" rx=\"9.0\" ry=\"9.0\" class=\"atom-0\" style=\"fill:#FF7F7F;fill-rule:evenodd;stroke:#FF7F7F;stroke-width:1.0px;stroke-linecap:butt;stroke-linejoin:miter;stroke-opacity:1\"/>\n",
       "<ellipse cx=\"158.7\" cy=\"124.5\" rx=\"9.0\" ry=\"9.0\" class=\"atom-3\" style=\"fill:#FF7F7F;fill-rule:evenodd;stroke:#FF7F7F;stroke-width:1.0px;stroke-linecap:butt;stroke-linejoin:miter;stroke-opacity:1\"/>\n",
       "<ellipse cx=\"114.0\" cy=\"117.9\" rx=\"9.0\" ry=\"9.0\" class=\"atom-4\" style=\"fill:#4C4CFF;fill-rule:evenodd;stroke:#4C4CFF;stroke-width:1.0px;stroke-linecap:butt;stroke-linejoin:miter;stroke-opacity:1\"/>\n",
       "<path class=\"bond-0 atom-0 atom-1\" d=\"M 93.9,158.4 L 126.2,190.0\" style=\"fill:none;fill-rule:evenodd;stroke:#000000;stroke-width:2.0px;stroke-linecap:butt;stroke-linejoin:miter;stroke-opacity:1\"/>\n",
       "<path class=\"bond-1 atom-1 atom-2\" d=\"M 126.2,190.0 L 143.0,181.2\" style=\"fill:none;fill-rule:evenodd;stroke:#000000;stroke-width:2.0px;stroke-linecap:butt;stroke-linejoin:miter;stroke-opacity:1\"/>\n",
       "<path class=\"bond-1 atom-1 atom-2\" d=\"M 143.0,181.2 L 159.9,172.4\" style=\"fill:none;fill-rule:evenodd;stroke:#0000FF;stroke-width:2.0px;stroke-linecap:butt;stroke-linejoin:miter;stroke-opacity:1\"/>\n",
       "<path class=\"bond-2 atom-2 atom-3\" d=\"M 164.9,161.2 L 161.8,142.9\" style=\"fill:none;fill-rule:evenodd;stroke:#0000FF;stroke-width:2.0px;stroke-linecap:butt;stroke-linejoin:miter;stroke-opacity:1\"/>\n",
       "<path class=\"bond-2 atom-2 atom-3\" d=\"M 161.8,142.9 L 158.7,124.5\" style=\"fill:none;fill-rule:evenodd;stroke:#000000;stroke-width:2.0px;stroke-linecap:butt;stroke-linejoin:miter;stroke-opacity:1\"/>\n",
       "<path class=\"bond-3 atom-3 atom-4\" d=\"M 158.7,124.5 L 139.5,121.7\" style=\"fill:none;fill-rule:evenodd;stroke:#000000;stroke-width:2.0px;stroke-linecap:butt;stroke-linejoin:miter;stroke-opacity:1\"/>\n",
       "<path class=\"bond-3 atom-3 atom-4\" d=\"M 139.5,121.7 L 120.3,118.9\" style=\"fill:none;fill-rule:evenodd;stroke:#0000FF;stroke-width:2.0px;stroke-linecap:butt;stroke-linejoin:miter;stroke-opacity:1\"/>\n",
       "<path class=\"bond-3 atom-3 atom-4\" d=\"M 152.8,130.5 L 136.1,128.0\" style=\"fill:none;fill-rule:evenodd;stroke:#000000;stroke-width:2.0px;stroke-linecap:butt;stroke-linejoin:miter;stroke-opacity:1\"/>\n",
       "<path class=\"bond-3 atom-3 atom-4\" d=\"M 136.1,128.0 L 119.4,125.6\" style=\"fill:none;fill-rule:evenodd;stroke:#0000FF;stroke-width:2.0px;stroke-linecap:butt;stroke-linejoin:miter;stroke-opacity:1\"/>\n",
       "<path class=\"bond-4 atom-3 atom-5\" d=\"M 158.7,124.5 L 171.3,111.6\" style=\"fill:none;fill-rule:evenodd;stroke:#000000;stroke-width:2.0px;stroke-linecap:butt;stroke-linejoin:miter;stroke-opacity:1\"/>\n",
       "<path class=\"bond-4 atom-3 atom-5\" d=\"M 171.3,111.6 L 184.0,98.7\" style=\"fill:none;fill-rule:evenodd;stroke:#0000FF;stroke-width:2.0px;stroke-linecap:butt;stroke-linejoin:miter;stroke-opacity:1\"/>\n",
       "<path class=\"bond-5 atom-5 atom-6\" d=\"M 188.1,84.4 L 180.4,56.6\" style=\"fill:none;fill-rule:evenodd;stroke:#0000FF;stroke-width:2.0px;stroke-linecap:butt;stroke-linejoin:miter;stroke-opacity:1\"/>\n",
       "<path class=\"bond-6 atom-6 atom-7\" d=\"M 188.4,43.2 L 196.6,34.8\" style=\"fill:none;fill-rule:evenodd;stroke:#0000FF;stroke-width:2.0px;stroke-linecap:butt;stroke-linejoin:miter;stroke-opacity:1\"/>\n",
       "<path class=\"bond-6 atom-6 atom-7\" d=\"M 196.6,34.8 L 204.9,26.4\" style=\"fill:none;fill-rule:evenodd;stroke:#FF0000;stroke-width:2.0px;stroke-linecap:butt;stroke-linejoin:miter;stroke-opacity:1\"/>\n",
       "<path class=\"bond-6 atom-6 atom-7\" d=\"M 183.6,38.4 L 191.8,30.0\" style=\"fill:none;fill-rule:evenodd;stroke:#0000FF;stroke-width:2.0px;stroke-linecap:butt;stroke-linejoin:miter;stroke-opacity:1\"/>\n",
       "<path class=\"bond-6 atom-6 atom-7\" d=\"M 191.8,30.0 L 200.0,21.6\" style=\"fill:none;fill-rule:evenodd;stroke:#FF0000;stroke-width:2.0px;stroke-linecap:butt;stroke-linejoin:miter;stroke-opacity:1\"/>\n",
       "<path class=\"bond-7 atom-6 atom-8\" d=\"M 171.8,47.1 L 156.8,43.2\" style=\"fill:none;fill-rule:evenodd;stroke:#0000FF;stroke-width:2.0px;stroke-linecap:butt;stroke-linejoin:miter;stroke-opacity:1\"/>\n",
       "<path class=\"bond-7 atom-6 atom-8\" d=\"M 156.8,43.2 L 141.8,39.4\" style=\"fill:none;fill-rule:evenodd;stroke:#FF0000;stroke-width:2.0px;stroke-linecap:butt;stroke-linejoin:miter;stroke-opacity:1\"/>\n",
       "<path class=\"bond-8 atom-2 atom-9\" d=\"M 172.6,172.2 L 189.6,180.7\" style=\"fill:none;fill-rule:evenodd;stroke:#0000FF;stroke-width:2.0px;stroke-linecap:butt;stroke-linejoin:miter;stroke-opacity:1\"/>\n",
       "<path class=\"bond-8 atom-2 atom-9\" d=\"M 189.6,180.7 L 206.7,189.2\" style=\"fill:none;fill-rule:evenodd;stroke:#000000;stroke-width:2.0px;stroke-linecap:butt;stroke-linejoin:miter;stroke-opacity:1\"/>\n",
       "<path class=\"bond-9 atom-9 atom-10\" d=\"M 206.7,189.2 L 244.3,164.2\" style=\"fill:none;fill-rule:evenodd;stroke:#000000;stroke-width:2.0px;stroke-linecap:butt;stroke-linejoin:miter;stroke-opacity:1\"/>\n",
       "<path class=\"bond-10 atom-10 atom-11\" d=\"M 244.3,164.2 L 284.8,184.3\" style=\"fill:none;fill-rule:evenodd;stroke:#000000;stroke-width:2.0px;stroke-linecap:butt;stroke-linejoin:miter;stroke-opacity:1\"/>\n",
       "<path class=\"bond-10 atom-10 atom-11\" d=\"M 250.8,159.9 L 284.3,176.5\" style=\"fill:none;fill-rule:evenodd;stroke:#000000;stroke-width:2.0px;stroke-linecap:butt;stroke-linejoin:miter;stroke-opacity:1\"/>\n",
       "<path class=\"bond-11 atom-11 atom-12\" d=\"M 284.8,184.3 L 300.4,173.9\" style=\"fill:none;fill-rule:evenodd;stroke:#000000;stroke-width:2.0px;stroke-linecap:butt;stroke-linejoin:miter;stroke-opacity:1\"/>\n",
       "<path class=\"bond-11 atom-11 atom-12\" d=\"M 300.4,173.9 L 316.1,163.5\" style=\"fill:none;fill-rule:evenodd;stroke:#0000FF;stroke-width:2.0px;stroke-linecap:butt;stroke-linejoin:miter;stroke-opacity:1\"/>\n",
       "<path class=\"bond-12 atom-12 atom-13\" d=\"M 321.9,151.4 L 320.8,132.8\" style=\"fill:none;fill-rule:evenodd;stroke:#0000FF;stroke-width:2.0px;stroke-linecap:butt;stroke-linejoin:miter;stroke-opacity:1\"/>\n",
       "<path class=\"bond-12 atom-12 atom-13\" d=\"M 320.8,132.8 L 319.6,114.2\" style=\"fill:none;fill-rule:evenodd;stroke:#000000;stroke-width:2.0px;stroke-linecap:butt;stroke-linejoin:miter;stroke-opacity:1\"/>\n",
       "<path class=\"bond-12 atom-12 atom-13\" d=\"M 315.2,151.8 L 314.1,135.2\" style=\"fill:none;fill-rule:evenodd;stroke:#0000FF;stroke-width:2.0px;stroke-linecap:butt;stroke-linejoin:miter;stroke-opacity:1\"/>\n",
       "<path class=\"bond-12 atom-12 atom-13\" d=\"M 314.1,135.2 L 313.1,118.5\" style=\"fill:none;fill-rule:evenodd;stroke:#000000;stroke-width:2.0px;stroke-linecap:butt;stroke-linejoin:miter;stroke-opacity:1\"/>\n",
       "<path class=\"bond-13 atom-13 atom-14\" d=\"M 319.6,114.2 L 279.1,94.1\" style=\"fill:none;fill-rule:evenodd;stroke:#000000;stroke-width:2.0px;stroke-linecap:butt;stroke-linejoin:miter;stroke-opacity:1\"/>\n",
       "<path class=\"bond-14 atom-14 atom-15\" d=\"M 279.1,94.1 L 241.5,119.1\" style=\"fill:none;fill-rule:evenodd;stroke:#000000;stroke-width:2.0px;stroke-linecap:butt;stroke-linejoin:miter;stroke-opacity:1\"/>\n",
       "<path class=\"bond-14 atom-14 atom-15\" d=\"M 279.6,101.9 L 248.5,122.6\" style=\"fill:none;fill-rule:evenodd;stroke:#000000;stroke-width:2.0px;stroke-linecap:butt;stroke-linejoin:miter;stroke-opacity:1\"/>\n",
       "<path class=\"bond-15 atom-13 atom-16\" d=\"M 319.6,114.2 L 335.2,103.9\" style=\"fill:none;fill-rule:evenodd;stroke:#000000;stroke-width:2.0px;stroke-linecap:butt;stroke-linejoin:miter;stroke-opacity:1\"/>\n",
       "<path class=\"bond-15 atom-13 atom-16\" d=\"M 335.2,103.9 L 350.8,93.5\" style=\"fill:none;fill-rule:evenodd;stroke:#00CC00;stroke-width:2.0px;stroke-linecap:butt;stroke-linejoin:miter;stroke-opacity:1\"/>\n",
       "<path class=\"bond-16 atom-4 atom-0\" d=\"M 110.1,125.8 L 102.0,142.1\" style=\"fill:none;fill-rule:evenodd;stroke:#0000FF;stroke-width:2.0px;stroke-linecap:butt;stroke-linejoin:miter;stroke-opacity:1\"/>\n",
       "<path class=\"bond-16 atom-4 atom-0\" d=\"M 102.0,142.1 L 93.9,158.4\" style=\"fill:none;fill-rule:evenodd;stroke:#000000;stroke-width:2.0px;stroke-linecap:butt;stroke-linejoin:miter;stroke-opacity:1\"/>\n",
       "<path class=\"bond-17 atom-15 atom-10\" d=\"M 241.5,119.1 L 244.3,164.2\" style=\"fill:none;fill-rule:evenodd;stroke:#000000;stroke-width:2.0px;stroke-linecap:butt;stroke-linejoin:miter;stroke-opacity:1\"/>\n",
       "<path d=\"M 95.5,160.0 L 93.9,158.4 L 94.3,157.6\" style=\"fill:none;stroke:#000000;stroke-width:2.0px;stroke-linecap:butt;stroke-linejoin:miter;stroke-opacity:1;\"/>\n",
       "<path d=\"M 124.6,188.4 L 126.2,190.0 L 127.0,189.6\" style=\"fill:none;stroke:#000000;stroke-width:2.0px;stroke-linecap:butt;stroke-linejoin:miter;stroke-opacity:1;\"/>\n",
       "<path d=\"M 205.8,188.8 L 206.7,189.2 L 208.6,187.9\" style=\"fill:none;stroke:#000000;stroke-width:2.0px;stroke-linecap:butt;stroke-linejoin:miter;stroke-opacity:1;\"/>\n",
       "<path d=\"M 282.8,183.3 L 284.8,184.3 L 285.6,183.8\" style=\"fill:none;stroke:#000000;stroke-width:2.0px;stroke-linecap:butt;stroke-linejoin:miter;stroke-opacity:1;\"/>\n",
       "<path d=\"M 281.2,95.1 L 279.1,94.1 L 277.3,95.4\" style=\"fill:none;stroke:#000000;stroke-width:2.0px;stroke-linecap:butt;stroke-linejoin:miter;stroke-opacity:1;\"/>\n",
       "<path d=\"M 243.4,117.9 L 241.5,119.1 L 241.6,121.4\" style=\"fill:none;stroke:#000000;stroke-width:2.0px;stroke-linecap:butt;stroke-linejoin:miter;stroke-opacity:1;\"/>\n",
       "<path class=\"atom-2\" d=\"M 163.4 162.7 L 167.6 169.5 Q 168.0 170.1, 168.7 171.3 Q 169.3 172.6, 169.4 172.6 L 169.4 162.7 L 171.1 162.7 L 171.1 175.5 L 169.3 175.5 L 164.8 168.1 Q 164.3 167.2, 163.7 166.2 Q 163.2 165.2, 163.0 164.9 L 163.0 175.5 L 161.4 175.5 L 161.4 162.7 L 163.4 162.7 \" fill=\"#0000FF\"/>\n",
       "<path class=\"atom-4\" d=\"M 111.2 111.5 L 115.4 118.3 Q 115.8 119.0, 116.4 120.2 Q 117.1 121.4, 117.2 121.5 L 117.2 111.5 L 118.9 111.5 L 118.9 124.3 L 117.1 124.3 L 112.6 116.9 Q 112.1 116.0, 111.5 115.0 Q 111.0 114.0, 110.8 113.7 L 110.8 124.3 L 109.1 124.3 L 109.1 111.5 L 111.2 111.5 \" fill=\"#0000FF\"/>\n",
       "<path class=\"atom-5\" d=\"M 187.5 85.9 L 191.7 92.6 Q 192.1 93.3, 192.8 94.5 Q 193.4 95.7, 193.5 95.8 L 193.5 85.9 L 195.2 85.9 L 195.2 98.7 L 193.4 98.7 L 188.9 91.2 Q 188.4 90.4, 187.8 89.4 Q 187.3 88.4, 187.1 88.1 L 187.1 98.7 L 185.5 98.7 L 185.5 85.9 L 187.5 85.9 \" fill=\"#0000FF\"/>\n",
       "<path class=\"atom-5\" d=\"M 197.7 85.9 L 199.4 85.9 L 199.4 91.3 L 205.9 91.3 L 205.9 85.9 L 207.7 85.9 L 207.7 98.7 L 205.9 98.7 L 205.9 92.7 L 199.4 92.7 L 199.4 98.7 L 197.7 98.7 L 197.7 85.9 \" fill=\"#0000FF\"/>\n",
       "<path class=\"atom-6\" d=\"M 175.4 42.3 L 179.5 49.1 Q 180.0 49.8, 180.6 51.0 Q 181.3 52.2, 181.3 52.3 L 181.3 42.3 L 183.0 42.3 L 183.0 55.1 L 181.3 55.1 L 176.8 47.7 Q 176.3 46.9, 175.7 45.9 Q 175.2 44.9, 175.0 44.6 L 175.0 55.1 L 173.3 55.1 L 173.3 42.3 L 175.4 42.3 \" fill=\"#0000FF\"/>\n",
       "<path class=\"atom-6\" d=\"M 185.4 44.6 L 187.7 44.6 L 187.7 42.3 L 188.7 42.3 L 188.7 44.6 L 191.0 44.6 L 191.0 45.5 L 188.7 45.5 L 188.7 47.9 L 187.7 47.9 L 187.7 45.5 L 185.4 45.5 L 185.4 44.6 \" fill=\"#0000FF\"/>\n",
       "<path class=\"atom-7\" d=\"M 203.9 16.5 Q 203.9 13.4, 205.5 11.7 Q 207.0 10.0, 209.8 10.0 Q 212.6 10.0, 214.2 11.7 Q 215.7 13.4, 215.7 16.5 Q 215.7 19.6, 214.1 21.4 Q 212.6 23.1, 209.8 23.1 Q 207.0 23.1, 205.5 21.4 Q 203.9 19.6, 203.9 16.5 M 209.8 21.7 Q 211.8 21.7, 212.8 20.4 Q 213.9 19.1, 213.9 16.5 Q 213.9 14.0, 212.8 12.7 Q 211.8 11.4, 209.8 11.4 Q 207.9 11.4, 206.8 12.7 Q 205.7 14.0, 205.7 16.5 Q 205.7 19.1, 206.8 20.4 Q 207.9 21.7, 209.8 21.7 \" fill=\"#FF0000\"/>\n",
       "<path class=\"atom-8\" d=\"M 128.6 37.5 Q 128.6 34.5, 130.1 32.7 Q 131.6 31.0, 134.4 31.0 Q 137.3 31.0, 138.8 32.7 Q 140.3 34.5, 140.3 37.5 Q 140.3 40.6, 138.8 42.4 Q 137.2 44.2, 134.4 44.2 Q 131.6 44.2, 130.1 42.4 Q 128.6 40.6, 128.6 37.5 M 134.4 42.7 Q 136.4 42.7, 137.4 41.4 Q 138.5 40.1, 138.5 37.5 Q 138.5 35.0, 137.4 33.7 Q 136.4 32.5, 134.4 32.5 Q 132.5 32.5, 131.4 33.7 Q 130.4 35.0, 130.4 37.5 Q 130.4 40.1, 131.4 41.4 Q 132.5 42.7, 134.4 42.7 \" fill=\"#FF0000\"/>\n",
       "<path class=\"atom-8\" d=\"M 142.1 33.1 L 146.5 33.1 L 146.5 34.1 L 142.1 34.1 L 142.1 33.1 \" fill=\"#FF0000\"/>\n",
       "<path class=\"atom-12\" d=\"M 319.6 152.9 L 323.8 159.7 Q 324.2 160.4, 324.9 161.6 Q 325.5 162.8, 325.6 162.9 L 325.6 152.9 L 327.3 152.9 L 327.3 165.7 L 325.5 165.7 L 321.0 158.3 Q 320.5 157.4, 319.9 156.4 Q 319.4 155.4, 319.2 155.1 L 319.2 165.7 L 317.6 165.7 L 317.6 152.9 L 319.6 152.9 \" fill=\"#0000FF\"/>\n",
       "<path class=\"atom-16\" d=\"M 352.3 89.7 Q 352.3 86.5, 353.8 84.8 Q 355.3 83.1, 358.1 83.1 Q 360.8 83.1, 362.2 85.0 L 361.0 86.0 Q 360.0 84.6, 358.1 84.6 Q 356.2 84.6, 355.2 85.9 Q 354.2 87.2, 354.2 89.7 Q 354.2 92.2, 355.2 93.5 Q 356.3 94.8, 358.3 94.8 Q 359.7 94.8, 361.4 94.0 L 361.9 95.3 Q 361.2 95.7, 360.2 96.0 Q 359.2 96.3, 358.1 96.3 Q 355.3 96.3, 353.8 94.6 Q 352.3 92.9, 352.3 89.7 \" fill=\"#00CC00\"/>\n",
       "<path class=\"atom-16\" d=\"M 363.5 82.4 L 365.1 82.4 L 365.1 96.1 L 363.5 96.1 L 363.5 82.4 \" fill=\"#00CC00\"/>\n",
       "</svg>"
      ],
      "text/plain": [
       "<IPython.core.display.SVG object>"
      ]
     },
     "execution_count": 34,
     "metadata": {},
     "output_type": "execute_result"
    }
   ],
   "source": [
    "depictBit(struture_id1,mol1)"
   ]
  },
  {
   "cell_type": "code",
   "execution_count": 35,
   "metadata": {},
   "outputs": [
    {
     "data": {
      "image/svg+xml": [
       "<svg xmlns=\"http://www.w3.org/2000/svg\" xmlns:rdkit=\"http://www.rdkit.org/xml\" xmlns:xlink=\"http://www.w3.org/1999/xlink\" version=\"1.1\" baseProfile=\"full\" xml:space=\"preserve\" width=\"450px\" height=\"200px\" viewBox=\"0 0 450 200\">\n",
       "<!-- END OF HEADER -->\n",
       "<rect style=\"opacity:1.0;fill:#FFFFFF;stroke:none\" width=\"450.0\" height=\"200.0\" x=\"0.0\" y=\"0.0\"> </rect>\n",
       "<path class=\"bond-2 atom-2 atom-3\" d=\"M 133.1,93.8 L 184.8,93.8 L 191.0,100.0 L 184.8,106.2 L 133.1,106.2 Z\" style=\"fill:#FF7F7F;fill-rule:evenodd;fill-opacity:1;stroke:#FF7F7F;stroke-width:0.0px;stroke-linecap:butt;stroke-linejoin:miter;stroke-opacity:1;\"/>\n",
       "<path class=\"bond-3 atom-3 atom-4\" d=\"M 242.7,93.8 L 248.9,100.0 L 242.7,106.2 L 197.2,106.2 L 191.0,100.0 L 197.2,93.8 Z\" style=\"fill:#4C4CFF;fill-rule:evenodd;fill-opacity:1;stroke:#4C4CFF;stroke-width:0.0px;stroke-linecap:butt;stroke-linejoin:miter;stroke-opacity:1;\"/>\n",
       "<path class=\"bond-13 atom-3 atom-14\" d=\"M 184.8,42.1 L 197.2,42.1 L 197.2,93.8 L 191.0,100.0 L 184.8,93.8 Z\" style=\"fill:#FF7F7F;fill-rule:evenodd;fill-opacity:1;stroke:#FF7F7F;stroke-width:0.0px;stroke-linecap:butt;stroke-linejoin:miter;stroke-opacity:1;\"/>\n",
       "<path class=\"bond-14 atom-3 atom-15\" d=\"M 191.0,100.0 L 197.2,106.2 L 197.2,157.9 L 184.8,157.9 L 184.8,106.2 Z\" style=\"fill:#FF7F7F;fill-rule:evenodd;fill-opacity:1;stroke:#FF7F7F;stroke-width:0.0px;stroke-linecap:butt;stroke-linejoin:miter;stroke-opacity:1;\"/>\n",
       "<path class=\"bond-4 atom-4 atom-5\" d=\"M 255.1,93.8 L 300.6,93.8 L 306.8,100.0 L 300.6,106.2 L 255.1,106.2 L 248.9,100.0 Z\" style=\"fill:#4C4CFF;fill-rule:evenodd;fill-opacity:1;stroke:#4C4CFF;stroke-width:0.0px;stroke-linecap:butt;stroke-linejoin:miter;stroke-opacity:1;\"/>\n",
       "<path class=\"bond-11 atom-4 atom-12\" d=\"M 248.9,100.0 L 255.1,106.2 L 255.1,157.9 L 242.7,157.9 L 242.7,106.2 Z\" style=\"fill:#4C4CFF;fill-rule:evenodd;fill-opacity:1;stroke:#4C4CFF;stroke-width:0.0px;stroke-linecap:butt;stroke-linejoin:miter;stroke-opacity:1;\"/>\n",
       "<path class=\"bond-12 atom-4 atom-13\" d=\"M 242.7,42.1 L 255.1,42.1 L 255.1,93.8 L 248.9,100.0 L 242.7,93.8 Z\" style=\"fill:#4C4CFF;fill-rule:evenodd;fill-opacity:1;stroke:#4C4CFF;stroke-width:0.0px;stroke-linecap:butt;stroke-linejoin:miter;stroke-opacity:1;\"/>\n",
       "<path class=\"bond-5 atom-5 atom-6\" d=\"M 313.0,93.8 L 364.7,93.8 L 364.7,106.2 L 313.0,106.2 L 306.8,100.0 Z\" style=\"fill:#FF7F7F;fill-rule:evenodd;fill-opacity:1;stroke:#FF7F7F;stroke-width:0.0px;stroke-linecap:butt;stroke-linejoin:miter;stroke-opacity:1;\"/>\n",
       "<path class=\"bond-9 atom-5 atom-10\" d=\"M 300.6,42.1 L 313.0,42.1 L 313.0,93.8 L 306.8,100.0 L 300.6,93.8 Z\" style=\"fill:#FF7F7F;fill-rule:evenodd;fill-opacity:1;stroke:#FF7F7F;stroke-width:0.0px;stroke-linecap:butt;stroke-linejoin:miter;stroke-opacity:1;\"/>\n",
       "<path class=\"bond-10 atom-5 atom-11\" d=\"M 306.8,100.0 L 313.0,106.2 L 313.0,157.9 L 300.6,157.9 L 300.6,106.2 Z\" style=\"fill:#FF7F7F;fill-rule:evenodd;fill-opacity:1;stroke:#FF7F7F;stroke-width:0.0px;stroke-linecap:butt;stroke-linejoin:miter;stroke-opacity:1;\"/>\n",
       "<ellipse cx=\"133.1\" cy=\"100.0\" rx=\"11.6\" ry=\"11.6\" class=\"atom-2\" style=\"fill:#FF7F7F;fill-rule:evenodd;stroke:#FF7F7F;stroke-width:1.0px;stroke-linecap:butt;stroke-linejoin:miter;stroke-opacity:1\"/>\n",
       "<ellipse cx=\"191.0\" cy=\"100.0\" rx=\"11.6\" ry=\"11.6\" class=\"atom-3\" style=\"fill:#FF7F7F;fill-rule:evenodd;stroke:#FF7F7F;stroke-width:1.0px;stroke-linecap:butt;stroke-linejoin:miter;stroke-opacity:1\"/>\n",
       "<ellipse cx=\"248.9\" cy=\"100.0\" rx=\"11.6\" ry=\"11.6\" class=\"atom-4\" style=\"fill:#4C4CFF;fill-rule:evenodd;stroke:#4C4CFF;stroke-width:1.0px;stroke-linecap:butt;stroke-linejoin:miter;stroke-opacity:1\"/>\n",
       "<ellipse cx=\"306.8\" cy=\"100.0\" rx=\"11.6\" ry=\"11.6\" class=\"atom-5\" style=\"fill:#FF7F7F;fill-rule:evenodd;stroke:#FF7F7F;stroke-width:1.0px;stroke-linecap:butt;stroke-linejoin:miter;stroke-opacity:1\"/>\n",
       "<ellipse cx=\"364.7\" cy=\"100.0\" rx=\"11.6\" ry=\"11.6\" class=\"atom-6\" style=\"fill:#FF7F7F;fill-rule:evenodd;stroke:#FF7F7F;stroke-width:1.0px;stroke-linecap:butt;stroke-linejoin:miter;stroke-opacity:1\"/>\n",
       "<ellipse cx=\"306.8\" cy=\"42.1\" rx=\"11.6\" ry=\"11.6\" class=\"atom-10\" style=\"fill:#FF7F7F;fill-rule:evenodd;stroke:#FF7F7F;stroke-width:1.0px;stroke-linecap:butt;stroke-linejoin:miter;stroke-opacity:1\"/>\n",
       "<ellipse cx=\"306.8\" cy=\"157.9\" rx=\"11.6\" ry=\"11.6\" class=\"atom-11\" style=\"fill:#FF7F7F;fill-rule:evenodd;stroke:#FF7F7F;stroke-width:1.0px;stroke-linecap:butt;stroke-linejoin:miter;stroke-opacity:1\"/>\n",
       "<ellipse cx=\"248.9\" cy=\"157.9\" rx=\"11.6\" ry=\"11.6\" class=\"atom-12\" style=\"fill:#FF7F7F;fill-rule:evenodd;stroke:#FF7F7F;stroke-width:1.0px;stroke-linecap:butt;stroke-linejoin:miter;stroke-opacity:1\"/>\n",
       "<ellipse cx=\"248.9\" cy=\"42.1\" rx=\"11.6\" ry=\"11.6\" class=\"atom-13\" style=\"fill:#FF7F7F;fill-rule:evenodd;stroke:#FF7F7F;stroke-width:1.0px;stroke-linecap:butt;stroke-linejoin:miter;stroke-opacity:1\"/>\n",
       "<ellipse cx=\"191.0\" cy=\"42.1\" rx=\"11.6\" ry=\"11.6\" class=\"atom-14\" style=\"fill:#FF7F7F;fill-rule:evenodd;stroke:#FF7F7F;stroke-width:1.0px;stroke-linecap:butt;stroke-linejoin:miter;stroke-opacity:1\"/>\n",
       "<ellipse cx=\"191.0\" cy=\"157.9\" rx=\"11.6\" ry=\"11.6\" class=\"atom-15\" style=\"fill:#FF7F7F;fill-rule:evenodd;stroke:#FF7F7F;stroke-width:1.0px;stroke-linecap:butt;stroke-linejoin:miter;stroke-opacity:1\"/>\n",
       "<path class=\"bond-0 atom-0 atom-1\" d=\"M 80.2,100.0 L 68.1,79.1\" style=\"fill:none;fill-rule:evenodd;stroke:#000000;stroke-width:2.0px;stroke-linecap:butt;stroke-linejoin:miter;stroke-opacity:1\"/>\n",
       "<path class=\"bond-0 atom-0 atom-1\" d=\"M 68.1,79.1 L 56.0,58.1\" style=\"fill:none;fill-rule:evenodd;stroke:#FF0000;stroke-width:2.0px;stroke-linecap:butt;stroke-linejoin:miter;stroke-opacity:1\"/>\n",
       "<path class=\"bond-0 atom-0 atom-1\" d=\"M 72.7,104.3 L 60.6,83.4\" style=\"fill:none;fill-rule:evenodd;stroke:#000000;stroke-width:2.0px;stroke-linecap:butt;stroke-linejoin:miter;stroke-opacity:1\"/>\n",
       "<path class=\"bond-0 atom-0 atom-1\" d=\"M 60.6,83.4 L 48.5,62.5\" style=\"fill:none;fill-rule:evenodd;stroke:#FF0000;stroke-width:2.0px;stroke-linecap:butt;stroke-linejoin:miter;stroke-opacity:1\"/>\n",
       "<path class=\"bond-1 atom-0 atom-2\" d=\"M 75.2,100.0 L 133.1,100.0\" style=\"fill:none;fill-rule:evenodd;stroke:#000000;stroke-width:2.0px;stroke-linecap:butt;stroke-linejoin:miter;stroke-opacity:1\"/>\n",
       "<path class=\"bond-2 atom-2 atom-3\" d=\"M 133.1,100.0 L 191.0,100.0\" style=\"fill:none;fill-rule:evenodd;stroke:#000000;stroke-width:2.0px;stroke-linecap:butt;stroke-linejoin:miter;stroke-opacity:1\"/>\n",
       "<path class=\"bond-3 atom-3 atom-4\" d=\"M 191.0,100.0 L 248.9,100.0\" style=\"fill:none;fill-rule:evenodd;stroke:#000000;stroke-width:2.0px;stroke-linecap:butt;stroke-linejoin:miter;stroke-opacity:1\"/>\n",
       "<path class=\"bond-4 atom-4 atom-5\" d=\"M 248.9,100.0 L 306.8,100.0\" style=\"fill:none;fill-rule:evenodd;stroke:#000000;stroke-width:2.0px;stroke-linecap:butt;stroke-linejoin:miter;stroke-opacity:1\"/>\n",
       "<path class=\"bond-5 atom-5 atom-6\" d=\"M 306.8,100.0 L 364.7,100.0\" style=\"fill:none;fill-rule:evenodd;stroke:#000000;stroke-width:2.0px;stroke-linecap:butt;stroke-linejoin:miter;stroke-opacity:1\"/>\n",
       "<path class=\"bond-6 atom-6 atom-7\" d=\"M 364.7,100.0 L 390.3,100.0\" style=\"fill:none;fill-rule:evenodd;stroke:#000000;stroke-width:2.0px;stroke-linecap:butt;stroke-linejoin:miter;stroke-opacity:1\"/>\n",
       "<path class=\"bond-6 atom-6 atom-7\" d=\"M 390.3,100.0 L 415.8,100.0\" style=\"fill:none;fill-rule:evenodd;stroke:#33CCCC;stroke-width:2.0px;stroke-linecap:butt;stroke-linejoin:miter;stroke-opacity:1\"/>\n",
       "<path class=\"bond-7 atom-6 atom-8\" d=\"M 364.7,100.0 L 364.7,123.9\" style=\"fill:none;fill-rule:evenodd;stroke:#000000;stroke-width:2.0px;stroke-linecap:butt;stroke-linejoin:miter;stroke-opacity:1\"/>\n",
       "<path class=\"bond-7 atom-6 atom-8\" d=\"M 364.7,123.9 L 364.7,147.8\" style=\"fill:none;fill-rule:evenodd;stroke:#33CCCC;stroke-width:2.0px;stroke-linecap:butt;stroke-linejoin:miter;stroke-opacity:1\"/>\n",
       "<path class=\"bond-8 atom-6 atom-9\" d=\"M 364.7,100.0 L 364.7,76.1\" style=\"fill:none;fill-rule:evenodd;stroke:#000000;stroke-width:2.0px;stroke-linecap:butt;stroke-linejoin:miter;stroke-opacity:1\"/>\n",
       "<path class=\"bond-8 atom-6 atom-9\" d=\"M 364.7,76.1 L 364.7,52.2\" style=\"fill:none;fill-rule:evenodd;stroke:#33CCCC;stroke-width:2.0px;stroke-linecap:butt;stroke-linejoin:miter;stroke-opacity:1\"/>\n",
       "<path class=\"bond-9 atom-5 atom-10\" d=\"M 306.8,100.0 L 306.8,76.1\" style=\"fill:none;fill-rule:evenodd;stroke:#000000;stroke-width:2.0px;stroke-linecap:butt;stroke-linejoin:miter;stroke-opacity:1\"/>\n",
       "<path class=\"bond-9 atom-5 atom-10\" d=\"M 306.8,76.1 L 306.8,52.2\" style=\"fill:none;fill-rule:evenodd;stroke:#33CCCC;stroke-width:2.0px;stroke-linecap:butt;stroke-linejoin:miter;stroke-opacity:1\"/>\n",
       "<path class=\"bond-10 atom-5 atom-11\" d=\"M 306.8,100.0 L 306.8,123.9\" style=\"fill:none;fill-rule:evenodd;stroke:#000000;stroke-width:2.0px;stroke-linecap:butt;stroke-linejoin:miter;stroke-opacity:1\"/>\n",
       "<path class=\"bond-10 atom-5 atom-11\" d=\"M 306.8,123.9 L 306.8,147.8\" style=\"fill:none;fill-rule:evenodd;stroke:#33CCCC;stroke-width:2.0px;stroke-linecap:butt;stroke-linejoin:miter;stroke-opacity:1\"/>\n",
       "<path class=\"bond-11 atom-4 atom-12\" d=\"M 248.9,100.0 L 248.9,123.9\" style=\"fill:none;fill-rule:evenodd;stroke:#000000;stroke-width:2.0px;stroke-linecap:butt;stroke-linejoin:miter;stroke-opacity:1\"/>\n",
       "<path class=\"bond-11 atom-4 atom-12\" d=\"M 248.9,123.9 L 248.9,147.8\" style=\"fill:none;fill-rule:evenodd;stroke:#33CCCC;stroke-width:2.0px;stroke-linecap:butt;stroke-linejoin:miter;stroke-opacity:1\"/>\n",
       "<path class=\"bond-12 atom-4 atom-13\" d=\"M 248.9,100.0 L 248.9,76.1\" style=\"fill:none;fill-rule:evenodd;stroke:#000000;stroke-width:2.0px;stroke-linecap:butt;stroke-linejoin:miter;stroke-opacity:1\"/>\n",
       "<path class=\"bond-12 atom-4 atom-13\" d=\"M 248.9,76.1 L 248.9,52.2\" style=\"fill:none;fill-rule:evenodd;stroke:#33CCCC;stroke-width:2.0px;stroke-linecap:butt;stroke-linejoin:miter;stroke-opacity:1\"/>\n",
       "<path class=\"bond-13 atom-3 atom-14\" d=\"M 191.0,100.0 L 191.0,76.1\" style=\"fill:none;fill-rule:evenodd;stroke:#000000;stroke-width:2.0px;stroke-linecap:butt;stroke-linejoin:miter;stroke-opacity:1\"/>\n",
       "<path class=\"bond-13 atom-3 atom-14\" d=\"M 191.0,76.1 L 191.0,52.2\" style=\"fill:none;fill-rule:evenodd;stroke:#33CCCC;stroke-width:2.0px;stroke-linecap:butt;stroke-linejoin:miter;stroke-opacity:1\"/>\n",
       "<path class=\"bond-14 atom-3 atom-15\" d=\"M 191.0,100.0 L 191.0,123.9\" style=\"fill:none;fill-rule:evenodd;stroke:#000000;stroke-width:2.0px;stroke-linecap:butt;stroke-linejoin:miter;stroke-opacity:1\"/>\n",
       "<path class=\"bond-14 atom-3 atom-15\" d=\"M 191.0,123.9 L 191.0,147.8\" style=\"fill:none;fill-rule:evenodd;stroke:#33CCCC;stroke-width:2.0px;stroke-linecap:butt;stroke-linejoin:miter;stroke-opacity:1\"/>\n",
       "<path class=\"bond-15 atom-2 atom-16\" d=\"M 133.1,100.0 L 133.1,123.9\" style=\"fill:none;fill-rule:evenodd;stroke:#000000;stroke-width:2.0px;stroke-linecap:butt;stroke-linejoin:miter;stroke-opacity:1\"/>\n",
       "<path class=\"bond-15 atom-2 atom-16\" d=\"M 133.1,123.9 L 133.1,147.8\" style=\"fill:none;fill-rule:evenodd;stroke:#33CCCC;stroke-width:2.0px;stroke-linecap:butt;stroke-linejoin:miter;stroke-opacity:1\"/>\n",
       "<path class=\"bond-16 atom-2 atom-17\" d=\"M 133.1,100.0 L 133.1,76.1\" style=\"fill:none;fill-rule:evenodd;stroke:#000000;stroke-width:2.0px;stroke-linecap:butt;stroke-linejoin:miter;stroke-opacity:1\"/>\n",
       "<path class=\"bond-16 atom-2 atom-17\" d=\"M 133.1,76.1 L 133.1,52.2\" style=\"fill:none;fill-rule:evenodd;stroke:#33CCCC;stroke-width:2.0px;stroke-linecap:butt;stroke-linejoin:miter;stroke-opacity:1\"/>\n",
       "<path class=\"bond-17 atom-0 atom-18\" d=\"M 75.2,100.0 L 63.6,120.0\" style=\"fill:none;fill-rule:evenodd;stroke:#000000;stroke-width:2.0px;stroke-linecap:butt;stroke-linejoin:miter;stroke-opacity:1\"/>\n",
       "<path class=\"bond-17 atom-0 atom-18\" d=\"M 63.6,120.0 L 52.1,139.9\" style=\"fill:none;fill-rule:evenodd;stroke:#FF0000;stroke-width:2.0px;stroke-linecap:butt;stroke-linejoin:miter;stroke-opacity:1\"/>\n",
       "<path d=\"M 78.1,100.0 L 75.2,100.0 L 74.6,101.0\" style=\"fill:none;stroke:#000000;stroke-width:2.0px;stroke-linecap:butt;stroke-linejoin:miter;stroke-opacity:1;\"/>\n",
       "<path class=\"atom-1\" d=\"M 38.7 49.9 Q 38.7 46.0, 40.6 43.8 Q 42.6 41.6, 46.2 41.6 Q 49.9 41.6, 51.8 43.8 Q 53.8 46.0, 53.8 49.9 Q 53.8 53.9, 51.8 56.2 Q 49.8 58.4, 46.2 58.4 Q 42.6 58.4, 40.6 56.2 Q 38.7 53.9, 38.7 49.9 M 46.2 56.5 Q 48.7 56.5, 50.1 54.9 Q 51.4 53.2, 51.4 49.9 Q 51.4 46.7, 50.1 45.1 Q 48.7 43.4, 46.2 43.4 Q 43.7 43.4, 42.4 45.0 Q 41.0 46.7, 41.0 49.9 Q 41.0 53.2, 42.4 54.9 Q 43.7 56.5, 46.2 56.5 \" fill=\"#FF0000\"/>\n",
       "<path class=\"atom-7\" d=\"M 417.7 91.8 L 427.5 91.8 L 427.5 93.7 L 419.9 93.7 L 419.9 98.7 L 426.7 98.7 L 426.7 100.6 L 419.9 100.6 L 419.9 108.2 L 417.7 108.2 L 417.7 91.8 \" fill=\"#33CCCC\"/>\n",
       "<path class=\"atom-8\" d=\"M 359.8 149.7 L 369.6 149.7 L 369.6 151.6 L 362.0 151.6 L 362.0 156.6 L 368.8 156.6 L 368.8 158.5 L 362.0 158.5 L 362.0 166.1 L 359.8 166.1 L 359.8 149.7 \" fill=\"#33CCCC\"/>\n",
       "<path class=\"atom-9\" d=\"M 359.8 33.9 L 369.6 33.9 L 369.6 35.8 L 362.0 35.8 L 362.0 40.7 L 368.8 40.7 L 368.8 42.6 L 362.0 42.6 L 362.0 50.3 L 359.8 50.3 L 359.8 33.9 \" fill=\"#33CCCC\"/>\n",
       "<path class=\"atom-10\" d=\"M 301.9 33.9 L 311.7 33.9 L 311.7 35.8 L 304.1 35.8 L 304.1 40.7 L 310.9 40.7 L 310.9 42.6 L 304.1 42.6 L 304.1 50.3 L 301.9 50.3 L 301.9 33.9 \" fill=\"#33CCCC\"/>\n",
       "<path class=\"atom-11\" d=\"M 301.9 149.7 L 311.7 149.7 L 311.7 151.6 L 304.1 151.6 L 304.1 156.6 L 310.9 156.6 L 310.9 158.5 L 304.1 158.5 L 304.1 166.1 L 301.9 166.1 L 301.9 149.7 \" fill=\"#33CCCC\"/>\n",
       "<path class=\"atom-12\" d=\"M 244.0 149.7 L 253.8 149.7 L 253.8 151.6 L 246.2 151.6 L 246.2 156.6 L 252.9 156.6 L 252.9 158.5 L 246.2 158.5 L 246.2 166.1 L 244.0 166.1 L 244.0 149.7 \" fill=\"#33CCCC\"/>\n",
       "<path class=\"atom-13\" d=\"M 244.0 33.9 L 253.8 33.9 L 253.8 35.8 L 246.2 35.8 L 246.2 40.7 L 252.9 40.7 L 252.9 42.6 L 246.2 42.6 L 246.2 50.3 L 244.0 50.3 L 244.0 33.9 \" fill=\"#33CCCC\"/>\n",
       "<path class=\"atom-14\" d=\"M 186.1 33.9 L 195.9 33.9 L 195.9 35.8 L 188.3 35.8 L 188.3 40.7 L 195.0 40.7 L 195.0 42.6 L 188.3 42.6 L 188.3 50.3 L 186.1 50.3 L 186.1 33.9 \" fill=\"#33CCCC\"/>\n",
       "<path class=\"atom-15\" d=\"M 186.1 149.7 L 195.9 149.7 L 195.9 151.6 L 188.3 151.6 L 188.3 156.6 L 195.0 156.6 L 195.0 158.5 L 188.3 158.5 L 188.3 166.1 L 186.1 166.1 L 186.1 149.7 \" fill=\"#33CCCC\"/>\n",
       "<path class=\"atom-16\" d=\"M 128.2 149.7 L 138.0 149.7 L 138.0 151.6 L 130.4 151.6 L 130.4 156.6 L 137.1 156.6 L 137.1 158.5 L 130.4 158.5 L 130.4 166.1 L 128.2 166.1 L 128.2 149.7 \" fill=\"#33CCCC\"/>\n",
       "<path class=\"atom-17\" d=\"M 128.2 33.9 L 138.0 33.9 L 138.0 35.8 L 130.4 35.8 L 130.4 40.7 L 137.1 40.7 L 137.1 42.6 L 130.4 42.6 L 130.4 50.3 L 128.2 50.3 L 128.2 33.9 \" fill=\"#33CCCC\"/>\n",
       "<path class=\"atom-18\" d=\"M 22.5 142.0 L 24.7 142.0 L 24.7 149.0 L 33.1 149.0 L 33.1 142.0 L 35.3 142.0 L 35.3 158.4 L 33.1 158.4 L 33.1 150.9 L 24.7 150.9 L 24.7 158.4 L 22.5 158.4 L 22.5 142.0 \" fill=\"#FF0000\"/>\n",
       "<path class=\"atom-18\" d=\"M 38.7 150.2 Q 38.7 146.3, 40.6 144.1 Q 42.6 141.9, 46.2 141.9 Q 49.9 141.9, 51.8 144.1 Q 53.8 146.3, 53.8 150.2 Q 53.8 154.2, 51.8 156.4 Q 49.8 158.7, 46.2 158.7 Q 42.6 158.7, 40.6 156.4 Q 38.7 154.2, 38.7 150.2 M 46.2 156.8 Q 48.7 156.8, 50.1 155.2 Q 51.4 153.5, 51.4 150.2 Q 51.4 147.0, 50.1 145.4 Q 48.7 143.7, 46.2 143.7 Q 43.7 143.7, 42.4 145.3 Q 41.0 147.0, 41.0 150.2 Q 41.0 153.5, 42.4 155.2 Q 43.7 156.8, 46.2 156.8 \" fill=\"#FF0000\"/>\n",
       "</svg>"
      ],
      "text/plain": [
       "<IPython.core.display.SVG object>"
      ]
     },
     "execution_count": 35,
     "metadata": {},
     "output_type": "execute_result"
    }
   ],
   "source": [
    "depictBit(struture_id2,mol2)"
   ]
  },
  {
   "cell_type": "code",
   "execution_count": 42,
   "metadata": {},
   "outputs": [
    {
     "data": {
      "image/svg+xml": [
       "<svg xmlns=\"http://www.w3.org/2000/svg\" xmlns:rdkit=\"http://www.rdkit.org/xml\" xmlns:xlink=\"http://www.w3.org/1999/xlink\" version=\"1.1\" baseProfile=\"full\" xml:space=\"preserve\" width=\"450px\" height=\"200px\" viewBox=\"0 0 450 200\">\n",
       "<!-- END OF HEADER -->\n",
       "<rect style=\"opacity:1.0;fill:#FFFFFF;stroke:none\" width=\"450.0\" height=\"200.0\" x=\"0.0\" y=\"0.0\"> </rect>\n",
       "<path class=\"bond-1 atom-1 atom-2\" d=\"M 208.2,135.0 L 251.5,135.0 L 251.5,144.8 L 208.2,144.8 L 205.4,139.9 Z\" style=\"fill:#FF7F7F;fill-rule:evenodd;fill-opacity:1;stroke:#FF7F7F;stroke-width:0.0px;stroke-linecap:butt;stroke-linejoin:miter;stroke-opacity:1;\"/>\n",
       "<path class=\"bond-2 atom-2 atom-3\" d=\"M 182.3,99.9 L 188.0,99.9 L 208.2,135.0 L 205.4,139.9 L 199.7,139.9 L 179.4,104.8 Z\" style=\"fill:#4C4CFF;fill-rule:evenodd;fill-opacity:1;stroke:#4C4CFF;stroke-width:0.0px;stroke-linecap:butt;stroke-linejoin:miter;stroke-opacity:1;\"/>\n",
       "<path class=\"bond-8 atom-2 atom-9\" d=\"M 199.7,139.9 L 205.4,139.9 L 208.2,144.8 L 186.5,182.3 L 178.0,177.4 Z\" style=\"fill:#FF7F7F;fill-rule:evenodd;fill-opacity:1;stroke:#FF7F7F;stroke-width:0.0px;stroke-linecap:butt;stroke-linejoin:miter;stroke-opacity:1;\"/>\n",
       "<path class=\"bond-3 atom-3 atom-4\" d=\"M 205.4,59.9 L 208.2,64.9 L 188.0,99.9 L 182.3,99.9 L 179.4,95.0 L 199.7,59.9 Z\" style=\"fill:#4C4CFF;fill-rule:evenodd;fill-opacity:1;stroke:#4C4CFF;stroke-width:0.0px;stroke-linecap:butt;stroke-linejoin:miter;stroke-opacity:1;\"/>\n",
       "<path class=\"bond-7 atom-3 atom-8\" d=\"M 136.1,95.0 L 179.4,95.0 L 182.3,99.9 L 179.4,104.8 L 136.1,104.8 Z\" style=\"fill:#4C4CFF;fill-rule:evenodd;fill-opacity:1;stroke:#4C4CFF;stroke-width:0.0px;stroke-linecap:butt;stroke-linejoin:miter;stroke-opacity:1;\"/>\n",
       "<path class=\"bond-4 atom-4 atom-5\" d=\"M 208.2,55.0 L 251.5,55.0 L 251.5,64.9 L 208.2,64.9 L 205.4,59.9 Z\" style=\"fill:#FF7F7F;fill-rule:evenodd;fill-opacity:1;stroke:#FF7F7F;stroke-width:0.0px;stroke-linecap:butt;stroke-linejoin:miter;stroke-opacity:1;\"/>\n",
       "<path class=\"bond-6 atom-4 atom-7\" d=\"M 186.5,17.5 L 208.2,55.0 L 205.4,59.9 L 199.7,59.9 L 178.0,22.4 Z\" style=\"fill:#FF7F7F;fill-rule:evenodd;fill-opacity:1;stroke:#FF7F7F;stroke-width:0.0px;stroke-linecap:butt;stroke-linejoin:miter;stroke-opacity:1;\"/>\n",
       "<ellipse cx=\"251.5\" cy=\"139.9\" rx=\"9.2\" ry=\"9.2\" class=\"atom-1\" style=\"fill:#FF7F7F;fill-rule:evenodd;stroke:#FF7F7F;stroke-width:1.0px;stroke-linecap:butt;stroke-linejoin:miter;stroke-opacity:1\"/>\n",
       "<ellipse cx=\"205.4\" cy=\"139.9\" rx=\"9.2\" ry=\"9.2\" class=\"atom-2\" style=\"fill:#FF7F7F;fill-rule:evenodd;stroke:#FF7F7F;stroke-width:1.0px;stroke-linecap:butt;stroke-linejoin:miter;stroke-opacity:1\"/>\n",
       "<ellipse cx=\"182.3\" cy=\"99.9\" rx=\"9.2\" ry=\"9.2\" class=\"atom-3\" style=\"fill:#4C4CFF;fill-rule:evenodd;stroke:#4C4CFF;stroke-width:1.0px;stroke-linecap:butt;stroke-linejoin:miter;stroke-opacity:1\"/>\n",
       "<ellipse cx=\"205.4\" cy=\"59.9\" rx=\"9.2\" ry=\"9.2\" class=\"atom-4\" style=\"fill:#FF7F7F;fill-rule:evenodd;stroke:#FF7F7F;stroke-width:1.0px;stroke-linecap:butt;stroke-linejoin:miter;stroke-opacity:1\"/>\n",
       "<ellipse cx=\"251.5\" cy=\"59.9\" rx=\"9.2\" ry=\"9.2\" class=\"atom-5\" style=\"fill:#FF7F7F;fill-rule:evenodd;stroke:#FF7F7F;stroke-width:1.0px;stroke-linecap:butt;stroke-linejoin:miter;stroke-opacity:1\"/>\n",
       "<ellipse cx=\"176.6\" cy=\"20.0\" rx=\"9.3\" ry=\"10.0\" class=\"atom-7\" style=\"fill:#FF7F7F;fill-rule:evenodd;stroke:#FF7F7F;stroke-width:1.0px;stroke-linecap:butt;stroke-linejoin:miter;stroke-opacity:1\"/>\n",
       "<ellipse cx=\"130.4\" cy=\"100.0\" rx=\"9.3\" ry=\"10.0\" class=\"atom-8\" style=\"fill:#FF7F7F;fill-rule:evenodd;stroke:#FF7F7F;stroke-width:1.0px;stroke-linecap:butt;stroke-linejoin:miter;stroke-opacity:1\"/>\n",
       "<ellipse cx=\"176.6\" cy=\"180.0\" rx=\"9.3\" ry=\"10.0\" class=\"atom-9\" style=\"fill:#FF7F7F;fill-rule:evenodd;stroke:#FF7F7F;stroke-width:1.0px;stroke-linecap:butt;stroke-linejoin:miter;stroke-opacity:1\"/>\n",
       "<path class=\"bond-0 atom-0 atom-1\" d=\"M 274.6,99.9 L 251.5,139.9\" style=\"fill:none;fill-rule:evenodd;stroke:#000000;stroke-width:2.0px;stroke-linecap:butt;stroke-linejoin:miter;stroke-opacity:1\"/>\n",
       "<path class=\"bond-1 atom-1 atom-2\" d=\"M 251.5,139.9 L 205.4,139.9\" style=\"fill:none;fill-rule:evenodd;stroke:#000000;stroke-width:2.0px;stroke-linecap:butt;stroke-linejoin:miter;stroke-opacity:1\"/>\n",
       "<path class=\"bond-2 atom-2 atom-3\" d=\"M 205.4,139.9 L 182.3,99.9\" style=\"fill:none;fill-rule:evenodd;stroke:#000000;stroke-width:2.0px;stroke-linecap:butt;stroke-linejoin:miter;stroke-opacity:1\"/>\n",
       "<path class=\"bond-3 atom-3 atom-4\" d=\"M 182.3,99.9 L 205.4,59.9\" style=\"fill:none;fill-rule:evenodd;stroke:#000000;stroke-width:2.0px;stroke-linecap:butt;stroke-linejoin:miter;stroke-opacity:1\"/>\n",
       "<path class=\"bond-4 atom-4 atom-5\" d=\"M 205.4,59.9 L 251.5,59.9\" style=\"fill:none;fill-rule:evenodd;stroke:#000000;stroke-width:2.0px;stroke-linecap:butt;stroke-linejoin:miter;stroke-opacity:1\"/>\n",
       "<path class=\"bond-5 atom-5 atom-6\" d=\"M 251.5,59.9 L 260.6,44.3\" style=\"fill:none;fill-rule:evenodd;stroke:#000000;stroke-width:2.0px;stroke-linecap:butt;stroke-linejoin:miter;stroke-opacity:1\"/>\n",
       "<path class=\"bond-5 atom-5 atom-6\" d=\"M 260.6,44.3 L 269.6,28.6\" style=\"fill:none;fill-rule:evenodd;stroke:#00CC00;stroke-width:2.0px;stroke-linecap:butt;stroke-linejoin:miter;stroke-opacity:1\"/>\n",
       "<path class=\"bond-6 atom-4 atom-7\" d=\"M 205.4,59.9 L 195.0,42.0\" style=\"fill:none;fill-rule:evenodd;stroke:#000000;stroke-width:2.0px;stroke-linecap:butt;stroke-linejoin:miter;stroke-opacity:1\"/>\n",
       "<path class=\"bond-6 atom-4 atom-7\" d=\"M 195.0,42.0 L 184.7,24.1\" style=\"fill:none;fill-rule:evenodd;stroke:#00CC00;stroke-width:2.0px;stroke-linecap:butt;stroke-linejoin:miter;stroke-opacity:1\"/>\n",
       "<path class=\"bond-7 atom-3 atom-8\" d=\"M 182.3,99.9 L 160.4,99.9\" style=\"fill:none;fill-rule:evenodd;stroke:#000000;stroke-width:2.0px;stroke-linecap:butt;stroke-linejoin:miter;stroke-opacity:1\"/>\n",
       "<path class=\"bond-7 atom-3 atom-8\" d=\"M 160.4,99.9 L 138.5,99.9\" style=\"fill:none;fill-rule:evenodd;stroke:#00CC00;stroke-width:2.0px;stroke-linecap:butt;stroke-linejoin:miter;stroke-opacity:1\"/>\n",
       "<path class=\"bond-8 atom-2 atom-9\" d=\"M 205.4,139.9 L 195.0,157.8\" style=\"fill:none;fill-rule:evenodd;stroke:#000000;stroke-width:2.0px;stroke-linecap:butt;stroke-linejoin:miter;stroke-opacity:1\"/>\n",
       "<path class=\"bond-8 atom-2 atom-9\" d=\"M 195.0,157.8 L 184.7,175.8\" style=\"fill:none;fill-rule:evenodd;stroke:#00CC00;stroke-width:2.0px;stroke-linecap:butt;stroke-linejoin:miter;stroke-opacity:1\"/>\n",
       "<path class=\"bond-9 atom-1 atom-10\" d=\"M 251.5,139.9 L 260.8,156.0\" style=\"fill:none;fill-rule:evenodd;stroke:#000000;stroke-width:2.0px;stroke-linecap:butt;stroke-linejoin:miter;stroke-opacity:1\"/>\n",
       "<path class=\"bond-9 atom-1 atom-10\" d=\"M 260.8,156.0 L 270.2,172.1\" style=\"fill:none;fill-rule:evenodd;stroke:#00CC00;stroke-width:2.0px;stroke-linecap:butt;stroke-linejoin:miter;stroke-opacity:1\"/>\n",
       "<path class=\"bond-10 atom-0 atom-11\" d=\"M 274.6,99.9 L 294.4,99.9\" style=\"fill:none;fill-rule:evenodd;stroke:#000000;stroke-width:2.0px;stroke-linecap:butt;stroke-linejoin:miter;stroke-opacity:1\"/>\n",
       "<path class=\"bond-10 atom-0 atom-11\" d=\"M 294.4,99.9 L 314.2,99.9\" style=\"fill:none;fill-rule:evenodd;stroke:#00CC00;stroke-width:2.0px;stroke-linecap:butt;stroke-linejoin:miter;stroke-opacity:1\"/>\n",
       "<path class=\"bond-11 atom-5 atom-0\" d=\"M 251.5,59.9 L 274.6,99.9\" style=\"fill:none;fill-rule:evenodd;stroke:#000000;stroke-width:2.0px;stroke-linecap:butt;stroke-linejoin:miter;stroke-opacity:1\"/>\n",
       "<path class=\"atom-6\" d=\"M 269.6 20.4 Q 269.6 17.1, 271.1 15.4 Q 272.6 13.7, 275.5 13.7 Q 278.2 13.7, 279.7 15.6 L 278.4 16.6 Q 277.4 15.2, 275.5 15.2 Q 273.6 15.2, 272.5 16.6 Q 271.5 17.9, 271.5 20.4 Q 271.5 23.0, 272.5 24.3 Q 273.6 25.6, 275.7 25.6 Q 277.2 25.6, 278.9 24.8 L 279.4 26.2 Q 278.7 26.6, 277.7 26.9 Q 276.6 27.1, 275.5 27.1 Q 272.6 27.1, 271.1 25.4 Q 269.6 23.6, 269.6 20.4 \" fill=\"#00CC00\"/>\n",
       "<path class=\"atom-6\" d=\"M 281.0 12.9 L 282.7 12.9 L 282.7 27.0 L 281.0 27.0 L 281.0 12.9 \" fill=\"#00CC00\"/>\n",
       "<path class=\"atom-7\" d=\"M 170.0 20.4 Q 170.0 17.1, 171.5 15.4 Q 173.1 13.7, 176.0 13.7 Q 178.7 13.7, 180.1 15.6 L 178.9 16.6 Q 177.8 15.2, 176.0 15.2 Q 174.0 15.2, 172.9 16.6 Q 171.9 17.9, 171.9 20.4 Q 171.9 23.0, 173.0 24.3 Q 174.1 25.6, 176.2 25.6 Q 177.6 25.6, 179.3 24.8 L 179.8 26.2 Q 179.1 26.6, 178.1 26.9 Q 177.1 27.1, 175.9 27.1 Q 173.1 27.1, 171.5 25.4 Q 170.0 23.6, 170.0 20.4 \" fill=\"#00CC00\"/>\n",
       "<path class=\"atom-7\" d=\"M 181.4 12.9 L 183.1 12.9 L 183.1 27.0 L 181.4 27.0 L 181.4 12.9 \" fill=\"#00CC00\"/>\n",
       "<path class=\"atom-8\" d=\"M 123.9 100.4 Q 123.9 97.1, 125.4 95.4 Q 126.9 93.7, 129.8 93.7 Q 132.5 93.7, 133.9 95.6 L 132.7 96.6 Q 131.7 95.2, 129.8 95.2 Q 127.8 95.2, 126.8 96.5 Q 125.7 97.9, 125.7 100.4 Q 125.7 103.0, 126.8 104.3 Q 127.9 105.6, 130.0 105.6 Q 131.4 105.6, 133.1 104.7 L 133.6 106.1 Q 133.0 106.6, 131.9 106.8 Q 130.9 107.1, 129.7 107.1 Q 126.9 107.1, 125.4 105.4 Q 123.9 103.6, 123.9 100.4 \" fill=\"#00CC00\"/>\n",
       "<path class=\"atom-8\" d=\"M 135.3 92.9 L 137.0 92.9 L 137.0 106.9 L 135.3 106.9 L 135.3 92.9 \" fill=\"#00CC00\"/>\n",
       "<path class=\"atom-9\" d=\"M 170.0 180.3 Q 170.0 177.1, 171.5 175.4 Q 173.1 173.7, 176.0 173.7 Q 178.7 173.7, 180.1 175.6 L 178.9 176.6 Q 177.8 175.2, 176.0 175.2 Q 174.0 175.2, 172.9 176.5 Q 171.9 177.8, 171.9 180.3 Q 171.9 182.9, 173.0 184.3 Q 174.1 185.6, 176.2 185.6 Q 177.6 185.6, 179.3 184.7 L 179.8 186.1 Q 179.1 186.5, 178.1 186.8 Q 177.1 187.1, 175.9 187.1 Q 173.1 187.1, 171.5 185.3 Q 170.0 183.6, 170.0 180.3 \" fill=\"#00CC00\"/>\n",
       "<path class=\"atom-9\" d=\"M 181.4 172.9 L 183.1 172.9 L 183.1 186.9 L 181.4 186.9 L 181.4 172.9 \" fill=\"#00CC00\"/>\n",
       "<path class=\"atom-10\" d=\"M 269.6 180.3 Q 269.6 177.1, 271.1 175.4 Q 272.6 173.7, 275.5 173.7 Q 278.2 173.7, 279.7 175.6 L 278.4 176.6 Q 277.4 175.2, 275.5 175.2 Q 273.6 175.2, 272.5 176.5 Q 271.5 177.8, 271.5 180.3 Q 271.5 182.9, 272.5 184.3 Q 273.6 185.6, 275.7 185.6 Q 277.2 185.6, 278.9 184.7 L 279.4 186.1 Q 278.7 186.5, 277.7 186.8 Q 276.6 187.1, 275.5 187.1 Q 272.6 187.1, 271.1 185.3 Q 269.6 183.6, 269.6 180.3 \" fill=\"#00CC00\"/>\n",
       "<path class=\"atom-10\" d=\"M 281.0 172.9 L 282.7 172.9 L 282.7 186.9 L 281.0 186.9 L 281.0 172.9 \" fill=\"#00CC00\"/>\n",
       "<path class=\"atom-11\" d=\"M 315.8 100.4 Q 315.8 97.1, 317.3 95.4 Q 318.8 93.7, 321.7 93.7 Q 324.4 93.7, 325.8 95.6 L 324.6 96.6 Q 323.6 95.2, 321.7 95.2 Q 319.7 95.2, 318.7 96.5 Q 317.6 97.9, 317.6 100.4 Q 317.6 103.0, 318.7 104.3 Q 319.8 105.6, 321.9 105.6 Q 323.3 105.6, 325.0 104.7 L 325.5 106.1 Q 324.9 106.6, 323.8 106.8 Q 322.8 107.1, 321.6 107.1 Q 318.8 107.1, 317.3 105.4 Q 315.8 103.6, 315.8 100.4 \" fill=\"#00CC00\"/>\n",
       "<path class=\"atom-11\" d=\"M 327.2 92.9 L 328.9 92.9 L 328.9 106.9 L 327.2 106.9 L 327.2 92.9 \" fill=\"#00CC00\"/>\n",
       "</svg>"
      ],
      "text/plain": [
       "<IPython.core.display.SVG object>"
      ]
     },
     "execution_count": 42,
     "metadata": {},
     "output_type": "execute_result"
    }
   ],
   "source": [
    "depictBit(struture_id3,mol3)"
   ]
  },
  {
   "cell_type": "code",
   "execution_count": 47,
   "metadata": {},
   "outputs": [
    {
     "data": {
      "image/svg+xml": [
       "<svg xmlns=\"http://www.w3.org/2000/svg\" xmlns:rdkit=\"http://www.rdkit.org/xml\" xmlns:xlink=\"http://www.w3.org/1999/xlink\" version=\"1.1\" baseProfile=\"full\" xml:space=\"preserve\" width=\"450px\" height=\"200px\" viewBox=\"0 0 450 200\">\n",
       "<!-- END OF HEADER -->\n",
       "<rect style=\"opacity:1.0;fill:#FFFFFF;stroke:none\" width=\"450.0\" height=\"200.0\" x=\"0.0\" y=\"0.0\"> </rect>\n",
       "<path class=\"bond-32 atom-1 atom-20\" d=\"M 298.9,66.6 L 328.3,84.8 L 328.1,89.4 L 324.1,91.5 L 294.7,73.3 Z\" style=\"fill:#FF7F7F;fill-rule:evenodd;fill-opacity:1;stroke:#FF7F7F;stroke-width:0.0px;stroke-linecap:butt;stroke-linejoin:miter;stroke-opacity:1;\"/>\n",
       "<path class=\"bond-13 atom-13 atom-14\" d=\"M 265.3,120.9 L 294.7,139.1 L 294.6,143.6 L 290.6,145.8 L 261.2,127.6 Z\" style=\"fill:#FF7F7F;fill-rule:evenodd;fill-opacity:1;stroke:#FF7F7F;stroke-width:0.0px;stroke-linecap:butt;stroke-linejoin:miter;stroke-opacity:1;\"/>\n",
       "<path class=\"bond-14 atom-14 atom-15\" d=\"M 323.2,123.8 L 327.0,126.2 L 326.9,130.7 L 298.5,146.0 L 294.6,143.6 L 294.7,139.1 Z\" style=\"fill:#4C4CFF;fill-rule:evenodd;fill-opacity:1;stroke:#4C4CFF;stroke-width:0.0px;stroke-linecap:butt;stroke-linejoin:miter;stroke-opacity:1;\"/>\n",
       "<path class=\"bond-22 atom-14 atom-23\" d=\"M 294.6,143.6 L 298.5,146.0 L 297.4,180.6 L 289.6,180.3 L 290.6,145.8 Z\" style=\"fill:#FF7F7F;fill-rule:evenodd;fill-opacity:1;stroke:#FF7F7F;stroke-width:0.0px;stroke-linecap:butt;stroke-linejoin:miter;stroke-opacity:1;\"/>\n",
       "<path class=\"bond-15 atom-15 atom-16\" d=\"M 331.0,124.0 L 358.5,141.0 L 358.4,145.5 L 354.4,147.7 L 326.9,130.7 L 327.0,126.2 Z\" style=\"fill:#4C4CFF;fill-rule:evenodd;fill-opacity:1;stroke:#4C4CFF;stroke-width:0.0px;stroke-linecap:butt;stroke-linejoin:miter;stroke-opacity:1;\"/>\n",
       "<path class=\"bond-35 atom-15 atom-20\" d=\"M 328.1,89.4 L 332.0,91.7 L 331.0,124.0 L 327.0,126.2 L 323.2,123.8 L 324.1,91.5 Z\" style=\"fill:#4C4CFF;fill-rule:evenodd;fill-opacity:1;stroke:#4C4CFF;stroke-width:0.0px;stroke-linecap:butt;stroke-linejoin:miter;stroke-opacity:1;\"/>\n",
       "<path class=\"bond-16 atom-16 atom-17\" d=\"M 388.9,124.6 L 392.7,131.5 L 362.2,147.9 L 358.4,145.5 L 358.5,141.0 Z\" style=\"fill:#FF7F7F;fill-rule:evenodd;fill-opacity:1;stroke:#FF7F7F;stroke-width:0.0px;stroke-linecap:butt;stroke-linejoin:miter;stroke-opacity:1;\"/>\n",
       "<path class=\"bond-21 atom-16 atom-22\" d=\"M 358.4,145.5 L 362.2,147.9 L 361.2,182.5 L 353.3,182.2 L 354.4,147.7 Z\" style=\"fill:#FF7F7F;fill-rule:evenodd;fill-opacity:1;stroke:#FF7F7F;stroke-width:0.0px;stroke-linecap:butt;stroke-linejoin:miter;stroke-opacity:1;\"/>\n",
       "<path class=\"bond-19 atom-19 atom-20\" d=\"M 358.7,68.4 L 362.4,75.4 L 332.0,91.7 L 328.1,89.4 L 328.3,84.8 Z\" style=\"fill:#FF7F7F;fill-rule:evenodd;fill-opacity:1;stroke:#FF7F7F;stroke-width:0.0px;stroke-linecap:butt;stroke-linejoin:miter;stroke-opacity:1;\"/>\n",
       "<ellipse cx=\"296.8\" cy=\"70.0\" rx=\"7.4\" ry=\"7.4\" class=\"atom-1\" style=\"fill:#FF7F7F;fill-rule:evenodd;stroke:#FF7F7F;stroke-width:1.0px;stroke-linecap:butt;stroke-linejoin:miter;stroke-opacity:1\"/>\n",
       "<ellipse cx=\"263.3\" cy=\"124.3\" rx=\"7.4\" ry=\"7.4\" class=\"atom-13\" style=\"fill:#FF7F7F;fill-rule:evenodd;stroke:#FF7F7F;stroke-width:1.0px;stroke-linecap:butt;stroke-linejoin:miter;stroke-opacity:1\"/>\n",
       "<ellipse cx=\"294.6\" cy=\"143.6\" rx=\"7.4\" ry=\"7.4\" class=\"atom-14\" style=\"fill:#FF7F7F;fill-rule:evenodd;stroke:#FF7F7F;stroke-width:1.0px;stroke-linecap:butt;stroke-linejoin:miter;stroke-opacity:1\"/>\n",
       "<ellipse cx=\"327.0\" cy=\"126.2\" rx=\"7.4\" ry=\"7.4\" class=\"atom-15\" style=\"fill:#4C4CFF;fill-rule:evenodd;stroke:#4C4CFF;stroke-width:1.0px;stroke-linecap:butt;stroke-linejoin:miter;stroke-opacity:1\"/>\n",
       "<ellipse cx=\"358.4\" cy=\"145.5\" rx=\"7.4\" ry=\"7.4\" class=\"atom-16\" style=\"fill:#FF7F7F;fill-rule:evenodd;stroke:#FF7F7F;stroke-width:1.0px;stroke-linecap:butt;stroke-linejoin:miter;stroke-opacity:1\"/>\n",
       "<ellipse cx=\"390.8\" cy=\"128.1\" rx=\"7.4\" ry=\"7.4\" class=\"atom-17\" style=\"fill:#FF7F7F;fill-rule:evenodd;stroke:#FF7F7F;stroke-width:1.0px;stroke-linecap:butt;stroke-linejoin:miter;stroke-opacity:1\"/>\n",
       "<ellipse cx=\"360.6\" cy=\"71.9\" rx=\"7.4\" ry=\"7.4\" class=\"atom-19\" style=\"fill:#FF7F7F;fill-rule:evenodd;stroke:#FF7F7F;stroke-width:1.0px;stroke-linecap:butt;stroke-linejoin:miter;stroke-opacity:1\"/>\n",
       "<ellipse cx=\"328.1\" cy=\"89.4\" rx=\"7.4\" ry=\"7.4\" class=\"atom-20\" style=\"fill:#FF7F7F;fill-rule:evenodd;stroke:#FF7F7F;stroke-width:1.0px;stroke-linecap:butt;stroke-linejoin:miter;stroke-opacity:1\"/>\n",
       "<ellipse cx=\"362.2\" cy=\"182.4\" rx=\"13.7\" ry=\"7.6\" class=\"atom-22\" style=\"fill:#FF7F7F;fill-rule:evenodd;stroke:#FF7F7F;stroke-width:1.0px;stroke-linecap:butt;stroke-linejoin:miter;stroke-opacity:1\"/>\n",
       "<ellipse cx=\"298.4\" cy=\"180.5\" rx=\"13.7\" ry=\"7.6\" class=\"atom-23\" style=\"fill:#FF7F7F;fill-rule:evenodd;stroke:#FF7F7F;stroke-width:1.0px;stroke-linecap:butt;stroke-linejoin:miter;stroke-opacity:1\"/>\n",
       "<path class=\"bond-0 atom-1 atom-0\" d=\"M 296.8,70.0 L 319.3,40.7 L 323.3,44.3 Z\" style=\"fill:#000000;fill-rule:evenodd;fill-opacity:1;stroke:#000000;stroke-width:0.5px;stroke-linecap:butt;stroke-linejoin:miter;stroke-opacity:1;\"/>\n",
       "<path class=\"bond-1 atom-1 atom-2\" d=\"M 296.8,70.0 L 264.4,87.4\" style=\"fill:none;fill-rule:evenodd;stroke:#000000;stroke-width:2.0px;stroke-linecap:butt;stroke-linejoin:miter;stroke-opacity:1\"/>\n",
       "<path class=\"bond-2 atom-2 atom-3\" d=\"M 264.4,87.4 L 233.0,68.1\" style=\"fill:none;fill-rule:evenodd;stroke:#000000;stroke-width:2.0px;stroke-linecap:butt;stroke-linejoin:miter;stroke-opacity:1\"/>\n",
       "<path class=\"bond-3 atom-3 atom-4\" d=\"M 233.0,68.1 L 200.6,85.5\" style=\"fill:none;fill-rule:evenodd;stroke:#000000;stroke-width:2.0px;stroke-linecap:butt;stroke-linejoin:miter;stroke-opacity:1\"/>\n",
       "<path class=\"bond-4 atom-4 atom-5\" d=\"M 200.6,85.5 L 169.3,66.2\" style=\"fill:none;fill-rule:evenodd;stroke:#000000;stroke-width:2.0px;stroke-linecap:butt;stroke-linejoin:miter;stroke-opacity:1\"/>\n",
       "<path class=\"bond-5 atom-5 atom-6\" d=\"M 169.3,66.2 L 136.8,83.6\" style=\"fill:none;fill-rule:evenodd;stroke:#000000;stroke-width:2.0px;stroke-linecap:butt;stroke-linejoin:miter;stroke-opacity:1\"/>\n",
       "<path class=\"bond-6 atom-6 atom-7\" d=\"M 139.6,82.1 L 126.2,73.9\" style=\"fill:none;fill-rule:evenodd;stroke:#000000;stroke-width:2.0px;stroke-linecap:butt;stroke-linejoin:miter;stroke-opacity:1\"/>\n",
       "<path class=\"bond-6 atom-6 atom-7\" d=\"M 126.2,73.9 L 112.9,65.7\" style=\"fill:none;fill-rule:evenodd;stroke:#FF0000;stroke-width:2.0px;stroke-linecap:butt;stroke-linejoin:miter;stroke-opacity:1\"/>\n",
       "<path class=\"bond-6 atom-6 atom-7\" d=\"M 136.7,86.8 L 123.4,78.5\" style=\"fill:none;fill-rule:evenodd;stroke:#000000;stroke-width:2.0px;stroke-linecap:butt;stroke-linejoin:miter;stroke-opacity:1\"/>\n",
       "<path class=\"bond-6 atom-6 atom-7\" d=\"M 123.4,78.5 L 110.1,70.3\" style=\"fill:none;fill-rule:evenodd;stroke:#FF0000;stroke-width:2.0px;stroke-linecap:butt;stroke-linejoin:miter;stroke-opacity:1\"/>\n",
       "<path class=\"bond-7 atom-6 atom-8\" d=\"M 136.8,83.6 L 135.7,120.4\" style=\"fill:none;fill-rule:evenodd;stroke:#000000;stroke-width:2.0px;stroke-linecap:butt;stroke-linejoin:miter;stroke-opacity:1\"/>\n",
       "<path class=\"bond-8 atom-8 atom-9\" d=\"M 135.7,120.4 L 167.1,139.8\" style=\"fill:none;fill-rule:evenodd;stroke:#000000;stroke-width:2.0px;stroke-linecap:butt;stroke-linejoin:miter;stroke-opacity:1\"/>\n",
       "<path class=\"bond-8 atom-8 atom-9\" d=\"M 141.3,117.5 L 167.3,133.5\" style=\"fill:none;fill-rule:evenodd;stroke:#000000;stroke-width:2.0px;stroke-linecap:butt;stroke-linejoin:miter;stroke-opacity:1\"/>\n",
       "<path class=\"bond-9 atom-9 atom-10\" d=\"M 167.1,139.8 L 199.5,122.4\" style=\"fill:none;fill-rule:evenodd;stroke:#000000;stroke-width:2.0px;stroke-linecap:butt;stroke-linejoin:miter;stroke-opacity:1\"/>\n",
       "<path class=\"bond-10 atom-10 atom-11\" d=\"M 199.5,122.4 L 230.8,141.7\" style=\"fill:none;fill-rule:evenodd;stroke:#000000;stroke-width:2.0px;stroke-linecap:butt;stroke-linejoin:miter;stroke-opacity:1\"/>\n",
       "<path class=\"bond-11 atom-11 atom-12\" d=\"M 228.2,140.1 L 227.7,156.0\" style=\"fill:none;fill-rule:evenodd;stroke:#000000;stroke-width:2.0px;stroke-linecap:butt;stroke-linejoin:miter;stroke-opacity:1\"/>\n",
       "<path class=\"bond-11 atom-11 atom-12\" d=\"M 227.7,156.0 L 227.2,172.0\" style=\"fill:none;fill-rule:evenodd;stroke:#FF0000;stroke-width:2.0px;stroke-linecap:butt;stroke-linejoin:miter;stroke-opacity:1\"/>\n",
       "<path class=\"bond-11 atom-11 atom-12\" d=\"M 233.6,140.2 L 233.1,156.2\" style=\"fill:none;fill-rule:evenodd;stroke:#000000;stroke-width:2.0px;stroke-linecap:butt;stroke-linejoin:miter;stroke-opacity:1\"/>\n",
       "<path class=\"bond-11 atom-11 atom-12\" d=\"M 233.1,156.2 L 232.6,172.1\" style=\"fill:none;fill-rule:evenodd;stroke:#FF0000;stroke-width:2.0px;stroke-linecap:butt;stroke-linejoin:miter;stroke-opacity:1\"/>\n",
       "<path class=\"bond-12 atom-11 atom-13\" d=\"M 230.8,141.7 L 263.3,124.3\" style=\"fill:none;fill-rule:evenodd;stroke:#000000;stroke-width:2.0px;stroke-linecap:butt;stroke-linejoin:miter;stroke-opacity:1\"/>\n",
       "<path class=\"bond-13 atom-13 atom-14\" d=\"M 263.3,124.3 L 294.6,143.6\" style=\"fill:none;fill-rule:evenodd;stroke:#000000;stroke-width:2.0px;stroke-linecap:butt;stroke-linejoin:miter;stroke-opacity:1\"/>\n",
       "<path class=\"bond-13 atom-13 atom-14\" d=\"M 268.8,121.3 L 294.8,137.4\" style=\"fill:none;fill-rule:evenodd;stroke:#000000;stroke-width:2.0px;stroke-linecap:butt;stroke-linejoin:miter;stroke-opacity:1\"/>\n",
       "<path class=\"bond-14 atom-14 atom-15\" d=\"M 294.6,143.6 L 327.0,126.2\" style=\"fill:none;fill-rule:evenodd;stroke:#000000;stroke-width:2.0px;stroke-linecap:butt;stroke-linejoin:miter;stroke-opacity:1\"/>\n",
       "<path class=\"bond-15 atom-15 atom-16\" d=\"M 327.0,126.2 L 358.4,145.5\" style=\"fill:none;fill-rule:evenodd;stroke:#000000;stroke-width:2.0px;stroke-linecap:butt;stroke-linejoin:miter;stroke-opacity:1\"/>\n",
       "<path class=\"bond-15 atom-15 atom-16\" d=\"M 332.6,123.2 L 358.6,139.3\" style=\"fill:none;fill-rule:evenodd;stroke:#000000;stroke-width:2.0px;stroke-linecap:butt;stroke-linejoin:miter;stroke-opacity:1\"/>\n",
       "<path class=\"bond-16 atom-16 atom-17\" d=\"M 358.4,145.5 L 390.8,128.1\" style=\"fill:none;fill-rule:evenodd;stroke:#000000;stroke-width:2.0px;stroke-linecap:butt;stroke-linejoin:miter;stroke-opacity:1\"/>\n",
       "<path class=\"bond-17 atom-17 atom-18\" d=\"M 390.8,128.1 L 391.9,91.3\" style=\"fill:none;fill-rule:evenodd;stroke:#000000;stroke-width:2.0px;stroke-linecap:butt;stroke-linejoin:miter;stroke-opacity:1\"/>\n",
       "<path class=\"bond-17 atom-17 atom-18\" d=\"M 385.5,124.8 L 386.4,94.2\" style=\"fill:none;fill-rule:evenodd;stroke:#000000;stroke-width:2.0px;stroke-linecap:butt;stroke-linejoin:miter;stroke-opacity:1\"/>\n",
       "<path class=\"bond-18 atom-18 atom-19\" d=\"M 391.9,91.3 L 360.6,71.9\" style=\"fill:none;fill-rule:evenodd;stroke:#000000;stroke-width:2.0px;stroke-linecap:butt;stroke-linejoin:miter;stroke-opacity:1\"/>\n",
       "<path class=\"bond-19 atom-19 atom-20\" d=\"M 360.6,71.9 L 328.1,89.4\" style=\"fill:none;fill-rule:evenodd;stroke:#000000;stroke-width:2.0px;stroke-linecap:butt;stroke-linejoin:miter;stroke-opacity:1\"/>\n",
       "<path class=\"bond-19 atom-19 atom-20\" d=\"M 360.4,78.2 L 333.5,92.6\" style=\"fill:none;fill-rule:evenodd;stroke:#000000;stroke-width:2.0px;stroke-linecap:butt;stroke-linejoin:miter;stroke-opacity:1\"/>\n",
       "<path class=\"bond-20 atom-19 atom-21\" d=\"M 360.6,71.9 L 361.0,56.9\" style=\"fill:none;fill-rule:evenodd;stroke:#000000;stroke-width:2.0px;stroke-linecap:butt;stroke-linejoin:miter;stroke-opacity:1\"/>\n",
       "<path class=\"bond-20 atom-19 atom-21\" d=\"M 361.0,56.9 L 361.5,42.0\" style=\"fill:none;fill-rule:evenodd;stroke:#00CC00;stroke-width:2.0px;stroke-linecap:butt;stroke-linejoin:miter;stroke-opacity:1\"/>\n",
       "<path class=\"bond-21 atom-16 atom-22\" d=\"M 358.4,145.5 L 357.9,160.7\" style=\"fill:none;fill-rule:evenodd;stroke:#000000;stroke-width:2.0px;stroke-linecap:butt;stroke-linejoin:miter;stroke-opacity:1\"/>\n",
       "<path class=\"bond-21 atom-16 atom-22\" d=\"M 357.9,160.7 L 357.5,175.9\" style=\"fill:none;fill-rule:evenodd;stroke:#FF0000;stroke-width:2.0px;stroke-linecap:butt;stroke-linejoin:miter;stroke-opacity:1\"/>\n",
       "<path class=\"bond-22 atom-14 atom-23\" d=\"M 294.6,143.6 L 294.1,158.8\" style=\"fill:none;fill-rule:evenodd;stroke:#000000;stroke-width:2.0px;stroke-linecap:butt;stroke-linejoin:miter;stroke-opacity:1\"/>\n",
       "<path class=\"bond-22 atom-14 atom-23\" d=\"M 294.1,158.8 L 293.7,174.0\" style=\"fill:none;fill-rule:evenodd;stroke:#FF0000;stroke-width:2.0px;stroke-linecap:butt;stroke-linejoin:miter;stroke-opacity:1\"/>\n",
       "<path class=\"bond-23 atom-10 atom-24\" d=\"M 199.5,122.4 L 200.4,137.0 L 197.7,136.9 Z\" style=\"fill:#000000;fill-rule:evenodd;fill-opacity:1;stroke:#000000;stroke-width:0.5px;stroke-linecap:butt;stroke-linejoin:miter;stroke-opacity:1;\"/>\n",
       "<path class=\"bond-23 atom-10 atom-24\" d=\"M 200.4,137.0 L 195.9,151.4 L 201.3,151.6 Z\" style=\"fill:#FF0000;fill-rule:evenodd;fill-opacity:1;stroke:#FF0000;stroke-width:0.5px;stroke-linecap:butt;stroke-linejoin:miter;stroke-opacity:1;\"/>\n",
       "<path class=\"bond-23 atom-10 atom-24\" d=\"M 200.4,137.0 L 197.7,136.9 L 195.9,151.4 Z\" style=\"fill:#FF0000;fill-rule:evenodd;fill-opacity:1;stroke:#FF0000;stroke-width:0.5px;stroke-linecap:butt;stroke-linejoin:miter;stroke-opacity:1;\"/>\n",
       "<path class=\"bond-24 atom-9 atom-25\" d=\"M 167.1,139.8 L 166.6,155.0\" style=\"fill:none;fill-rule:evenodd;stroke:#000000;stroke-width:2.0px;stroke-linecap:butt;stroke-linejoin:miter;stroke-opacity:1\"/>\n",
       "<path class=\"bond-24 atom-9 atom-25\" d=\"M 166.6,155.0 L 166.2,170.2\" style=\"fill:none;fill-rule:evenodd;stroke:#FF0000;stroke-width:2.0px;stroke-linecap:butt;stroke-linejoin:miter;stroke-opacity:1\"/>\n",
       "<path class=\"bond-25 atom-8 atom-26\" d=\"M 135.7,120.4 L 103.3,137.9\" style=\"fill:none;fill-rule:evenodd;stroke:#000000;stroke-width:2.0px;stroke-linecap:butt;stroke-linejoin:miter;stroke-opacity:1\"/>\n",
       "<path class=\"bond-26 atom-26 atom-27\" d=\"M 100.6,136.3 L 100.2,152.2\" style=\"fill:none;fill-rule:evenodd;stroke:#000000;stroke-width:2.0px;stroke-linecap:butt;stroke-linejoin:miter;stroke-opacity:1\"/>\n",
       "<path class=\"bond-26 atom-26 atom-27\" d=\"M 100.2,152.2 L 99.7,168.2\" style=\"fill:none;fill-rule:evenodd;stroke:#FF0000;stroke-width:2.0px;stroke-linecap:butt;stroke-linejoin:miter;stroke-opacity:1\"/>\n",
       "<path class=\"bond-26 atom-26 atom-27\" d=\"M 106.1,136.4 L 105.6,152.4\" style=\"fill:none;fill-rule:evenodd;stroke:#000000;stroke-width:2.0px;stroke-linecap:butt;stroke-linejoin:miter;stroke-opacity:1\"/>\n",
       "<path class=\"bond-26 atom-26 atom-27\" d=\"M 105.6,152.4 L 105.1,168.3\" style=\"fill:none;fill-rule:evenodd;stroke:#FF0000;stroke-width:2.0px;stroke-linecap:butt;stroke-linejoin:miter;stroke-opacity:1\"/>\n",
       "<path class=\"bond-27 atom-26 atom-28\" d=\"M 103.3,137.9 L 90.2,129.8\" style=\"fill:none;fill-rule:evenodd;stroke:#000000;stroke-width:2.0px;stroke-linecap:butt;stroke-linejoin:miter;stroke-opacity:1\"/>\n",
       "<path class=\"bond-27 atom-26 atom-28\" d=\"M 90.2,129.8 L 77.1,121.7\" style=\"fill:none;fill-rule:evenodd;stroke:#0000FF;stroke-width:2.0px;stroke-linecap:butt;stroke-linejoin:miter;stroke-opacity:1\"/>\n",
       "<path class=\"bond-28 atom-5 atom-29\" d=\"M 169.3,66.2 L 168.3,51.5 L 171.1,51.6 Z\" style=\"fill:#000000;fill-rule:evenodd;fill-opacity:1;stroke:#000000;stroke-width:0.5px;stroke-linecap:butt;stroke-linejoin:miter;stroke-opacity:1;\"/>\n",
       "<path class=\"bond-28 atom-5 atom-29\" d=\"M 168.3,51.5 L 172.9,37.0 L 167.4,36.9 Z\" style=\"fill:#0000FF;fill-rule:evenodd;fill-opacity:1;stroke:#0000FF;stroke-width:0.5px;stroke-linecap:butt;stroke-linejoin:miter;stroke-opacity:1;\"/>\n",
       "<path class=\"bond-28 atom-5 atom-29\" d=\"M 168.3,51.5 L 171.1,51.6 L 172.9,37.0 Z\" style=\"fill:#0000FF;fill-rule:evenodd;fill-opacity:1;stroke:#0000FF;stroke-width:0.5px;stroke-linecap:butt;stroke-linejoin:miter;stroke-opacity:1;\"/>\n",
       "<path class=\"bond-29 atom-29 atom-30\" d=\"M 165.2,26.2 L 152.1,18.1\" style=\"fill:none;fill-rule:evenodd;stroke:#0000FF;stroke-width:2.0px;stroke-linecap:butt;stroke-linejoin:miter;stroke-opacity:1\"/>\n",
       "<path class=\"bond-29 atom-29 atom-30\" d=\"M 152.1,18.1 L 139.0,10.0\" style=\"fill:none;fill-rule:evenodd;stroke:#000000;stroke-width:2.0px;stroke-linecap:butt;stroke-linejoin:miter;stroke-opacity:1\"/>\n",
       "<path class=\"bond-30 atom-29 atom-31\" d=\"M 175.5,26.6 L 189.2,19.2\" style=\"fill:none;fill-rule:evenodd;stroke:#0000FF;stroke-width:2.0px;stroke-linecap:butt;stroke-linejoin:miter;stroke-opacity:1\"/>\n",
       "<path class=\"bond-30 atom-29 atom-31\" d=\"M 189.2,19.2 L 202.8,11.9\" style=\"fill:none;fill-rule:evenodd;stroke:#000000;stroke-width:2.0px;stroke-linecap:butt;stroke-linejoin:miter;stroke-opacity:1\"/>\n",
       "<path class=\"bond-31 atom-1 atom-32\" d=\"M 296.8,70.0 L 288.0,58.9\" style=\"fill:none;fill-rule:evenodd;stroke:#000000;stroke-width:2.0px;stroke-linecap:butt;stroke-linejoin:miter;stroke-opacity:1\"/>\n",
       "<path class=\"bond-31 atom-1 atom-32\" d=\"M 288.0,58.9 L 279.2,47.7\" style=\"fill:none;fill-rule:evenodd;stroke:#FF0000;stroke-width:2.0px;stroke-linecap:butt;stroke-linejoin:miter;stroke-opacity:1\"/>\n",
       "<path class=\"bond-32 atom-20 atom-1\" d=\"M 328.1,89.4 L 296.8,70.0\" style=\"fill:none;fill-rule:evenodd;stroke:#000000;stroke-width:2.0px;stroke-linecap:butt;stroke-linejoin:miter;stroke-opacity:1\"/>\n",
       "<path class=\"bond-33 atom-13 atom-2\" d=\"M 263.3,124.3 L 264.4,87.4\" style=\"fill:none;fill-rule:evenodd;stroke:#000000;stroke-width:2.0px;stroke-linecap:butt;stroke-linejoin:miter;stroke-opacity:1\"/>\n",
       "<path class=\"bond-34 atom-10 atom-4\" d=\"M 199.5,122.4 L 200.6,85.5\" style=\"fill:none;fill-rule:evenodd;stroke:#000000;stroke-width:2.0px;stroke-linecap:butt;stroke-linejoin:miter;stroke-opacity:1\"/>\n",
       "<path class=\"bond-35 atom-20 atom-15\" d=\"M 328.1,89.4 L 327.0,126.2\" style=\"fill:none;fill-rule:evenodd;stroke:#000000;stroke-width:2.0px;stroke-linecap:butt;stroke-linejoin:miter;stroke-opacity:1\"/>\n",
       "<path class=\"bond-36 atom-2 atom-33\" d=\"M 264.4,87.4 L 250.5,98.0 L 247.9,93.2 Z\" style=\"fill:#000000;fill-rule:evenodd;fill-opacity:1;stroke:#000000;stroke-width:0.5px;stroke-linecap:butt;stroke-linejoin:miter;stroke-opacity:1;\"/>\n",
       "<path class=\"bond-37 atom-4 atom-34\" d=\"M 200.6,85.5 L 186.7,96.1 L 184.2,91.3 Z\" style=\"fill:#000000;fill-rule:evenodd;fill-opacity:1;stroke:#000000;stroke-width:0.5px;stroke-linecap:butt;stroke-linejoin:miter;stroke-opacity:1;\"/>\n",
       "<path d=\"M 234.6,69.1 L 233.0,68.1 L 231.4,69.0\" style=\"fill:none;stroke:#000000;stroke-width:2.0px;stroke-linecap:butt;stroke-linejoin:miter;stroke-opacity:1;\"/>\n",
       "<path d=\"M 170.8,67.1 L 169.3,66.2 L 167.6,67.1\" style=\"fill:none;stroke:#000000;stroke-width:2.0px;stroke-linecap:butt;stroke-linejoin:miter;stroke-opacity:1;\"/>\n",
       "<path d=\"M 138.5,82.8 L 136.8,83.6 L 136.8,85.5\" style=\"fill:none;stroke:#000000;stroke-width:2.0px;stroke-linecap:butt;stroke-linejoin:miter;stroke-opacity:1;\"/>\n",
       "<path d=\"M 229.3,140.7 L 230.8,141.7 L 232.5,140.8\" style=\"fill:none;stroke:#000000;stroke-width:2.0px;stroke-linecap:butt;stroke-linejoin:miter;stroke-opacity:1;\"/>\n",
       "<path d=\"M 389.2,128.9 L 390.8,128.1 L 390.9,126.2\" style=\"fill:none;stroke:#000000;stroke-width:2.0px;stroke-linecap:butt;stroke-linejoin:miter;stroke-opacity:1;\"/>\n",
       "<path d=\"M 391.8,93.1 L 391.9,91.3 L 390.3,90.3\" style=\"fill:none;stroke:#000000;stroke-width:2.0px;stroke-linecap:butt;stroke-linejoin:miter;stroke-opacity:1;\"/>\n",
       "<path d=\"M 104.9,137.0 L 103.3,137.9 L 102.6,137.5\" style=\"fill:none;stroke:#000000;stroke-width:2.0px;stroke-linecap:butt;stroke-linejoin:miter;stroke-opacity:1;\"/>\n",
       "<path class=\"atom-7\" d=\"M 100.7 64.3 Q 100.7 61.8, 101.9 60.4 Q 103.2 59.0, 105.5 59.0 Q 107.8 59.0, 109.0 60.4 Q 110.3 61.8, 110.3 64.3 Q 110.3 66.8, 109.0 68.3 Q 107.8 69.7, 105.5 69.7 Q 103.2 69.7, 101.9 68.3 Q 100.7 66.8, 100.7 64.3 M 105.5 68.5 Q 107.1 68.5, 107.9 67.5 Q 108.8 66.4, 108.8 64.3 Q 108.8 62.3, 107.9 61.2 Q 107.1 60.2, 105.5 60.2 Q 103.9 60.2, 103.0 61.2 Q 102.2 62.2, 102.2 64.3 Q 102.2 66.4, 103.0 67.5 Q 103.9 68.5, 105.5 68.5 \" fill=\"#FF0000\"/>\n",
       "<path class=\"atom-12\" d=\"M 224.9 178.6 Q 224.9 176.1, 226.2 174.7 Q 227.4 173.3, 229.7 173.3 Q 232.0 173.3, 233.3 174.7 Q 234.5 176.1, 234.5 178.6 Q 234.5 181.1, 233.3 182.5 Q 232.0 184.0, 229.7 184.0 Q 227.4 184.0, 226.2 182.5 Q 224.9 181.1, 224.9 178.6 M 229.7 182.8 Q 231.3 182.8, 232.2 181.7 Q 233.0 180.7, 233.0 178.6 Q 233.0 176.5, 232.2 175.5 Q 231.3 174.4, 229.7 174.4 Q 228.1 174.4, 227.3 175.5 Q 226.4 176.5, 226.4 178.6 Q 226.4 180.7, 227.3 181.7 Q 228.1 182.8, 229.7 182.8 \" fill=\"#FF0000\"/>\n",
       "<path class=\"atom-21\" d=\"M 357.6 35.4 Q 357.6 32.8, 358.9 31.5 Q 360.1 30.1, 362.4 30.1 Q 364.5 30.1, 365.7 31.6 L 364.7 32.4 Q 363.9 31.3, 362.4 31.3 Q 360.8 31.3, 360.0 32.4 Q 359.2 33.4, 359.2 35.4 Q 359.2 37.5, 360.0 38.6 Q 360.9 39.6, 362.6 39.6 Q 363.7 39.6, 365.0 38.9 L 365.5 40.0 Q 364.9 40.4, 364.1 40.6 Q 363.3 40.8, 362.3 40.8 Q 360.1 40.8, 358.9 39.4 Q 357.6 38.0, 357.6 35.4 \" fill=\"#00CC00\"/>\n",
       "<path class=\"atom-21\" d=\"M 366.8 29.5 L 368.1 29.5 L 368.1 40.7 L 366.8 40.7 L 366.8 29.5 \" fill=\"#00CC00\"/>\n",
       "<path class=\"atom-22\" d=\"M 352.5 182.4 Q 352.5 179.9, 353.7 178.5 Q 355.0 177.1, 357.3 177.1 Q 359.6 177.1, 360.8 178.5 Q 362.1 179.9, 362.1 182.4 Q 362.1 184.9, 360.8 186.4 Q 359.6 187.8, 357.3 187.8 Q 355.0 187.8, 353.7 186.4 Q 352.5 184.9, 352.5 182.4 M 357.3 186.6 Q 358.9 186.6, 359.7 185.5 Q 360.6 184.5, 360.6 182.4 Q 360.6 180.3, 359.7 179.3 Q 358.9 178.2, 357.3 178.2 Q 355.7 178.2, 354.8 179.3 Q 354.0 180.3, 354.0 182.4 Q 354.0 184.5, 354.8 185.5 Q 355.7 186.6, 357.3 186.6 \" fill=\"#FF0000\"/>\n",
       "<path class=\"atom-22\" d=\"M 363.7 177.2 L 365.1 177.2 L 365.1 181.6 L 370.4 181.6 L 370.4 177.2 L 371.8 177.2 L 371.8 187.6 L 370.4 187.6 L 370.4 182.8 L 365.1 182.8 L 365.1 187.6 L 363.7 187.6 L 363.7 177.2 \" fill=\"#FF0000\"/>\n",
       "<path class=\"atom-23\" d=\"M 288.7 180.5 Q 288.7 178.0, 289.9 176.6 Q 291.2 175.2, 293.5 175.2 Q 295.8 175.2, 297.1 176.6 Q 298.3 178.0, 298.3 180.5 Q 298.3 183.0, 297.0 184.4 Q 295.8 185.9, 293.5 185.9 Q 291.2 185.9, 289.9 184.4 Q 288.7 183.0, 288.7 180.5 M 293.5 184.7 Q 295.1 184.7, 295.9 183.6 Q 296.8 182.6, 296.8 180.5 Q 296.8 178.4, 295.9 177.4 Q 295.1 176.3, 293.5 176.3 Q 291.9 176.3, 291.0 177.4 Q 290.2 178.4, 290.2 180.5 Q 290.2 182.6, 291.0 183.6 Q 291.9 184.7, 293.5 184.7 \" fill=\"#FF0000\"/>\n",
       "<path class=\"atom-23\" d=\"M 299.9 175.3 L 301.3 175.3 L 301.3 179.7 L 306.7 179.7 L 306.7 175.3 L 308.1 175.3 L 308.1 185.7 L 306.7 185.7 L 306.7 180.9 L 301.3 180.9 L 301.3 185.7 L 299.9 185.7 L 299.9 175.3 \" fill=\"#FF0000\"/>\n",
       "<path class=\"atom-24\" d=\"M 193.6 159.2 Q 193.6 156.7, 194.8 155.3 Q 196.1 153.9, 198.4 153.9 Q 200.7 153.9, 201.9 155.3 Q 203.2 156.7, 203.2 159.2 Q 203.2 161.7, 201.9 163.2 Q 200.7 164.6, 198.4 164.6 Q 196.1 164.6, 194.8 163.2 Q 193.6 161.7, 193.6 159.2 M 198.4 163.4 Q 200.0 163.4, 200.8 162.4 Q 201.7 161.3, 201.7 159.2 Q 201.7 157.2, 200.8 156.1 Q 200.0 155.1, 198.4 155.1 Q 196.8 155.1, 195.9 156.1 Q 195.1 157.1, 195.1 159.2 Q 195.1 161.3, 195.9 162.4 Q 196.8 163.4, 198.4 163.4 \" fill=\"#FF0000\"/>\n",
       "<path class=\"atom-24\" d=\"M 204.8 154.0 L 206.2 154.0 L 206.2 158.4 L 211.6 158.4 L 211.6 154.0 L 213.0 154.0 L 213.0 164.4 L 211.6 164.4 L 211.6 159.6 L 206.2 159.6 L 206.2 164.4 L 204.8 164.4 L 204.8 154.0 \" fill=\"#FF0000\"/>\n",
       "<path class=\"atom-25\" d=\"M 161.2 176.7 Q 161.2 174.2, 162.4 172.8 Q 163.7 171.4, 166.0 171.4 Q 168.3 171.4, 169.5 172.8 Q 170.8 174.2, 170.8 176.7 Q 170.8 179.2, 169.5 180.6 Q 168.2 182.1, 166.0 182.1 Q 163.7 182.1, 162.4 180.6 Q 161.2 179.2, 161.2 176.7 M 166.0 180.9 Q 167.6 180.9, 168.4 179.8 Q 169.3 178.7, 169.3 176.7 Q 169.3 174.6, 168.4 173.6 Q 167.6 172.5, 166.0 172.5 Q 164.4 172.5, 163.5 173.6 Q 162.6 174.6, 162.6 176.7 Q 162.6 178.8, 163.5 179.8 Q 164.4 180.9, 166.0 180.9 \" fill=\"#FF0000\"/>\n",
       "<path class=\"atom-25\" d=\"M 172.4 171.5 L 173.8 171.5 L 173.8 175.9 L 179.1 175.9 L 179.1 171.5 L 180.5 171.5 L 180.5 181.9 L 179.1 181.9 L 179.1 177.1 L 173.8 177.1 L 173.8 181.9 L 172.4 181.9 L 172.4 171.5 \" fill=\"#FF0000\"/>\n",
       "<path class=\"atom-27\" d=\"M 97.4 174.7 Q 97.4 172.2, 98.6 170.8 Q 99.9 169.4, 102.2 169.4 Q 104.5 169.4, 105.7 170.8 Q 107.0 172.2, 107.0 174.7 Q 107.0 177.3, 105.7 178.7 Q 104.5 180.2, 102.2 180.2 Q 99.9 180.2, 98.6 178.7 Q 97.4 177.3, 97.4 174.7 M 102.2 179.0 Q 103.8 179.0, 104.6 177.9 Q 105.5 176.8, 105.5 174.7 Q 105.5 172.7, 104.6 171.7 Q 103.8 170.6, 102.2 170.6 Q 100.6 170.6, 99.7 171.7 Q 98.9 172.7, 98.9 174.7 Q 98.9 176.9, 99.7 177.9 Q 100.6 179.0, 102.2 179.0 \" fill=\"#FF0000\"/>\n",
       "<path class=\"atom-28\" d=\"M 51.8 113.3 L 53.2 113.3 L 53.2 117.8 L 58.6 117.8 L 58.6 113.3 L 60.0 113.3 L 60.0 123.8 L 58.6 123.8 L 58.6 118.9 L 53.2 118.9 L 53.2 123.8 L 51.8 123.8 L 51.8 113.3 \" fill=\"#0000FF\"/>\n",
       "<path class=\"atom-28\" d=\"M 62.0 123.4 Q 62.3 122.7, 62.9 122.4 Q 63.5 122.0, 64.3 122.0 Q 65.4 122.0, 66.0 122.6 Q 66.5 123.1, 66.5 124.1 Q 66.5 125.2, 65.8 126.1 Q 65.0 127.1, 63.5 128.2 L 66.7 128.2 L 66.7 129.0 L 62.0 129.0 L 62.0 128.3 Q 63.3 127.4, 64.1 126.7 Q 64.8 126.0, 65.2 125.4 Q 65.6 124.8, 65.6 124.2 Q 65.6 123.5, 65.2 123.2 Q 64.9 122.8, 64.3 122.8 Q 63.8 122.8, 63.4 123.0 Q 63.0 123.2, 62.8 123.7 L 62.0 123.4 \" fill=\"#0000FF\"/>\n",
       "<path class=\"atom-28\" d=\"M 69.7 113.3 L 73.1 118.9 Q 73.4 119.4, 74.0 120.4 Q 74.5 121.4, 74.5 121.4 L 74.5 113.3 L 75.9 113.3 L 75.9 123.8 L 74.5 123.8 L 70.8 117.7 Q 70.4 117.0, 69.9 116.2 Q 69.5 115.4, 69.4 115.1 L 69.4 123.8 L 68.0 123.8 L 68.0 113.3 L 69.7 113.3 \" fill=\"#0000FF\"/>\n",
       "<path class=\"atom-29\" d=\"M 168.1 24.1 L 171.5 29.7 Q 171.8 30.2, 172.4 31.2 Q 172.9 32.2, 172.9 32.2 L 172.9 24.1 L 174.3 24.1 L 174.3 34.6 L 172.9 34.6 L 169.2 28.5 Q 168.8 27.8, 168.3 27.0 Q 167.9 26.2, 167.8 26.0 L 167.8 34.6 L 166.4 34.6 L 166.4 24.1 L 168.1 24.1 \" fill=\"#0000FF\"/>\n",
       "<path class=\"atom-32\" d=\"M 258.9 35.9 L 260.3 35.9 L 260.3 40.4 L 265.6 40.4 L 265.6 35.9 L 267.1 35.9 L 267.1 46.4 L 265.6 46.4 L 265.6 41.5 L 260.3 41.5 L 260.3 46.4 L 258.9 46.4 L 258.9 35.9 \" fill=\"#FF0000\"/>\n",
       "<path class=\"atom-32\" d=\"M 269.2 41.1 Q 269.2 38.6, 270.4 37.2 Q 271.7 35.8, 274.0 35.8 Q 276.3 35.8, 277.5 37.2 Q 278.8 38.6, 278.8 41.1 Q 278.8 43.6, 277.5 45.1 Q 276.3 46.5, 274.0 46.5 Q 271.7 46.5, 270.4 45.1 Q 269.2 43.7, 269.2 41.1 M 274.0 45.3 Q 275.6 45.3, 276.4 44.3 Q 277.3 43.2, 277.3 41.1 Q 277.3 39.1, 276.4 38.0 Q 275.6 37.0, 274.0 37.0 Q 272.4 37.0, 271.5 38.0 Q 270.7 39.0, 270.7 41.1 Q 270.7 43.2, 271.5 44.3 Q 272.4 45.3, 274.0 45.3 \" fill=\"#FF0000\"/>\n",
       "<path class=\"atom-33\" d=\"M 238.7 93.9 L 240.1 93.9 L 240.1 98.3 L 245.4 98.3 L 245.4 93.9 L 246.8 93.9 L 246.8 104.3 L 245.4 104.3 L 245.4 99.5 L 240.1 99.5 L 240.1 104.3 L 238.7 104.3 L 238.7 93.9 \" fill=\"#000000\"/>\n",
       "<path class=\"atom-34\" d=\"M 174.9 92.0 L 176.3 92.0 L 176.3 96.4 L 181.6 96.4 L 181.6 92.0 L 183.1 92.0 L 183.1 102.4 L 181.6 102.4 L 181.6 97.6 L 176.3 97.6 L 176.3 102.4 L 174.9 102.4 L 174.9 92.0 \" fill=\"#000000\"/>\n",
       "</svg>"
      ],
      "text/plain": [
       "<IPython.core.display.SVG object>"
      ]
     },
     "execution_count": 47,
     "metadata": {},
     "output_type": "execute_result"
    }
   ],
   "source": [
    "depictBit(struture_id4,mol4)"
   ]
  },
  {
   "cell_type": "code",
   "execution_count": null,
   "metadata": {},
   "outputs": [],
   "source": []
  },
  {
   "cell_type": "code",
   "execution_count": null,
   "metadata": {},
   "outputs": [],
   "source": []
  }
 ],
 "metadata": {
  "kernelspec": {
   "display_name": "Python 3 (ipykernel)",
   "language": "python",
   "name": "python3"
  },
  "language_info": {
   "codemirror_mode": {
    "name": "ipython",
    "version": 3
   },
   "file_extension": ".py",
   "mimetype": "text/x-python",
   "name": "python",
   "nbconvert_exporter": "python",
   "pygments_lexer": "ipython3",
   "version": "3.11.5"
  }
 },
 "nbformat": 4,
 "nbformat_minor": 1
}
